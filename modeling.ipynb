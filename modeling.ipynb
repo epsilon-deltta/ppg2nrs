{
 "cells": [
  {
   "cell_type": "code",
   "execution_count": 7,
   "id": "659b6e85-c7c1-4c7b-b8e0-1058c5011932",
   "metadata": {},
   "outputs": [],
   "source": [
    "import torch\n",
    "from torch.utils.data import DataLoader\n",
    "from dataset import VitalDataset\n",
    "\n",
    "trdt  = VitalDataset('../data/pd_gy','../data/pd_gy/train.json')\n",
    "valdt = VitalDataset('../data/pd_gy','../data/pd_gy/val.json') \n",
    "tedt  = VitalDataset('../data/pd_gy','../data/pd_gy/test.json') \n",
    "\n",
    "trdl  = torch.utils.data.DataLoader(trdt,4)\n",
    "valdl  = torch.utils.data.DataLoader(valdt,4)\n",
    "tedl  = torch.utils.data.DataLoader(valdt,4)\n",
    "\n",
    "trit = iter(trdl)\n",
    "x,y  = next(trit)"
   ]
  },
  {
   "cell_type": "code",
   "execution_count": 25,
   "id": "86ae573d-1157-4008-a36d-30cc2f28c782",
   "metadata": {},
   "outputs": [],
   "source": [
    "import torchvision\n",
    "\n",
    "from torch import nn\n",
    "two23 = nn.Conv2d(2,3,3)\n",
    "\n",
    "pre_backbone = torchvision.models.resnet34(pretrained=False)\n",
    "post_backbone = torchvision.models.resnet34(pretrained=False)"
   ]
  },
  {
   "cell_type": "code",
   "execution_count": 56,
   "id": "1ccc014e-360a-4f78-8a83-52537dd56bae",
   "metadata": {},
   "outputs": [],
   "source": [
    "pre_backbone.fc = nn.Sequential(nn.Linear(512,256),nn.Linear(256,128))\n",
    "post_backbone.fc = nn.Sequential(nn.Linear(512,256),nn.Linear(256,128))"
   ]
  },
  {
   "cell_type": "code",
   "execution_count": 54,
   "id": "06f019c7-914a-478e-915b-f7e981fc5288",
   "metadata": {},
   "outputs": [],
   "source": [
    "fusion = nn.Sequential(nn.Linear(256,128),nn.BatchNorm1d(128),nn.ReLU(),\n",
    "                       nn.Linear(128,64), nn.BatchNorm1d(64), nn.ReLU(),\n",
    "                       nn.Linear(64,2)) #"
   ]
  },
  {
   "cell_type": "code",
   "execution_count": null,
   "id": "fafb4a2e-a482-452f-b15c-1d403befad91",
   "metadata": {},
   "outputs": [],
   "source": []
  },
  {
   "cell_type": "code",
   "execution_count": 18,
   "id": "03d508c8-b62d-4d79-8ec1-a094fec535c2",
   "metadata": {},
   "outputs": [],
   "source": [
    "x0_0, x0_1 = x[:,:2],x[:,2:]"
   ]
  },
  {
   "cell_type": "code",
   "execution_count": 21,
   "id": "26f1b188-9e6c-4391-857d-cd306dc019d7",
   "metadata": {},
   "outputs": [],
   "source": [
    "x0_0 = two23(x0_0)\n",
    "\n",
    "x0_1 = two23(x0_1)"
   ]
  },
  {
   "cell_type": "code",
   "execution_count": 57,
   "id": "de796602-7a28-4697-a627-88f336364b69",
   "metadata": {},
   "outputs": [],
   "source": [
    "x0_0 = pre_backbone(x0_0)\n",
    "x0_1 = post_backbone(x0_1)"
   ]
  },
  {
   "cell_type": "code",
   "execution_count": 63,
   "id": "451eba70-c624-4807-843b-f1da64dcd0e5",
   "metadata": {},
   "outputs": [],
   "source": [
    "x0 = torch.cat([x0_0,x0_1],axis=1)"
   ]
  },
  {
   "cell_type": "code",
   "execution_count": null,
   "id": "f028f758-714c-4560-9662-b62d6d19c53f",
   "metadata": {},
   "outputs": [
    {
     "data": {
      "text/plain": [
       "torch.Size([4, 2])"
      ]
     },
     "execution_count": 64,
     "metadata": {},
     "output_type": "execute_result"
    }
   ],
   "source": [
    "fusion(x0)"
   ]
  },
  {
   "cell_type": "code",
   "execution_count": 69,
   "id": "3679daad-a7dc-41a8-8583-80aa952e049e",
   "metadata": {},
   "outputs": [],
   "source": [
    "import torchvision\n",
    "from torch import nn\n",
    "import torch\n",
    "\n",
    "class PrePostNet(nn.Module):\n",
    "\n",
    "    def __init__(self):\n",
    "        super(PrePostNet, self).__init__()\n",
    "        \n",
    "        self.two2three_pre  = nn.Conv2d(2,3,3)\n",
    "        self.two2three_post = nn.Conv2d(2,3,3)\n",
    "        \n",
    "        self.pre_backbone = torchvision.models.resnet34(pretrained=True)\n",
    "        self.post_backbone = torchvision.models.resnet34(pretrained=True)\n",
    "        self.pre_backbone.fc = nn.Sequential(nn.Linear(512,256),nn.Linear(256,128))\n",
    "        self.post_backbone.fc = nn.Sequential(nn.Linear(512,256),nn.Linear(256,128))\n",
    "        \n",
    "        self.fusion = nn.Sequential(nn.Linear(256,128),nn.BatchNorm1d(128),nn.ReLU(),\n",
    "                       nn.Linear(128,64), nn.BatchNorm1d(64), nn.ReLU(),\n",
    "                       nn.Linear(64,2)) \n",
    "        \n",
    "    \n",
    "    def forward(self, x):\n",
    "        x_pre, x_post = x[:,:2], x[:,2:]\n",
    "        \n",
    "        x_pre  = self.two2three_pre(x_pre)\n",
    "        x_post = self.two2three_post(x_post)\n",
    "        \n",
    "        x_pre  = self.pre_backbone(x_pre)\n",
    "        x_post = self.post_backbone(x_post)\n",
    "        \n",
    "        x_fusion = torch.cat([x_pre,x_post],axis=1)\n",
    "        x_fusion = self.fusion(x_fusion)\n",
    "        \n",
    "        return x_fusion"
   ]
  },
  {
   "cell_type": "code",
   "execution_count": 70,
   "id": "32b0e00d-8e53-48ba-aad5-c7a8e5be7054",
   "metadata": {},
   "outputs": [],
   "source": [
    "model = PrePostNet()\n",
    "pre = model(x)"
   ]
  },
  {
   "cell_type": "markdown",
   "id": "1084facc-ba40-407d-9edb-b2d118e13024",
   "metadata": {},
   "source": [
    "# test"
   ]
  },
  {
   "cell_type": "code",
   "execution_count": 1,
   "id": "7389fc31-4790-4da0-8204-6ce6dbce1b07",
   "metadata": {},
   "outputs": [],
   "source": [
    "import torch\n",
    "from torch.utils.data import DataLoader\n",
    "from dataset import VitalDataset\n",
    "\n",
    "trdt  = VitalDataset('../data/pd_gy','../data/pd_gy/train.json')\n",
    "valdt = VitalDataset('../data/pd_gy','../data/pd_gy/val.json') \n",
    "tedt  = VitalDataset('../data/pd_gy','../data/pd_gy/test.json') \n",
    "\n",
    "trdl  = torch.utils.data.DataLoader(trdt,4)\n",
    "valdl  = torch.utils.data.DataLoader(valdt,4)\n",
    "tedl  = torch.utils.data.DataLoader(valdt,4)\n",
    "\n",
    "trit = iter(trdl)\n",
    "x,y  = next(trit)"
   ]
  },
  {
   "cell_type": "code",
   "execution_count": 2,
   "id": "107d0813-8aad-4c80-a21d-b109d9472f36",
   "metadata": {},
   "outputs": [],
   "source": [
    "from models import PrePostNet"
   ]
  },
  {
   "cell_type": "code",
   "execution_count": 4,
   "id": "113a3b4e-e5f8-421d-935c-489ab42959f6",
   "metadata": {},
   "outputs": [],
   "source": [
    "model = PrePostNet()"
   ]
  },
  {
   "cell_type": "code",
   "execution_count": null,
   "id": "a80cd693-9f77-4633-bbd8-a205c2d662a4",
   "metadata": {},
   "outputs": [
    {
     "data": {
      "text/plain": [
       "tensor([[-0.6482, -0.4512],\n",
       "        [-0.2352,  0.1045],\n",
       "        [ 0.6511, -0.2366],\n",
       "        [-0.3394,  0.3636]], grad_fn=<AddmmBackward0>)"
      ]
     },
     "execution_count": 5,
     "metadata": {},
     "output_type": "execute_result"
    }
   ],
   "source": [
    "model(x)"
   ]
  }
 ],
 "metadata": {
  "kernelspec": {
   "display_name": "torch0",
   "language": "python",
   "name": "torch0"
  },
  "language_info": {
   "codemirror_mode": {
    "name": "ipython",
    "version": 3
   },
   "file_extension": ".py",
   "mimetype": "text/x-python",
   "name": "python",
   "nbconvert_exporter": "python",
   "pygments_lexer": "ipython3",
   "version": "3.6.13"
  }
 },
 "nbformat": 4,
 "nbformat_minor": 5
}
