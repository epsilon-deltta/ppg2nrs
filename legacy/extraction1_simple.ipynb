{
 "cells": [
  {
   "cell_type": "code",
   "execution_count": 24,
   "id": "00f8fe39-2a80-4e72-a5c2-b60f236615b2",
   "metadata": {},
   "outputs": [],
   "source": [
    "import pandas as pd\n",
    "df = pd.read_csv('filter0.csv')"
   ]
  },
  {
   "cell_type": "code",
   "execution_count": 25,
   "id": "39b9aebe-85f8-4216-95c1-860f7e565863",
   "metadata": {},
   "outputs": [],
   "source": [
    "df = df[['등록번호','회복실퇴실일시','최대 NRS','KEY']]\n",
    "\n",
    "# 2022-01-21 12:13:00 > 210121, 1213\n",
    "\n",
    "df = df.reset_index(drop=True)\n",
    "def get_date(date:str,type_='ymd'):\n",
    "    \n",
    "    date = date.split()\n",
    "\n",
    "    y,m,d = date[0].split('-')\n",
    "    h,min_   = date[1].split(':')\n",
    "    \n",
    "    out = ''\n",
    "    if type_ == 'ymd':\n",
    "        ymd = y[-2:]+m+d\n",
    "        out = ymd\n",
    "    elif type_ == 'hm':\n",
    "        hm = h+min_\n",
    "        out = hm\n",
    "    return out\n",
    "\n",
    "df['time'] = df['회복실퇴실일시'].map(lambda x: get_date(x,'hm') )\n",
    "\n",
    "df['date'] = df['회복실퇴실일시'].map(lambda x: get_date(x,'ymd') )"
   ]
  },
  {
   "cell_type": "code",
   "execution_count": 26,
   "id": "e6ce8183-5471-4171-8775-2b2240f25794",
   "metadata": {},
   "outputs": [],
   "source": [
    "# change the cols. sequence \n",
    "df = df[['등록번호','date','time','최대 NRS','KEY']]"
   ]
  },
  {
   "cell_type": "code",
   "execution_count": 28,
   "id": "e023c1f6-831a-4601-b94f-f8b41802bcbd",
   "metadata": {},
   "outputs": [],
   "source": [
    "# prepare the materials\n",
    "import pandas as pd \n",
    "df = pd.read_csv('filter0_simple_1.csv')"
   ]
  },
  {
   "cell_type": "code",
   "execution_count": 30,
   "id": "2a00550b-6785-40a3-8931-b80c97d14b5f",
   "metadata": {},
   "outputs": [],
   "source": [
    "import pickle \n",
    "with open('vital_paths.pkl','rb') as f:\n",
    "    allf = pickle.load(f)\n",
    "with open('vital_fname.pkl','rb') as f:\n",
    "    allf_n = pickle.load(f)\n",
    "with open('vital_split.pkl','rb') as f:\n",
    "    allf_s = pickle.load(f)"
   ]
  },
  {
   "cell_type": "code",
   "execution_count": 32,
   "id": "feec6856-f571-4006-88ec-b6a08d25e544",
   "metadata": {},
   "outputs": [],
   "source": [
    "df.columns = ['pt_id', 'date', 'time', 'max_nrs','key']\n",
    "\n",
    "df.max_nrs = df.max_nrs.map(round)"
   ]
  },
  {
   "cell_type": "code",
   "execution_count": 33,
   "id": "77ea9414-88df-4500-ad5d-f0e29cb7ebfc",
   "metadata": {},
   "outputs": [],
   "source": [
    "# (vital-existing only)\n",
    "idx = []\n",
    "for j, sample in enumerate(df[['pt_id','date','time','max_nrs','key']].values): # sample: ['등록번호','date','time','최대 NRS']\n",
    "    \n",
    "    sample = sample.astype('str')\n",
    "                           \n",
    "    for i, data in enumerate(allf_s): # data: ['00000824', 'ORC14', '210611', '133500', '1']\n",
    "\n",
    "        if data[0].endswith(sample[0]): # 등록번호\n",
    "            if data[2].startswith(sample[1]): # 회복실퇴실일시(date) 210611\n",
    "                idx.append([j, sample,allf_n[i],allf[i],sample[-2],sample[-1] ])\n",
    "\n",
    "dfi = pd.DataFrame(idx,columns = ['idx','label','vital','path','nrs','key'])\n"
   ]
  },
  {
   "cell_type": "code",
   "execution_count": 35,
   "id": "ddca1687-7b1e-401a-862b-1dbfb9d1d500",
   "metadata": {},
   "outputs": [],
   "source": [
    "import os\n",
    "def extract_path(path,paths=['e:/2021_1_1_10_14/충남대병원/마취통증의학과/OTHER','e:/2021_1015_1231/충남대병원/마취통증의학과/OTHER','e:\\\\2022\\\\충남대병원\\\\마취통증의학과\\\\OTHER']):\n",
    "    ext_path = ''\n",
    "    \n",
    "    for p in paths:\n",
    "        if os.path.commonpath([path,p]) == os.path.abspath(p):\n",
    "            ext_path = os.path.relpath(path,start=p)\n",
    "            break\n",
    "    return ext_path\n",
    "    \n",
    "ext_path = dfi.path.map(extract_path)\n",
    "\n",
    "import pandas as pd\n",
    "dfi['ext_path'] = ext_path"
   ]
  },
  {
   "cell_type": "code",
   "execution_count": 36,
   "id": "4c176a2a-d377-4187-9db1-da112098d8e2",
   "metadata": {
    "tags": []
   },
   "outputs": [],
   "source": [
    "# pre&post pair \n",
    "# idx duplicated (con1. pre&post pair)\n",
    "dfi = dfi[dfi.idx.duplicated(keep=False)]\n",
    "\n",
    "# pre&post exists? (con2. pre&post pair)\n",
    "import re\n",
    "pa = re.compile('\\D+')\n",
    "\n",
    "indices = []\n",
    "for i in dfi.idx.unique():\n",
    "    duplicates = dfi[dfi.idx == i]\n",
    "    flist = [ s.split('_')[1].lower() for s in duplicates['vital'].to_list()] # ['orc8', 'orc8', 'orc8']\n",
    "    flist = [pa.findall(f)[0] for f in flist]\n",
    "    \n",
    "    if ('pdor' in flist) and ('pdrec' in flist):\n",
    "        indices.append(i)\n",
    "\n",
    "dfip = dfi[dfi.idx.isin(indices)]"
   ]
  },
  {
   "cell_type": "code",
   "execution_count": 49,
   "id": "699ec448-30ae-4d5a-b91b-bd0ba35234be",
   "metadata": {},
   "outputs": [
    {
     "name": "stderr",
     "output_type": "stream",
     "text": [
      "C:\\Users\\USER\\anaconda3\\envs\\p37\\lib\\site-packages\\ipykernel_launcher.py:8: SettingWithCopyWarning: \n",
      "A value is trying to be set on a copy of a slice from a DataFrame.\n",
      "Try using .loc[row_indexer,col_indexer] = value instead\n",
      "\n",
      "See the caveats in the documentation: https://pandas.pydata.org/pandas-docs/stable/user_guide/indexing.html#returning-a-view-versus-a-copy\n",
      "  \n"
     ]
    }
   ],
   "source": [
    "def ext_room(name,num=False):\n",
    "    room_n = name.split('_')[1]\n",
    "    if num:\n",
    "        return room_n\n",
    "    else:\n",
    "        room = pa.findall(room_n)[0].lower()\n",
    "        return room\n",
    "dfip['room'] = dfip.vital.map(ext_room)"
   ]
  },
  {
   "cell_type": "code",
   "execution_count": 42,
   "id": "4e5124d0-eead-4c05-bcc4-d540b9a39696",
   "metadata": {},
   "outputs": [],
   "source": [
    "dfip.to_csv('./dfi_4key.csv',index=False)"
   ]
  },
  {
   "cell_type": "markdown",
   "id": "59044ac5-4f5c-410d-8283-ca1845daf890",
   "metadata": {},
   "source": [
    "### json "
   ]
  },
  {
   "cell_type": "code",
   "execution_count": 63,
   "id": "ca900715-51d7-4402-a298-71cb9cd3156e",
   "metadata": {},
   "outputs": [
    {
     "name": "stderr",
     "output_type": "stream",
     "text": [
      "C:\\Users\\USER\\anaconda3\\envs\\p37\\lib\\site-packages\\ipykernel_launcher.py:9: SettingWithCopyWarning: \n",
      "A value is trying to be set on a copy of a slice from a DataFrame.\n",
      "Try using .loc[row_indexer,col_indexer] = value instead\n",
      "\n",
      "See the caveats in the documentation: https://pandas.pydata.org/pandas-docs/stable/user_guide/indexing.html#returning-a-view-versus-a-copy\n",
      "  if __name__ == '__main__':\n"
     ]
    }
   ],
   "source": [
    "# path_0\n",
    "path_0 =  []\n",
    "\n",
    "for i in range(len(dfip)):\n",
    "    name = dfip['vital'].iloc[i]\n",
    "    folder_n = dfip['room'].iloc[i]\n",
    "    path_0.append(os.path.join(\".\\\\\"+folder_n, name+'.vital') )\n",
    "    \n",
    "dfip['path_0'] = path_0"
   ]
  },
  {
   "cell_type": "code",
   "execution_count": null,
   "id": "75ea41d2-6af7-41e3-a277-e5ac78f12fe3",
   "metadata": {},
   "outputs": [],
   "source": [
    "# 'key', 'room', 'path_0', 'nrs'"
   ]
  },
  {
   "cell_type": "code",
   "execution_count": 91,
   "id": "64c6518a-e1fa-4e69-a573-c7c11932e5e0",
   "metadata": {},
   "outputs": [],
   "source": [
    "samples = []\n",
    "for idx in dfip.idx.unique():\n",
    "    \n",
    "    df_idx = dfip[dfip.idx == idx]\n",
    "    \n",
    "    # df_idx['path_0']\n",
    "    or_paths = []\n",
    "    rec_paths = []\n",
    "    for room, p in df_idx[['room','path_0']].values:\n",
    "        if room == 'pdor':\n",
    "            or_paths.append(p)\n",
    "        elif room == 'pdrec':\n",
    "            rec_paths.append(p)\n",
    "        else:\n",
    "            raise ValueError('Noe-existing room')\n",
    "    \n",
    "    sample = {}\n",
    "    sample['key'] = df_idx['key'].iloc[0]\n",
    "    sample['rec_path'] = rec_paths\n",
    "    sample['or_path'] = or_paths\n",
    "    sample['nrs'] = df_idx['nrs'].iloc[0]\n",
    "    samples.append(sample)"
   ]
  },
  {
   "cell_type": "code",
   "execution_count": 117,
   "id": "3341f1c5-84f9-423a-b3f9-530ff98b4edd",
   "metadata": {},
   "outputs": [],
   "source": [
    "with open('all.json', 'w') as f:\n",
    "    json.dump(samples, f)"
   ]
  },
  {
   "cell_type": "markdown",
   "id": "4009e49e-29d8-4838-97e6-c6bc4e25b8ba",
   "metadata": {},
   "source": [
    "### add columns "
   ]
  },
  {
   "cell_type": "code",
   "execution_count": null,
   "id": "3c7ff6a8-ee87-4660-bca6-3beff9f6614d",
   "metadata": {},
   "outputs": [],
   "source": [
    "def add_cols(jpath, fpath, cols):\n",
    "    jpath = '../data/pd_gy/all.json'\n",
    "    fpath = 'filter0.csv'\n",
    "\n",
    "    add_cols = ['age','gender']\n",
    "\n",
    "    import json \n",
    "    with open(jpath,'r') as f:\n",
    "        dj = json.load(f)\n",
    "\n",
    "    import pandas as pd\n",
    "    op = pd.read_csv(fpath)\n",
    "\n",
    "    op = op.rename(columns = {'성별':'gender','나이':'age','KEY':'key'})\n",
    "    op['key'] = op.key.astype('str')\n",
    "\n",
    "    l = []\n",
    "    for i,val in enumerate(dj):\n",
    "        key  = val['key']\n",
    "        item = op[op.key==key]\n",
    "        for col in add_cols:\n",
    "            col_value = item[col].values[0]\n",
    "            dj[i][col] = col_value\n",
    "    return dj"
   ]
  },
  {
   "cell_type": "code",
   "execution_count": null,
   "id": "05ca5fb1-0674-4b97-aed7-e763c518ffa6",
   "metadata": {},
   "outputs": [],
   "source": [
    "jpath = '../data/pd_gy/all.json'\n",
    "fpath = 'filter0.csv'\n",
    "\n",
    "import json \n",
    "with open(jpath,'r') as f:\n",
    "    dj = json.load(f)\n",
    "\n",
    "import pandas as pd\n",
    "op = pd.read_csv(fpath)\n",
    "\n",
    "op = op.rename(columns = {'성별':'gender','나이':'age','KEY':'key'})\n",
    "op['key'] = op.key.astype('str')\n",
    "\n",
    "l = []\n",
    "for i,val in enumerate(dj):\n",
    "    key  = val['key']\n",
    "    item = op[op.key==key]\n",
    "    age = item['age'].values[0] \n",
    "    gender = item['gender'].values[0]\n",
    "    dj[i]['age'], dj[i]['gender'] = age, gender.lower()"
   ]
  }
 ],
 "metadata": {
  "kernelspec": {
   "display_name": "p37",
   "language": "python",
   "name": "p37"
  },
  "language_info": {
   "codemirror_mode": {
    "name": "ipython",
    "version": 3
   },
   "file_extension": ".py",
   "mimetype": "text/x-python",
   "name": "python",
   "nbconvert_exporter": "python",
   "pygments_lexer": "ipython3",
   "version": "3.7.13"
  }
 },
 "nbformat": 4,
 "nbformat_minor": 5
}
