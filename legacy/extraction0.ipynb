{
 "cells": [
  {
   "cell_type": "markdown",
   "id": "3d3d4549-38c0-4edf-8803-3d63815fe42e",
   "metadata": {},
   "source": [
    "=============== "
   ]
  },
  {
   "cell_type": "code",
   "execution_count": null,
   "id": "dca577d9-2a46-461e-a46a-d7ef43bfbc1c",
   "metadata": {},
   "outputs": [],
   "source": [
    "path = 'e:'"
   ]
  },
  {
   "cell_type": "code",
   "execution_count": null,
   "id": "472c2f66-0c09-4f41-9641-b2ddd3f5f1b9",
   "metadata": {},
   "outputs": [],
   "source": [
    "import os\n",
    "os.listdir(path)"
   ]
  },
  {
   "cell_type": "markdown",
   "id": "a441a266-cd75-4ae6-a290-a18fa40de57e",
   "metadata": {},
   "source": [
    "### x; vital data "
   ]
  },
  {
   "cell_type": "code",
   "execution_count": null,
   "id": "6950d8d7-5112-4248-b10b-d4e3ff123cc0",
   "metadata": {},
   "outputs": [],
   "source": [
    "# data\n",
    "import os\n",
    "path21 = 'e:/2021_1_1_10_14/충남대병원/마취통증의학과/OTHER'\n",
    "\n",
    "flist = [] \n",
    "for path, dirs, files in os.walk(path21):\n",
    "    for f in files:\n",
    "        flist.append(os.path.join(path,f))\n",
    "\n",
    "import os\n",
    "path21_0 = 'e:/2021_1015_1231/충남대병원/마취통증의학과/OTHER'\n",
    "\n",
    "flist0 = [] \n",
    "for path, dirs, files in os.walk(path21_0):\n",
    "    for f in files:\n",
    "        flist0.append(os.path.join(path,f))\n",
    "\n",
    "path22 = 'e:\\\\2022\\\\충남대병원\\\\마취통증의학과\\\\OTHER'\n",
    "flist1 = [] \n",
    "for path, dirs, files in os.walk(path22):\n",
    "    for f in files:\n",
    "        flist1.append(os.path.join(path,f))\n",
    "\n",
    "allf = []\n",
    "allf.extend(flist)\n",
    "allf.extend(flist0)\n",
    "allf.extend(flist1)\n",
    "\n",
    "# remove non-vital files\n",
    "allf = [x for x in allf if os.path.splitext(allf[0])[-1] == '.vital']\n",
    "\n",
    "allf_n = [os.path.splitext(os.path.basename(x))[0] for x in allf]\n",
    "\n",
    "allf_s = [x.split('_') for x in allf_n]\n",
    "\n",
    "# len(flist),len(flist0),len(flist1)\n",
    "# (22634, 9046, 9291)"
   ]
  },
  {
   "cell_type": "code",
   "execution_count": null,
   "id": "8417f7cf-927b-47f5-966f-b7545634a552",
   "metadata": {},
   "outputs": [],
   "source": [
    "import pickle \n",
    "with open('vital_paths.pkl','wb') as f:\n",
    "    pickle.dump(allf,f)\n",
    "with open('vital_fname.pkl','wb') as f:\n",
    "    pickle.dump(allf_n,f)\n",
    "with open('vital_split.pkl','wb') as f:\n",
    "    pickle.dump(allf_s,f)"
   ]
  },
  {
   "cell_type": "markdown",
   "id": "0db9aac1-4f04-4aeb-9bec-090893fe15e2",
   "metadata": {},
   "source": [
    "### y; label data (op list) "
   ]
  },
  {
   "cell_type": "code",
   "execution_count": null,
   "id": "03690b4b-01d5-4707-b064-1d9fdd272191",
   "metadata": {},
   "outputs": [],
   "source": [
    "# label\n",
    "label_path0 = './회복간호_21상.xlsx'\n",
    "label_path1 = './회복간호_21하.xlsx'\n",
    "label_path2= './회복간호_22상.xlsx'\n",
    "\n",
    "# remove nrs-non-existing rows\n",
    "# select columns\n",
    "def get_data(path,filter_='simple'):\n",
    "    df = pd.read_excel(path,header=1)\n",
    "    df = df.iloc[df[['최대 NRS']].dropna().index]\n",
    "    if filter_ == 'simple':\n",
    "        df = df[['등록번호','회복실퇴실일시','최대 NRS']]\n",
    "    elif filter_ == 'all':\n",
    "        pass\n",
    "    return df"
   ]
  },
  {
   "cell_type": "code",
   "execution_count": null,
   "id": "8b84f0e5-9254-4741-bc45-e82f5d013cf4",
   "metadata": {},
   "outputs": [],
   "source": [
    "df0 = get_data(label_path0)\n",
    "df1 = get_data(label_path1)\n",
    "df2 = get_data(label_path2)\n",
    "\n",
    "df = pd.concat([df0,df1,df2])\n",
    "\n",
    "df = df.drop_duplicates()"
   ]
  },
  {
   "cell_type": "code",
   "execution_count": null,
   "id": "874813de-83b8-446f-8c99-daa729a7ef33",
   "metadata": {},
   "outputs": [],
   "source": [
    "# op_list.csv (filter1)\n",
    "df0_a = get_data(label_path0,filter_='all')\n",
    "df1_a = get_data(label_path1,filter_='all')\n",
    "df2_a = get_data(label_path2,filter_='all')\n",
    "\n",
    "df_a = pd.concat([df0_a,df1_a,df2_a])\n",
    "\n",
    "df_a = df_a.drop_duplicates(subset=['등록번호','회복실퇴실일시'])\n",
    "\n",
    "df_a.to_csv('filter0.csv',index=False)"
   ]
  },
  {
   "cell_type": "markdown",
   "id": "d8a6c9ff-2d9d-4d48-96ab-87115a684e51",
   "metadata": {},
   "source": [
    "### matching VitalFiles and LabelFiles "
   ]
  },
  {
   "cell_type": "markdown",
   "id": "31cb7383-4e03-4c4a-b55f-2e79e8ef23a8",
   "metadata": {},
   "source": [
    "#### __filter0_simple.csv__: ['등록번호','date','time','최대 NRS'] from filter0.csv "
   ]
  },
  {
   "cell_type": "code",
   "execution_count": null,
   "id": "2191024c-df07-4b80-a4d7-7fe2b1253f2a",
   "metadata": {},
   "outputs": [],
   "source": [
    "import pandas as pd\n",
    "df = pd.read_csv('filter0.csv')\n",
    "\n",
    "df = df[['등록번호','회복실퇴실일시','최대 NRS']]\n",
    "\n",
    "# 2022-01-21 12:13:00 > 210121, 1213\n",
    "\n",
    "df = df.reset_index(drop=True)\n",
    "def get_date(date:str,type_='ymd'):\n",
    "    \n",
    "    date = date.split()\n",
    "\n",
    "    y,m,d = date[0].split('-')\n",
    "    h,min_   = date[1].split(':')\n",
    "    \n",
    "    out = ''\n",
    "    if type_ == 'ymd':\n",
    "        ymd = y[-2:]+m+d\n",
    "        out = ymd\n",
    "    elif type_ == 'hm':\n",
    "        hm = h+min_\n",
    "        out = hm\n",
    "    return out\n",
    "\n",
    "df['time'] = df['회복실퇴실일시'].map(lambda x: get_date(x,'hm') )\n",
    "\n",
    "df['date'] = df['회복실퇴실일시'].map(lambda x: get_date(x,'ymd') )\n",
    "# change the cols. sequence \n",
    "df = df[['등록번호','date','time','최대 NRS']]\n",
    "\n",
    "# len(df0),len(df1),len(df2)\n",
    "# (6338, 6855, 5508)\n",
    "# len(df) 18701 (w/ duplicates)\n",
    "\n",
    "# df.to_csv('filter0_simple.csv',index=False)"
   ]
  },
  {
   "cell_type": "markdown",
   "id": "c99c7338-812d-48c8-b628-342e9d03b9c5",
   "metadata": {},
   "source": [
    "#### Matching: find the vitalFile path for each item "
   ]
  },
  {
   "cell_type": "code",
   "execution_count": 52,
   "id": "a4562eb5-a8c5-418c-b574-c3641187a01d",
   "metadata": {},
   "outputs": [],
   "source": [
    "# prepare the materials\n",
    "import pandas as pd \n",
    "df = pd.read_csv('filter0_simple.csv')\n",
    "\n",
    "import pickle \n",
    "with open('vital_paths.pkl','rb') as f:\n",
    "    allf = pickle.load(f)\n",
    "with open('vital_fname.pkl','rb') as f:\n",
    "    allf_n = pickle.load(f)\n",
    "with open('vital_split.pkl','rb') as f:\n",
    "    allf_s = pickle.load(f)"
   ]
  },
  {
   "cell_type": "code",
   "execution_count": null,
   "id": "89977b9d-4bff-404d-b5bb-ae2393f5c0cc",
   "metadata": {
    "tags": []
   },
   "outputs": [],
   "source": [
    "# filter0 ~ vital > (pre&post-existing only) \n",
    "idx = []\n",
    "for j, sample in enumerate(df[['등록번호','date','time']].values): # sample: ['등록번호','date','time','최대 NRS']\n",
    "    \n",
    "    sample = sample.astype('str')\n",
    "                           \n",
    "                           \n",
    "    for i, data in enumerate(allf_s): # data: ['00000824', 'ORC14', '210611', '133500', '1']\n",
    "\n",
    "        if data[0].endswith(sample[0]): # 등록번호\n",
    "            if data[2].startswith(sample[1]): # 회복실퇴실일시(date) 210611\n",
    "                idx.append([j, sample,allf_n[i],allf[i]])\n",
    "\n",
    "dfi = pd.DataFrame(idx,columns = ['idx','label','vital','path'])\n",
    "# len(dfi) 33198\n",
    "\n",
    "import pickle \n",
    "with open('dfi.pkl','wb') as f:\n",
    "    pickle.dump(dfi,f)"
   ]
  },
  {
   "cell_type": "code",
   "execution_count": null,
   "id": "5c697505-c283-440b-94bc-4d8cd30f439e",
   "metadata": {},
   "outputs": [],
   "source": [
    "import pickle \n",
    "with open('dfi.pkl', 'rb') as f:\n",
    "    dfi = pickle.load(f)"
   ]
  },
  {
   "cell_type": "code",
   "execution_count": null,
   "id": "c8d5360d-87c9-4ae9-a793-7e5ccda47226",
   "metadata": {},
   "outputs": [],
   "source": [
    "import os\n",
    "def extract_path(path,paths=['e:/2021_1_1_10_14/충남대병원/마취통증의학과/OTHER','e:/2021_1015_1231/충남대병원/마취통증의학과/OTHER','e:\\\\2022\\\\충남대병원\\\\마취통증의학과\\\\OTHER']):\n",
    "    ext_path = ''\n",
    "    \n",
    "    for p in paths:\n",
    "        if os.path.commonpath([path,p]) == os.path.abspath(p):\n",
    "            ext_path = os.path.relpath(path,start=p)\n",
    "            break\n",
    "    return ext_path\n",
    "\n",
    "ext_path = dfi.path.map(extract_path)\n",
    "\n",
    "import pandas as pd\n",
    "dfi['ext_path'] = ext_path\n",
    "\n",
    "dfi.to_csv('dfi_1.csv',index=False)\n",
    "# len(dfi) 20747"
   ]
  },
  {
   "cell_type": "code",
   "execution_count": null,
   "id": "f9717953-20d5-4064-8aba-108b1f531eb3",
   "metadata": {},
   "outputs": [],
   "source": [
    "pd.set_option('display.max_columns', 100)\n",
    "\n",
    "pd.set_option('display.max_rows', 15000)"
   ]
  },
  {
   "cell_type": "markdown",
   "id": "f0708d76-f9f3-47e9-97c7-ee85f94cb92a",
   "metadata": {},
   "source": [
    "#### filter; pre-post pair "
   ]
  },
  {
   "cell_type": "code",
   "execution_count": null,
   "id": "50411cb6-aa75-4486-959f-74d19183e05f",
   "metadata": {},
   "outputs": [],
   "source": [
    "import pandas as pd\n",
    "dfi = pd.read_csv('./dfi_1.csv')\n",
    "\n",
    "dfi = dfi[dfi.idx.duplicated(keep=False)]\n",
    "\n",
    "dfi.to_csv('dfi_2dup.csv',index=False)"
   ]
  },
  {
   "cell_type": "code",
   "execution_count": null,
   "id": "ede28cb9-69ec-4de5-8eb3-5b46df1e58fd",
   "metadata": {},
   "outputs": [],
   "source": [
    "import pandas as pd\n",
    "dfi = pd.read_csv('dfi_2dup.csv')"
   ]
  },
  {
   "cell_type": "code",
   "execution_count": null,
   "id": "dfdf13f8-df3a-42df-ba95-ab4c62199fb9",
   "metadata": {},
   "outputs": [],
   "source": [
    "import re\n",
    "pa = re.compile('\\D+')\n",
    "\n",
    "indices = []\n",
    "for i in dfi.idx.unique():\n",
    "    duplicates = dfi[dfi.idx == i]\n",
    "    flist = [ s.split('_')[1].lower() for s in duplicates['vital'].to_list()] # ['orc8', 'orc8', 'orc8']\n",
    "    flist = [pa.findall(f)[0] for f in flist]\n",
    "    \n",
    "    if ('pdor' in flist) and ('pdrec' in flist):\n",
    "        indices.append(i)\n",
    "\n",
    "dfip = dfi[dfi.idx.isin(indices)]\n",
    "\n",
    "def ext_room(name,num=False):\n",
    "    room_n = name.split('_')[1]\n",
    "    if num:\n",
    "        return room_n\n",
    "    else:\n",
    "        room = pa.findall(room_n)[0].lower()\n",
    "        return room\n",
    "dfip['room'] = dfip.vital.map(ext_room)"
   ]
  },
  {
   "cell_type": "code",
   "execution_count": null,
   "id": "e6303dcb-8c5b-4c60-af3a-0676b6d01de2",
   "metadata": {},
   "outputs": [],
   "source": [
    "dfip.to_csv('dfi_3pair.csv',index=False)"
   ]
  },
  {
   "cell_type": "markdown",
   "id": "d0b87431-8f03-43f3-9ea9-b3aa3bd462b5",
   "metadata": {},
   "source": [
    "### Move necessary files from raw dir to root_dir"
   ]
  },
  {
   "cell_type": "code",
   "execution_count": 47,
   "id": "ccac7c40-67bb-4219-b2f4-a011a01d4a04",
   "metadata": {},
   "outputs": [],
   "source": [
    "import shutil\n",
    "root_dir = 'D:\\pd_gy'\n",
    "\n",
    "for value in dfip.values: # (0, 'idx'),(1, 'label'),(2, 'vital'),(3, 'path'),(4, 'ext_path'),(5, 'room')\"\n",
    "    src= value[3]\n",
    "    room = value[5]\n",
    "    \n",
    "    if room == 'pdor':\n",
    "        dst = os.path.join(root_dir,'pdor')\n",
    "        shutil.copy2(src, dst)\n",
    "    elif room == 'pdrec':\n",
    "        dst = os.path.join(root_dir,'pdrec')\n",
    "        shutil.copy2(src, dst)\n",
    "    else:\n",
    "        print(\"room is not found\")"
   ]
  },
  {
   "cell_type": "markdown",
   "id": "8c8b0e2a-9d18-45f2-aacf-430b7a6b9c77",
   "metadata": {},
   "source": [
    "### json file "
   ]
  },
  {
   "cell_type": "markdown",
   "id": "41e7c99b-c015-4c55-b52b-12c31bc4667f",
   "metadata": {},
   "source": [
    "json \n",
    "{\n",
    "key: \n",
    "pt_id:\n",
    "date:\n",
    "time: \n",
    "vital_name: 01405184_PDREC02_210329_133000_1\n",
    "or_path:['./pdor/~.vital',...]\n",
    "rec_path:['./pdrec/~.vital',...]\n",
    "nrs:\n",
    "},\n",
    "{\n",
    "key: \n",
    "pt_id:\n",
    "date:\n",
    "time: \n",
    "vital_name: 01405184_PDREC02_210329_133000_1\n",
    "or_path:['./pdor/~.vital',...]\n",
    "rec_path:['./pdrec/~.vital',...]\n",
    "nrs:\n",
    "}\n"
   ]
  },
  {
   "cell_type": "code",
   "execution_count": 42,
   "id": "8c08368e-4fd2-4627-ba8f-80c185c53455",
   "metadata": {},
   "outputs": [],
   "source": [
    "a = '''\n",
    "(0, 'idx'),\n",
    " (1, 'label'),\n",
    " (2, 'vital'),\n",
    " (3, 'path'),\n",
    " (4, 'ext_path'),\n",
    " (5, 'room')\n",
    " '''"
   ]
  },
  {
   "cell_type": "code",
   "execution_count": 44,
   "id": "ab16d30e-dc46-4053-9535-241aea2452f1",
   "metadata": {},
   "outputs": [
    {
     "data": {
      "text/plain": [
       "\"(0, 'idx'), (1, 'label'), (2, 'vital'), (3, 'path'), (4, 'ext_path'), (5, 'room') \""
      ]
     },
     "execution_count": 44,
     "metadata": {},
     "output_type": "execute_result"
    }
   ],
   "source": [
    "a.replace('\\n','')"
   ]
  },
  {
   "cell_type": "code",
   "execution_count": 40,
   "id": "71ffdd67-e11e-48c0-9b63-dd7bf125b53d",
   "metadata": {},
   "outputs": [
    {
     "data": {
      "text/plain": [
       "[(0, 'idx'),\n",
       " (1, 'label'),\n",
       " (2, 'vital'),\n",
       " (3, 'path'),\n",
       " (4, 'ext_path'),\n",
       " (5, 'room')]"
      ]
     },
     "execution_count": 40,
     "metadata": {},
     "output_type": "execute_result"
    }
   ],
   "source": [
    "list(zip(list(range(len(dfip.columns))),dfip.columns))"
   ]
  },
  {
   "cell_type": "code",
   "execution_count": null,
   "id": "52e17b75-f02c-4b4c-a118-3effcb7f0166",
   "metadata": {},
   "outputs": [],
   "source": [
    "pd.set_option('display.max_rows',500)"
   ]
  },
  {
   "cell_type": "code",
   "execution_count": null,
   "id": "ce2e9f0f-04bd-45ba-a2a9-6718538644e8",
   "metadata": {},
   "outputs": [],
   "source": [
    "dfi.iloc[:100]"
   ]
  },
  {
   "cell_type": "code",
   "execution_count": null,
   "id": "0d2827f6-7d92-45f9-bfec-280be3d89cb9",
   "metadata": {
    "tags": []
   },
   "outputs": [],
   "source": [
    "i = 1\n",
    "dfi[dfi.idx.duplicated(keep=False)][['idx','label','vital','ext_path']].iloc[100*i:100*(i+1)]"
   ]
  },
  {
   "cell_type": "code",
   "execution_count": null,
   "id": "198f3847-f658-4a62-99b3-a647a451b73b",
   "metadata": {},
   "outputs": [],
   "source": [
    "len(dfi[dfi.idx.duplicated(keep=False)])"
   ]
  },
  {
   "cell_type": "code",
   "execution_count": null,
   "id": "846a3b64-5492-408d-847d-47a60b406386",
   "metadata": {},
   "outputs": [],
   "source": [
    "dfi[dfi.idx.duplicated(keep=False)]"
   ]
  }
 ],
 "metadata": {
  "kernelspec": {
   "display_name": "p37",
   "language": "python",
   "name": "p37"
  },
  "language_info": {
   "codemirror_mode": {
    "name": "ipython",
    "version": 3
   },
   "file_extension": ".py",
   "mimetype": "text/x-python",
   "name": "python",
   "nbconvert_exporter": "python",
   "pygments_lexer": "ipython3",
   "version": "3.7.13"
  }
 },
 "nbformat": 4,
 "nbformat_minor": 5
}
