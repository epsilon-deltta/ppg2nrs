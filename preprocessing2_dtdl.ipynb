{
 "cells": [
  {
   "cell_type": "code",
   "execution_count": 1,
   "id": "2d036f30-867a-41d1-a10a-356075d42be8",
   "metadata": {},
   "outputs": [],
   "source": [
    "from utils import get_sample_config\n",
    "orp, recp, sample_rate, min5, item = get_sample_config()\n",
    "\n",
    "# ppg, ecg\n",
    "from dataset import get_vital\n",
    "ppg_or, ecg_or   = get_vital(orp, type_='or',sample_rate=sample_rate, duration=min5)\n",
    "ppg_rec, ecg_rec = get_vital(recp, type_='rec',sample_rate=sample_rate, duration=min5)"
   ]
  },
  {
   "cell_type": "code",
   "execution_count": 2,
   "id": "83dcd66d-b6ce-48d2-8122-627244b95458",
   "metadata": {},
   "outputs": [],
   "source": [
    "from preprocess import list2specgram\n",
    "x = list2specgram([ppg_or, ppg_rec, ecg_or, ecg_rec],type_=['ppg','ppg','ecg','ecg'], sample_rate=sample_rate)\n",
    "ppg_or, ppg_rec, ecg_or, ecg_rec = x"
   ]
  },
  {
   "cell_type": "code",
   "execution_count": 77,
   "id": "000002a3-df2c-44eb-9a1b-4b15bd2b9bee",
   "metadata": {},
   "outputs": [],
   "source": [
    "import os\n",
    "import pandas as pd\n",
    "import json \n",
    "\n",
    "import vitaldb\n",
    "import torch\n",
    "from torch.nn import functional as F\n",
    "\n",
    "from preprocess import list2specgram\n",
    "from dataset import get_vital \n",
    "\n",
    "class VitalDataset(torch.utils.data.Dataset):\n",
    "    def __init__(self,root_dir='../data/pd_gy',ann_path='../data/pd_gy/train.json',sample_rate=300,duration=300*60*5):\n",
    "        \n",
    "        with open(ann_path,'r') as f:\n",
    "            jf = json.load(f)\n",
    "        \n",
    "        self.jf = jf\n",
    "        self.root_dir = root_dir\n",
    "        self.sample_rate = sample_rate\n",
    "        self.duration = duration\n",
    "        \n",
    "    def __getitem__(self,idx):\n",
    "        \n",
    "        item = self.jf[idx]\n",
    "        orp, recp = self.get_path(item) \n",
    "\n",
    "        ppg_or, ecg_or   = get_vital(orp,  type_='or' ,sample_rate=self.sample_rate,duration=self.duration)\n",
    "        ppg_rec, ecg_rec = get_vital(recp, type_='rec',sample_rate=self.sample_rate,duration=self.duration)\n",
    "        \n",
    "        ppgecg = list2specgram([ppg_or, ppg_rec, ecg_or, ecg_rec],type_=['ppg','ppg','ecg','ecg'], sample_rate=self.sample_rate)\n",
    "        ppg_or, ppg_rec, ecg_or, ecg_rec = ppgecg\n",
    "        \n",
    "        vital = np.array([ppg_or,ecg_or,ppg_rec,ecg_rec])\n",
    "        vital = torch.tensor(vital)\n",
    "        \n",
    "        \n",
    "        y = item['nrs_2']\n",
    "        y = torch.tensor(y)\n",
    "        y = F.one_hot(y,num_classes=2)\n",
    "        \n",
    "        return vital, y\n",
    "    \n",
    "    def __len__(self):\n",
    "        return len(self.jf)\n",
    "    \n",
    "    def get_path(self, item):\n",
    "        \n",
    "        orp = item['or_path'][0].replace('\\\\','/')\n",
    "        orp = os.path.join(self.root_dir, orp)\n",
    "        recp = item['rec_path'][0].replace('\\\\','/')\n",
    "        recp = os.path.join(self.root_dir,recp)\n",
    "        return orp, recp\n",
    "#     def get_vital(self,path,type_='or',sample_rate=300, duration=300*6*5):\n",
    "\n",
    "#         vf = vitaldb.VitalFile(path,track_names=['Intellivue/PLETH','Intellivue/NIBP_SYS','Intellivue/ECG_II'])\n",
    "#         ppg = vf.to_numpy('Intellivue/PLETH',1/sample_rate)\n",
    "#         ecg = vf.to_numpy('Intellivue/ECG_II',1/sample_rate)\n",
    "#         first_idx = 0 \n",
    "\n",
    "#         if type_ == 'or': # starts from nibp\n",
    "#             nibp_or = vf.to_numpy('Intellivue/NIBP_SYS',1/sample_rate)\n",
    "#             for i, value in enumerate(nibp_or):\n",
    "#                 if pd.isna(value):\n",
    "#                     continue\n",
    "#                 else:\n",
    "#                     first_idx = i\n",
    "#                     break\n",
    "\n",
    "#         elif type_ == 'rec': # starts from non-nan\n",
    "#             for i, value in enumerate(ppg):\n",
    "#                 if pd.isna(value):\n",
    "#                     continue\n",
    "#                 else:\n",
    "#                     first_idx = i\n",
    "#                     break\n",
    "        # ecg = ecg[first_idx:first_idx+duration]            \n",
    "        # ppg = ppg[first_idx:first_idx+duration]            \n",
    "        # return ppg, ecg\n"
   ]
  },
  {
   "cell_type": "code",
   "execution_count": 1,
   "id": "7b3e94f3-cea8-48a9-b5ac-0433f3fe8144",
   "metadata": {},
   "outputs": [],
   "source": [
    "import torch\n",
    "from torch.utils.data import DataLoader\n",
    "from dataset import VitalDataset\n",
    "trdt  = VitalDataset('../data/pd_gy','../data/pd_gy/train.json') #  './split/train.txt'\n",
    "\n",
    "trdl  = torch.utils.data.DataLoader(trdt, batch_size=5)"
   ]
  },
  {
   "cell_type": "code",
   "execution_count": 2,
   "id": "d5aaaf20-cec1-4dc7-8680-ef57a5a0713a",
   "metadata": {},
   "outputs": [],
   "source": [
    "trit = iter(trdl)\n",
    "x,y = next(trit)"
   ]
  },
  {
   "cell_type": "code",
   "execution_count": 3,
   "id": "674463c9-9a1f-4155-b1f6-8cfbd254990d",
   "metadata": {},
   "outputs": [],
   "source": [
    "assert list(x.shape) == [5, 4, 151, 342]"
   ]
  },
  {
   "cell_type": "code",
   "execution_count": 7,
   "id": "dd1b0ba8-52e8-4319-8938-c051ee012174",
   "metadata": {},
   "outputs": [],
   "source": [
    "from torch.utils.data import DataLoader\n",
    "from dataset import VitalDaset\n",
    "trdt  = VitalDataset('../data/pd_gy','../data/pd_gy/train.json')\n",
    "valdt = VitalDataset('../data/pd_gy','../data/pd_gy/val.json') \n",
    "tedt  = VitalDataset('../data/pd_gy','../data/pd_gy/test.json') \n",
    "\n",
    "trdl  = torch.utils.data.DataLoader(trdt,4)\n",
    "valdl  = torch.utils.data.DataLoader(valdt,4)\n",
    "tedl  = torch.utils.data.DataLoader(valdt,4)"
   ]
  },
  {
   "cell_type": "code",
   "execution_count": null,
   "id": "6a975e80-8a18-4f95-adfb-3ea7d12fe50b",
   "metadata": {},
   "outputs": [],
   "source": []
  }
 ],
 "metadata": {
  "kernelspec": {
   "display_name": "torch0",
   "language": "python",
   "name": "torch0"
  },
  "language_info": {
   "codemirror_mode": {
    "name": "ipython",
    "version": 3
   },
   "file_extension": ".py",
   "mimetype": "text/x-python",
   "name": "python",
   "nbconvert_exporter": "python",
   "pygments_lexer": "ipython3",
   "version": "3.6.13"
  }
 },
 "nbformat": 4,
 "nbformat_minor": 5
}
