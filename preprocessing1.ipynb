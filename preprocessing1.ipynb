{
 "cells": [
  {
   "cell_type": "code",
   "execution_count": 40,
   "id": "d8c55ddf-64df-4ff6-82fa-cde2cda966bb",
   "metadata": {},
   "outputs": [],
   "source": [
    "from utils import get_sample_config\n",
    "orp, recp, sample_rate, min5, item = get_sample_config()\n",
    "\n",
    "# ppg, ecg\n",
    "from dataset import get_vital\n",
    "ppg_or, ecg_or   = get_vital(orp, type_='or',sample_rate=sample_rate, duration=min5)\n",
    "ppg_rec, ecg_rec = get_vital(recp, type_='rec',sample_rate=sample_rate, duration=min5)"
   ]
  },
  {
   "cell_type": "code",
   "execution_count": 41,
   "id": "101f637a-c3bb-48d1-a49b-f89a21bbf088",
   "metadata": {},
   "outputs": [],
   "source": [
    "from preprocess import interpolate, bandpass, moving_average, norm_z\n",
    "\n",
    "def ppg_pre(x,sample_rate=300):\n",
    "    x = interpolate(x)\n",
    "    x = bandpass(x, band=[0.5,10],sample_rate=sample_rate)\n",
    "    x = moving_average(x,w=30)\n",
    "    x = norm_z(x)\n",
    "    return x"
   ]
  },
  {
   "cell_type": "markdown",
   "id": "a84237bd-f2be-4526-b1e6-7337fd084e5f",
   "metadata": {},
   "source": [
    "## PPG "
   ]
  },
  {
   "cell_type": "markdown",
   "id": "054cbdaf-1e91-49fa-8846-f2eca1a38e2f",
   "metadata": {},
   "source": [
    "#### interpolate "
   ]
  },
  {
   "cell_type": "code",
   "execution_count": 42,
   "id": "51ef39aa-a5d1-40ee-9c0f-0981a79fa3b4",
   "metadata": {},
   "outputs": [],
   "source": [
    "from preprocess import interpolate  \n",
    "ppg_or0 = interpolate(ppg_or)\n",
    "ppg_rec0 = interpolate(ppg_rec)"
   ]
  },
  {
   "cell_type": "markdown",
   "id": "57f1b0f8-2c01-439f-9d09-1669882ff71d",
   "metadata": {},
   "source": [
    "### 1. bandpass"
   ]
  },
  {
   "cell_type": "code",
   "execution_count": 43,
   "id": "3fe6fd35-04e0-4c6b-96f6-db8cb1106c08",
   "metadata": {},
   "outputs": [],
   "source": [
    "from preprocess import bandpass\n",
    "ppg_or1  = bandpass(ppg_or0, band=[0.5,10],sample_rate=sample_rate)\n",
    "ppg_rec1 = bandpass(ppg_rec0,band=[0.5,10],sample_rate=sample_rate)"
   ]
  },
  {
   "cell_type": "markdown",
   "id": "4b188b9f-90eb-45f6-a783-6854de8b294d",
   "metadata": {},
   "source": [
    "### 2. moving average "
   ]
  },
  {
   "cell_type": "code",
   "execution_count": 44,
   "id": "e91aa849-512a-40b3-8b7b-a45f685e7ddf",
   "metadata": {},
   "outputs": [],
   "source": [
    "from preprocess import moving_average as ma\n",
    "ppg_or2 = ma(ppg_or1,w=30)\n",
    "ppg_rec2 = ma(ppg_rec1,w=30)"
   ]
  },
  {
   "cell_type": "markdown",
   "id": "8bcedee4-dc48-4888-b583-4f3912c3b8d6",
   "metadata": {},
   "source": [
    "### 3. z-score "
   ]
  },
  {
   "cell_type": "code",
   "execution_count": 45,
   "id": "7378ea1b-7216-4932-a7cf-b95ef9559268",
   "metadata": {},
   "outputs": [],
   "source": [
    "from preprocess import norm_z\n",
    "ppg_or3 = norm_z(ppg_or2)\n",
    "ppg_rec3 = norm_z(ppg_rec2)"
   ]
  },
  {
   "cell_type": "markdown",
   "id": "5b694484-213d-491b-9208-6ac7e5c4f4de",
   "metadata": {},
   "source": [
    "## ECG "
   ]
  },
  {
   "cell_type": "code",
   "execution_count": 21,
   "id": "184ab440-e8ae-4154-bc8a-411be10a8182",
   "metadata": {},
   "outputs": [],
   "source": [
    "import neurokit2 as nk\n",
    "\n",
    "from preprocess import interpolate, bandpass, moving_average, norm_z\n",
    "\n",
    "ecg_rec0 = interpolate(ecg_rec)\n",
    "ecg_or0 = interpolate(ecg_or)"
   ]
  },
  {
   "cell_type": "code",
   "execution_count": 22,
   "id": "a76d8062-5eee-44fe-a502-95a6a3549d83",
   "metadata": {},
   "outputs": [],
   "source": [
    "ecg_rec1 = nk.ecg_clean(ecg_rec0,sampling_rate=sample_rate)\n",
    "ecg_or1 = nk.ecg_clean(ecg_or0,sampling_rate=sample_rate)"
   ]
  },
  {
   "cell_type": "markdown",
   "id": "56112f8c-e4ab-421f-9a62-890fa7bf7ba6",
   "metadata": {},
   "source": [
    "### sig2img spectrogram "
   ]
  },
  {
   "cell_type": "code",
   "execution_count": 99,
   "id": "05be7e6e-f175-4962-b850-ff723145f4b9",
   "metadata": {},
   "outputs": [],
   "source": [
    "from matplotlib import pyplot as plt\n",
    "import numpy as np\n",
    "def draw_stft(f, t, Zxx):\n",
    "    plt.figure(figsize=(12,5))\n",
    "    plt.pcolormesh(t, f, np.abs(Zxx), vmin=0, vmax=1, shading='gouraud')\n",
    "    plt.title('STFT Magnitude'); plt.ylabel('Frequency [Hz]')\n",
    "    plt.xlabel('Time [sec]'); plt.ylim([0, 20]); plt.show()"
   ]
  },
  {
   "cell_type": "code",
   "execution_count": 100,
   "id": "e4a58fbc-40a7-4d63-afcf-32919c218bb8",
   "metadata": {},
   "outputs": [],
   "source": [
    "from scipy import signal\n",
    "f, t, xspec_or = signal.spectrogram(ppg_or2, fs=sample_rate,nperseg=300)\n",
    "f, t, xspec_rec = signal.spectrogram(ppg_rec2, fs=sample_rate,nperseg=300)"
   ]
  },
  {
   "cell_type": "code",
   "execution_count": 113,
   "id": "c5f6dc33-f8a2-423c-bc14-7e9dc9ea24f8",
   "metadata": {},
   "outputs": [],
   "source": [
    "fe,te, xspec_ecg_or = signal.spectrogram(ecg_or1*10, fs=sample_rate,nperseg=300)\n",
    "fe,te, xspecc_ecg_rec = signal.spectrogram(ecg_rec1*10, fs=sample_rate,nperseg=300)"
   ]
  },
  {
   "cell_type": "markdown",
   "id": "15c8f30e-9c84-406d-b46e-c2d30329442a",
   "metadata": {},
   "source": [
    "### sig2img scalogram "
   ]
  },
  {
   "cell_type": "code",
   "execution_count": null,
   "id": "ba1167d8-a56b-4eb7-97a1-3e0b8d0dcf12",
   "metadata": {},
   "outputs": [],
   "source": []
  },
  {
   "cell_type": "code",
   "execution_count": 19,
   "id": "f6cc9815-7964-4fae-b3cd-0773e15d2b14",
   "metadata": {},
   "outputs": [],
   "source": [
    "from matplotlib import pyplot as plt"
   ]
  },
  {
   "cell_type": "markdown",
   "id": "2d658f21-b82b-448d-ab51-15d57cc413a9",
   "metadata": {},
   "source": [
    "## DL/DT "
   ]
  }
 ],
 "metadata": {
  "kernelspec": {
   "display_name": "torch0",
   "language": "python",
   "name": "torch0"
  },
  "language_info": {
   "codemirror_mode": {
    "name": "ipython",
    "version": 3
   },
   "file_extension": ".py",
   "mimetype": "text/x-python",
   "name": "python",
   "nbconvert_exporter": "python",
   "pygments_lexer": "ipython3",
   "version": "3.6.13"
  }
 },
 "nbformat": 4,
 "nbformat_minor": 5
}
