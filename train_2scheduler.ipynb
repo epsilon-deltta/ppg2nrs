{
 "cells": [
  {
   "cell_type": "code",
   "execution_count": 7,
   "id": "d8f44046-6fc5-4ed9-ac6d-173131a649a3",
   "metadata": {},
   "outputs": [],
   "source": [
    "import torch\n",
    "from torch.utils.data import DataLoader\n",
    "from dataset import VitalDataset_fs\n",
    "idx = 3\n",
    "root_dir = f'../data/all_{idx}'\n",
    "trdt  = VitalDataset_fs(root_dir,f'../data/pd_gy/train_{idx}.json')\n",
    "valdt = VitalDataset_fs(root_dir,f'../data/pd_gy/val_{idx}.json') \n",
    "tedt  = VitalDataset_fs(root_dir,f'../data/pd_gy/test_{idx}.json') \n",
    "\n",
    "trdl  = torch.utils.data.DataLoader(trdt,4)\n",
    "valdl  = torch.utils.data.DataLoader(valdt,4)\n",
    "tedl  = torch.utils.data.DataLoader(valdt,4)\n",
    "\n",
    "from models import PrePostNet\n",
    "from train import get_classweight\n",
    "model = PrePostNet()\n",
    "\n",
    "from torch import nn\n",
    "device     = 'cuda' if torch.cuda.is_available() else 'cpu'\n",
    "\n",
    "batch_size = 4\n",
    "\n",
    "class_weight = get_classweight(trdt).to(device)\n",
    "loss       = nn.CrossEntropyLoss(class_weight)\n",
    "# loss       = nn.CrossEntropyLoss()\n",
    "\n",
    "\n",
    "lr         = 0.01\n",
    "params = [p for p in model.parameters() if p.requires_grad]\n",
    "opt       = torch.optim.SGD(params, lr=lr, momentum=0.9)\n",
    "scheduler = torch.optim.lr_scheduler.StepLR(opt, step_size=5, gamma=0.5)\n",
    "# opt  = torch.optim.Adam(params,lr=lr)"
   ]
  },
  {
   "cell_type": "code",
   "execution_count": 8,
   "id": "0d5fd189-bde2-4ee9-a94a-cc78cbf5a382",
   "metadata": {},
   "outputs": [
    {
     "name": "stdout",
     "output_type": "stream",
     "text": [
      "[0] acc/loss: 0.81/0.232283\n",
      "[1] acc/loss: 0.83/0.159888\n",
      "[2] acc/loss: 0.83/0.176197\n",
      "[3] acc/loss: 0.78/0.530542\n",
      "[4] acc/loss: 0.68/0.296496\n",
      "[5] acc/loss: 0.73/0.239821\n",
      "[6] acc/loss: 0.68/0.273841\n"
     ]
    }
   ],
   "source": [
    "from train import trainval\n",
    "best_model,val_losses = trainval(trdl,valdl,model,loss,opt,scheduler=scheduler,device=device, exist_acc=True)"
   ]
  },
  {
   "cell_type": "markdown",
   "id": "138063d2-6258-4c32-867e-1402bd19169f",
   "metadata": {},
   "source": [
    "## vis optim lr "
   ]
  },
  {
   "cell_type": "code",
   "execution_count": 11,
   "id": "c3222b1e-13cf-4d11-b63c-9e395c3ef5ff",
   "metadata": {},
   "outputs": [],
   "source": [
    "def visualize_scheduler(optimizer, scheduler, epochs):\n",
    "    lrs = []\n",
    "    for _ in range(epochs):\n",
    "        lrs.append(optimizer.param_groups[0]['lr'])\n",
    "        scheduler.step()\n",
    "        # 학습 과정이 없으므로 Optimizer.step()은 생략해도 됨\n",
    "\n",
    "    plt.plot(lrs)\n",
    "    plt.show()"
   ]
  },
  {
   "cell_type": "code",
   "execution_count": 13,
   "id": "722fef3e-733b-42d8-8d83-9e287787bc41",
   "metadata": {},
   "outputs": [
    {
     "data": {
      "image/png": "[encoded data removed]",
      "text/plain": [
       "<Figure size 432x288 with 1 Axes>"
      ]
     },
     "metadata": {
      "needs_background": "light"
     },
     "output_type": "display_data"
    }
   ],
   "source": [
    "from matplotlib import pyplot as plt\n",
    "from torch import optim\n",
    "epochs = 300\n",
    "optimizer = optim.SGD([torch.tensor(1)], lr=0.1, momentum=0.9)\n",
    "scheduler = optim.lr_scheduler.StepLR(optimizer, step_size=10, gamma=0.5)\n",
    "\n",
    "visualize_scheduler(optimizer, scheduler, epochs)\n"
   ]
  },
  {
   "cell_type": "code",
   "execution_count": null,
   "id": "53f1025c-8547-430c-bb78-6bc56ec0bd03",
   "metadata": {},
   "outputs": [],
   "source": []
  }
 ],
 "metadata": {
  "kernelspec": {
   "display_name": "torch0",
   "language": "python",
   "name": "torch0"
  },
  "language_info": {
   "codemirror_mode": {
    "name": "ipython",
    "version": 3
   },
   "file_extension": ".py",
   "mimetype": "text/x-python",
   "name": "python",
   "nbconvert_exporter": "python",
   "pygments_lexer": "ipython3",
   "version": "3.6.13"
  }
 },
 "nbformat": 4,
 "nbformat_minor": 5
}
