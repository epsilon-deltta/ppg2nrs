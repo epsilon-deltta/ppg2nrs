{
 "cells": [
  {
   "cell_type": "markdown",
   "id": "ceaae04c-a9b9-4926-9609-1756683e6b8b",
   "metadata": {},
   "source": [
    "## Load "
   ]
  },
  {
   "cell_type": "code",
   "execution_count": 3,
   "id": "8865d1ae-7f60-4090-82c7-fb7da271c53f",
   "metadata": {},
   "outputs": [],
   "source": [
    "import json\n",
    "opp = '../data/pd_gy/all_1.json'\n",
    "with open(opp,'r') as f:\n",
    "    op = json.load(f)\n",
    "\n",
    "opf = pd.DataFrame(op)"
   ]
  },
  {
   "cell_type": "code",
   "execution_count": 58,
   "id": "d03986ea-d13f-4e3f-ba51-ba375316301d",
   "metadata": {},
   "outputs": [],
   "source": [
    "import pandas as pd\n",
    "op2p = './data/4filter_op.csv'\n",
    "op2 = pd.read_csv(op2p)\n",
    "\n",
    "op2.KEY = op2.KEY.astype('str')\n",
    "\n",
    "op2 = op2[['KEY','anesthesia_type','dept','date','pt_id','pt_id_date']]"
   ]
  },
  {
   "cell_type": "code",
   "execution_count": 66,
   "id": "f03c9584-e6b3-4cb1-9da5-4ce7682f5834",
   "metadata": {},
   "outputs": [
    {
     "data": {
      "text/plain": [
       "(662, 1766, 661)"
      ]
     },
     "execution_count": 66,
     "metadata": {},
     "output_type": "execute_result"
    }
   ],
   "source": [
    "len(op2),len(op),len(op2m)"
   ]
  },
  {
   "cell_type": "markdown",
   "id": "34ab65f1-6018-4219-949e-16db0ee09e42",
   "metadata": {},
   "source": [
    "## Merge v1 and v2 "
   ]
  },
  {
   "cell_type": "code",
   "execution_count": 65,
   "id": "121fb84c-ef44-44e4-b97d-ecc1c7e7b0b8",
   "metadata": {},
   "outputs": [],
   "source": [
    "op2m = pd.merge(op2,opf,how='inner',left_on='KEY',right_on='key')"
   ]
  },
  {
   "cell_type": "code",
   "execution_count": 69,
   "id": "f0f54beb-a16b-4d46-a42a-078a8f1fb916",
   "metadata": {},
   "outputs": [],
   "source": [
    "from utils import num2class\n",
    "op2m['nrs2'] = op2m.nrs.map(num2class)"
   ]
  },
  {
   "cell_type": "markdown",
   "id": "28eae530-a3a9-48f7-8aa5-80840e3e650d",
   "metadata": {},
   "source": [
    "## Save as json "
   ]
  },
  {
   "cell_type": "code",
   "execution_count": 82,
   "id": "9052cec0-32dd-4ccc-a828-bc1335f429e6",
   "metadata": {},
   "outputs": [],
   "source": [
    "op2mj = op2m.apply(lambda x:x.to_dict(),axis=1).to_list()\n",
    "\n",
    "with open('../data/pd_gy/all_2.json','w') as f:\n",
    "    json.dump(op2mj,f)"
   ]
  },
  {
   "cell_type": "code",
   "execution_count": 93,
   "id": "2b1e909b-6a6c-4fea-9bf4-673c906a5c56",
   "metadata": {},
   "outputs": [
    {
     "name": "stdout",
     "output_type": "stream",
     "text": [
      "|    |   nrs2 |\n",
      "|---:|-------:|\n",
      "|  0 |    545 |\n",
      "|  1 |    116 |\n"
     ]
    }
   ],
   "source": [
    "print(op2m.nrs2.value_counts().to_markdown())"
   ]
  },
  {
   "cell_type": "code",
   "execution_count": 11,
   "id": "ac2435a4-c9ca-4767-982f-a4d2631cfe0d",
   "metadata": {},
   "outputs": [],
   "source": [
    "op2m.to_csv('../data/pd_gy/all_2.csv',index=False)"
   ]
  },
  {
   "cell_type": "code",
   "execution_count": 1,
   "id": "fd6807e7-59fb-427e-80e1-8de89db49cc5",
   "metadata": {},
   "outputs": [],
   "source": [
    "import pandas as pd\n",
    "op2m = pd.read_csv('../data/pd_gy/all_2.csv')"
   ]
  },
  {
   "cell_type": "code",
   "execution_count": 2,
   "id": "7e31cb97-0761-4dbf-a364-aeb6da7b2009",
   "metadata": {},
   "outputs": [],
   "source": [
    "from utils import num2class\n",
    "op2m['nrs2_1'] = op2m.nrs.apply(lambda x : num2class(x,no_mild=[0,1,2]) )"
   ]
  },
  {
   "cell_type": "code",
   "execution_count": 5,
   "id": "0b998f06-b73e-4128-89a6-08d1f755e785",
   "metadata": {},
   "outputs": [
    {
     "data": {
      "text/plain": [
       "{2: 231, 3: 218, 1: 74, 4: 68, 5: 25, 0: 22, 6: 10, 7: 9, 9: 2, 8: 2}"
      ]
     },
     "execution_count": 5,
     "metadata": {},
     "output_type": "execute_result"
    }
   ],
   "source": [
    "op2m.nrs.value_counts().to_dict()"
   ]
  },
  {
   "cell_type": "markdown",
   "id": "551b88bd-ad9e-4a83-806d-5811c3dcdbf6",
   "metadata": {},
   "source": [
    "### df2json"
   ]
  },
  {
   "cell_type": "code",
   "execution_count": null,
   "id": "0efb4620-aa51-4f77-8975-a5b2780a0ebc",
   "metadata": {},
   "outputs": [],
   "source": [
    "jf = df.apply(lambda x:x.to_dict(),axis=1).to_list()"
   ]
  },
  {
   "cell_type": "markdown",
   "id": "4d43f675-7c77-47e1-b01d-79a7a399f641",
   "metadata": {},
   "source": [
    "## v4 "
   ]
  },
  {
   "cell_type": "code",
   "execution_count": 2,
   "id": "d6b2afe1-6c1c-414d-814f-3cc505e6d182",
   "metadata": {},
   "outputs": [],
   "source": [
    "import pandas as pd\n",
    "import json\n",
    "opp = '../data/pd_gy/all_3.json'\n",
    "with open(opp,'r') as f:\n",
    "    op = json.load(f)\n",
    "\n",
    "opf = pd.DataFrame(op)"
   ]
  },
  {
   "cell_type": "code",
   "execution_count": 3,
   "id": "80098811-f51a-462f-9afb-159ec053ec04",
   "metadata": {},
   "outputs": [],
   "source": [
    "opf['or_fname'] = opf['or_path'].map(lambda x: x[0].split('\\\\')[-1].split('.')[0] )"
   ]
  },
  {
   "cell_type": "code",
   "execution_count": null,
   "id": "a96e6d54-cc25-4752-8b6b-c7cee3c38c39",
   "metadata": {},
   "outputs": [],
   "source": []
  },
  {
   "cell_type": "code",
   "execution_count": 9,
   "id": "27aefb3d-24b3-42fc-9b4e-058ea92fc9e9",
   "metadata": {},
   "outputs": [],
   "source": [
    "\n",
    "black_list = ['01826958_PDOR1_210421_124500_1',\n",
    "              '01853529_PDOR1_210419_083500_1',\n",
    "              '01876359_PDOR2_210602_083200_1',\n",
    "              '01656320_PDOR2_210526_091300_1',\n",
    "              '01618678_PDOR1_210615_083000_1',\n",
    "              '01159584_PDOR1_211025_083400_1',\n",
    "              '00578148_PDOR2_210805_111500_1',\n",
    "              '01853408_PDOR1_211115_083100_1',\n",
    "              '01906040_PDOR1_210831_110500_1',\n",
    "              '00435676_PDREC02_210902_093500_1', # dataset \n",
    "              '01060037_PDOR2_211206_102000_1', #  Filling missing values error\n",
    "              '01929835_PDOR2_211102_093000_1',\n",
    "              '01392754_PDOR2_220111_105500_1'\n",
    "             ]\n",
    "# black_list = ['01405184_PDOR1_210329_113500_1','00618336_PDOR1_210329_155000_1']\n",
    "indices = opf[opf['or_fname'].isin(black_list)].index\n",
    "opf = opf.drop(indices)"
   ]
  },
  {
   "cell_type": "code",
   "execution_count": 10,
   "id": "2947d540-f31c-4fbb-bc0b-93064c249e0d",
   "metadata": {},
   "outputs": [
    {
     "data": {
      "text/plain": [
       "649"
      ]
     },
     "execution_count": 10,
     "metadata": {},
     "output_type": "execute_result"
    }
   ],
   "source": [
    "len(opf)"
   ]
  },
  {
   "cell_type": "code",
   "execution_count": 11,
   "id": "a8c193bf-63c4-4286-88bd-94d65b694e4e",
   "metadata": {},
   "outputs": [],
   "source": [
    "jf = opf.apply(lambda x:x.to_dict(),axis=1).to_list()\n",
    "\n",
    "import json \n",
    "with open('../data/pd_gy/all_3.json','w') as f:\n",
    "    json.dump(jf,f)"
   ]
  },
  {
   "cell_type": "markdown",
   "id": "8099d456-69c1-4b13-8898-f239cb01c96c",
   "metadata": {},
   "source": [
    "## check shape "
   ]
  },
  {
   "cell_type": "code",
   "execution_count": 7,
   "id": "e6b3dc76-d658-4c2c-91da-7930f9011c56",
   "metadata": {},
   "outputs": [],
   "source": [
    "from utils import get_sample_config\n",
    "orp, recp, sample_rate, min5, item = get_sample_config()\n",
    "\n",
    "# ppg, ecg\n",
    "from dataset import get_vital\n",
    "ppg_or, ecg_or   = get_vital(orp, type_='or',sample_rate=sample_rate, duration=min5)\n",
    "ppg_rec, ecg_rec = get_vital(recp, type_='rec',sample_rate=sample_rate, duration=min5)"
   ]
  },
  {
   "cell_type": "code",
   "execution_count": 8,
   "id": "55276393-0962-41f3-b5a2-f7339b2d1baf",
   "metadata": {},
   "outputs": [],
   "source": [
    "from preprocess import list2specgram\n",
    "x = list2specgram([ppg_or, ppg_rec, ecg_or, ecg_rec],type_=['ppg','ppg','ecg','ecg'], sample_rate=sample_rate)\n",
    "ppg_or, ppg_rec, ecg_or, ecg_rec = x"
   ]
  },
  {
   "cell_type": "code",
   "execution_count": 14,
   "id": "0a4a9485-7cec-4701-bfa4-6fb60c9621da",
   "metadata": {},
   "outputs": [
    {
     "data": {
      "text/plain": [
       "[True, True, True, True]"
      ]
     },
     "execution_count": 14,
     "metadata": {},
     "output_type": "execute_result"
    }
   ],
   "source": [
    "if all([sig.shape == (151,342) for sig in [ppg_or,ppg_rec,ecg_or,ecg_rec]]):\n",
    "    vital = np.array([ppg_or,ecg_or,ppg_rec,ecg_rec])\n",
    "else:\n",
    "    vital = np.random.rand(4,151,342)\n",
    "    print('\\033[32m \\033[41m'+f'Error: {orp}\\n{recp}\\n\\n '+ '\\033[0m')"
   ]
  },
  {
   "cell_type": "code",
   "execution_count": 7,
   "id": "0b78de90-68f1-4489-a9ea-05ad1959814f",
   "metadata": {},
   "outputs": [],
   "source": [
    "import torch\n",
    "from torch.utils.data import DataLoader\n",
    "from dataset import VitalDataset\n",
    "root_dir = '../data/pd_gy'\n",
    "trdt  = VitalDataset(root_dir,'../data/pd_gy/all_3.json')\n",
    "\n",
    "alldl  = torch.utils.data.DataLoader(trdt,4)"
   ]
  }
 ],
 "metadata": {
  "kernelspec": {
   "display_name": "torch0",
   "language": "python",
   "name": "torch0"
  },
  "language_info": {
   "codemirror_mode": {
    "name": "ipython",
    "version": 3
   },
   "file_extension": ".py",
   "mimetype": "text/x-python",
   "name": "python",
   "nbconvert_exporter": "python",
   "pygments_lexer": "ipython3",
   "version": "3.6.13"
  }
 },
 "nbformat": 4,
 "nbformat_minor": 5
}
