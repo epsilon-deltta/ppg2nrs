{
 "cells": [
  {
   "cell_type": "markdown",
   "id": "ceaae04c-a9b9-4926-9609-1756683e6b8b",
   "metadata": {},
   "source": [
    "## Load "
   ]
  },
  {
   "cell_type": "code",
   "execution_count": 3,
   "id": "8865d1ae-7f60-4090-82c7-fb7da271c53f",
   "metadata": {},
   "outputs": [],
   "source": [
    "import json\n",
    "opp = '../data/pd_gy/all_1.json'\n",
    "with open(opp,'r') as f:\n",
    "    op = json.load(f)\n",
    "\n",
    "opf = pd.DataFrame(op)"
   ]
  },
  {
   "cell_type": "code",
   "execution_count": 58,
   "id": "d03986ea-d13f-4e3f-ba51-ba375316301d",
   "metadata": {},
   "outputs": [],
   "source": [
    "import pandas as pd\n",
    "op2p = './data/4filter_op.csv'\n",
    "op2 = pd.read_csv(op2p)\n",
    "\n",
    "op2.KEY = op2.KEY.astype('str')\n",
    "\n",
    "op2 = op2[['KEY','anesthesia_type','dept','date','pt_id','pt_id_date']]"
   ]
  },
  {
   "cell_type": "code",
   "execution_count": 66,
   "id": "f03c9584-e6b3-4cb1-9da5-4ce7682f5834",
   "metadata": {},
   "outputs": [
    {
     "data": {
      "text/plain": [
       "(662, 1766, 661)"
      ]
     },
     "execution_count": 66,
     "metadata": {},
     "output_type": "execute_result"
    }
   ],
   "source": [
    "len(op2),len(op),len(op2m)"
   ]
  },
  {
   "cell_type": "markdown",
   "id": "34ab65f1-6018-4219-949e-16db0ee09e42",
   "metadata": {},
   "source": [
    "## Merge v1 and v2 "
   ]
  },
  {
   "cell_type": "code",
   "execution_count": 65,
   "id": "121fb84c-ef44-44e4-b97d-ecc1c7e7b0b8",
   "metadata": {},
   "outputs": [],
   "source": [
    "op2m = pd.merge(op2,opf,how='inner',left_on='KEY',right_on='key')"
   ]
  },
  {
   "cell_type": "code",
   "execution_count": 69,
   "id": "f0f54beb-a16b-4d46-a42a-078a8f1fb916",
   "metadata": {},
   "outputs": [],
   "source": [
    "from utils import num2class\n",
    "op2m['nrs2'] = op2m.nrs.map(num2class)"
   ]
  },
  {
   "cell_type": "markdown",
   "id": "28eae530-a3a9-48f7-8aa5-80840e3e650d",
   "metadata": {},
   "source": [
    "## Save as json "
   ]
  },
  {
   "cell_type": "code",
   "execution_count": 82,
   "id": "9052cec0-32dd-4ccc-a828-bc1335f429e6",
   "metadata": {},
   "outputs": [],
   "source": [
    "op2mj = op2m.apply(lambda x:x.to_dict(),axis=1).to_list()\n",
    "\n",
    "with open('../data/pd_gy/all_2.json','w') as f:\n",
    "    json.dump(op2mj,f)"
   ]
  },
  {
   "cell_type": "code",
   "execution_count": 93,
   "id": "2b1e909b-6a6c-4fea-9bf4-673c906a5c56",
   "metadata": {},
   "outputs": [
    {
     "name": "stdout",
     "output_type": "stream",
     "text": [
      "|    |   nrs2 |\n",
      "|---:|-------:|\n",
      "|  0 |    545 |\n",
      "|  1 |    116 |\n"
     ]
    }
   ],
   "source": [
    "print(op2m.nrs2.value_counts().to_markdown())"
   ]
  }
 ],
 "metadata": {
  "kernelspec": {
   "display_name": "torch0",
   "language": "python",
   "name": "torch0"
  },
  "language_info": {
   "codemirror_mode": {
    "name": "ipython",
    "version": 3
   },
   "file_extension": ".py",
   "mimetype": "text/x-python",
   "name": "python",
   "nbconvert_exporter": "python",
   "pygments_lexer": "ipython3",
   "version": "3.6.13"
  }
 },
 "nbformat": 4,
 "nbformat_minor": 5
}
