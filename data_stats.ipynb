{
 "cells": [
  {
   "cell_type": "code",
   "execution_count": 14,
   "id": "605726cb-786f-4560-bb4e-14ec8bf03510",
   "metadata": {},
   "outputs": [],
   "source": [
    "# label\n",
    "label_path0 = './data/회복간호_21상.xlsx'\n",
    "label_path1 = './data/회복간호_21하.xlsx'\n",
    "label_path2= './data/회복간호_22상.xlsx'\n",
    "\n",
    "# meta label\n",
    "meta_path0 = './data/수술기본_과거력_21상.xlsx'\n",
    "meta_path1 = './data/수술기본_과거력_21하.xlsx'\n",
    "meta_path2= './data/수술기본_과거력_22상.xlsx'\n",
    "# remove nrs-non-existing rows\n",
    "# select columns\n",
    "def get_data(path,filter_='simple'):\n",
    "    df = pd.read_excel(path,header=1)\n",
    "    df = df.iloc[df[['최대 NRS']].dropna().index]\n",
    "    if filter_ == 'simple':\n",
    "        df = df[['등록번호','회복실퇴실일시','최대 NRS']]\n",
    "    elif filter_ == 'all':\n",
    "        pass\n",
    "    return df"
   ]
  },
  {
   "cell_type": "markdown",
   "id": "d09c850e-e7b6-41cc-a4b2-65da16a86b66",
   "metadata": {},
   "source": [
    "### all data stats "
   ]
  },
  {
   "cell_type": "code",
   "execution_count": 4,
   "id": "1ae8c8a2-98d2-4de5-8ba8-922e82847acb",
   "metadata": {},
   "outputs": [],
   "source": [
    "import pandas as pd"
   ]
  },
  {
   "cell_type": "code",
   "execution_count": 50,
   "id": "6489faf3-d7a1-4f20-be2c-0d0f47d23daa",
   "metadata": {},
   "outputs": [],
   "source": [
    "def mul2sing(df):\n",
    "    cols = []\n",
    "    for c0,c1 in df.columns:\n",
    "        c0 = '0' if c0.startswith('Unnamed') else c0\n",
    "        c1 = '0' if c1.startswith('Unnamed') else c1\n",
    "        cols.append(c0+'_'+c1)\n",
    "    return cols\n",
    "\n",
    "m0 = pd.read_excel(meta_path0,header=[0,1],engine='openpyxl')\n",
    "m1 = pd.read_excel(meta_path1,header=[0,1],engine='openpyxl')\n",
    "m2 = pd.read_excel(meta_path2,header=[0,1],engine='openpyxl')\n",
    "\n",
    "m0.columns = mul2sing(m0)\n",
    "m1.columns = mul2sing(m1)\n",
    "m2.columns = mul2sing(m2)\n",
    "\n",
    "m = pd.concat([m0,m1,m2])\n",
    "\n",
    "m = m[['KEY_0','등록번호_0','연령_0','성별_0','AIDS/HIV_마취종류','AIDS/HIV_수술명','AIDS/HIV_환자 진료과']]\n",
    "\n",
    "m = m.rename(columns={'AIDS/HIV_마취종류':'anesthesia_type','AIDS/HIV_수술명':'sur_name','AIDS/HIV_환자 진료과':'dept'})"
   ]
  },
  {
   "cell_type": "code",
   "execution_count": 69,
   "id": "a33b2754-4b47-402b-abe5-c68c7ccbe39d",
   "metadata": {},
   "outputs": [],
   "source": [
    "op0 = pd.read_excel(label_path0,header=1,engine='openpyxl')\n",
    "op1 = pd.read_excel(label_path1,header=1,engine='openpyxl')\n",
    "op2 = pd.read_excel(label_path2,header=1,engine='openpyxl')\n",
    "\n",
    "op = pd.concat([op0,op1,op2])\n",
    "\n",
    "op = op[['KEY','등록번호','회복실퇴실일시','최대 NRS']]"
   ]
  },
  {
   "cell_type": "code",
   "execution_count": null,
   "id": "b4374283-7cf2-4e4b-9e00-574f700ad35b",
   "metadata": {},
   "outputs": [],
   "source": [
    "opm = pd.merge(op,m,how='left',left_on='KEY',right_on='KEY_0')"
   ]
  },
  {
   "cell_type": "markdown",
   "id": "d4f7c9ed-1408-4d45-b85b-f9060fa5a736",
   "metadata": {},
   "source": [
    "### Filter 1; only nrs-existing"
   ]
  },
  {
   "cell_type": "code",
   "execution_count": 134,
   "id": "713a7746-41c5-4848-89ed-b63de642db53",
   "metadata": {},
   "outputs": [],
   "source": [
    "# Filter 1; only nrs-existing \n",
    "opm_nrs = opm.dropna(subset=['최대 NRS'])"
   ]
  },
  {
   "cell_type": "markdown",
   "id": "7b2b0ef5-b6d6-4833-8bbd-1d8948e51ee3",
   "metadata": {},
   "source": [
    "####  filter 1.5: existing file"
   ]
  },
  {
   "cell_type": "code",
   "execution_count": 147,
   "id": "63cef3e5-753c-41cc-8cb7-4c9c39479315",
   "metadata": {},
   "outputs": [],
   "source": [
    "# filter 1.5: existing file\n",
    "import pickle\n",
    "with open('./data/vital_split.pkl','rb') as f:\n",
    "    allf_s = pickle.load(f)\n",
    "\n",
    "df = opm_nrs\n",
    "def get_date(date:str,type_='ymd'):\n",
    "    \n",
    "    date = date.split()\n",
    "\n",
    "    y,m,d = date[0].split('-')\n",
    "    h,min_   = date[1].split(':')\n",
    "    \n",
    "    out = ''\n",
    "    if type_ == 'ymd':\n",
    "        ymd = y[-2:]+m+d\n",
    "        out = ymd\n",
    "    elif type_ == 'hm':\n",
    "        hm = h+min_\n",
    "        out = hm\n",
    "    return out\n",
    "\n",
    "df['date'] = df['회복실퇴실일시'].map(lambda x: get_date(x,'ymd') )"
   ]
  },
  {
   "cell_type": "code",
   "execution_count": 194,
   "id": "a7e54386-7157-4c8f-b0f1-917beb825678",
   "metadata": {
    "tags": []
   },
   "outputs": [],
   "source": [
    "def has_pair(row,allf_s):\n",
    "    hasPair = False\n",
    "    \n",
    "    pt_id = str(row['등록번호'])\n",
    "    date  = str(row['date'])\n",
    "    \n",
    "    for i, fnames in enumerate(allf_s): # data: ['00000824', 'ORC14', '210611', '133500', '1']\n",
    "        if fnames[0].endswith(pt_id): # 등록번호\n",
    "            if fnames[2].startswith(date): # 회복실퇴실일시(date) 210611\n",
    "                hasPair=True\n",
    "                break\n",
    "                # idx.append([j, sample,allf_n[i],allf[i],sample[-2],sample[-1] ])\n",
    "    return hasPair\n",
    "\n",
    "has = opm_nrs.apply(has_pair,allf_s=allf_s,axis=1) #34"
   ]
  },
  {
   "cell_type": "code",
   "execution_count": 216,
   "id": "da096482-c951-42ea-a484-4dc3f229a2ce",
   "metadata": {},
   "outputs": [],
   "source": [
    "df = df[has]"
   ]
  },
  {
   "cell_type": "markdown",
   "id": "c830e113-452c-4e53-936d-c4588839ee50",
   "metadata": {},
   "source": [
    "### Filter 2: only pdor&pdrec-pair-existing"
   ]
  },
  {
   "cell_type": "code",
   "execution_count": 245,
   "id": "ec4e9369-2fca-41d4-a374-687e09a2841e",
   "metadata": {},
   "outputs": [],
   "source": [
    "# idx duplicated (con1. pre&post pair)\n",
    "df = df.drop_duplicates()"
   ]
  },
  {
   "cell_type": "code",
   "execution_count": 255,
   "id": "518ca599-f946-46a2-9375-f2cd1a87da26",
   "metadata": {},
   "outputs": [],
   "source": [
    "# pre&post exists? (con2. pre&post pair)\n",
    "\n",
    "vfdf = pd.DataFrame(allf_s,columns=['pt_id','room','date','time','n'])\n",
    "\n",
    "def fill_zero(pt):\n",
    "    pt = str(pt)\n",
    "    return '0'*(8-len(pt))+pt\n",
    "\n",
    "df['pt_id'] = df['등록번호'].apply(fill_zero)\n",
    "df['pt_id_date'] = df['pt_id']+'_'+df['date']\n",
    "\n",
    "vfdf['pt_id_date']=vfdf['pt_id']+'_'+ vfdf['date']\n",
    "vfdf['room'] = vfdf.room.map(lambda x:x.lower())\n",
    "\n",
    "\n",
    "import re\n",
    "pa = re.compile('\\D+')\n",
    "\n",
    "indices = []\n",
    "for i in df.pt_id_date.unique():\n",
    "    \n",
    "    dupls_df = vfdf[vfdf.pt_id_date == i]\n",
    "    rooms = [pa.findall(f)[0] for f in dupls_df['room'].to_list()]\n",
    "\n",
    "    if ('pdor' in rooms) and ('pdrec' in rooms):\n",
    "        indices.append(i)"
   ]
  },
  {
   "cell_type": "code",
   "execution_count": 333,
   "id": "8cc1e870-ce10-41eb-b050-231908a2da99",
   "metadata": {},
   "outputs": [],
   "source": [
    "df = df[df.pt_id_date.isin(indices)]"
   ]
  },
  {
   "cell_type": "code",
   "execution_count": 337,
   "id": "75972884-813a-4da5-a955-d405785aae9c",
   "metadata": {},
   "outputs": [
    {
     "data": {
      "text/plain": [
       "General       1435\n",
       "Spinal         235\n",
       "MAC            105\n",
       "General 전환      10\n",
       "Name: anesthesia_type, dtype: int64"
      ]
     },
     "execution_count": 337,
     "metadata": {},
     "output_type": "execute_result"
    }
   ],
   "source": [
    "df['anesthesia_type'].value_counts()"
   ]
  },
  {
   "cell_type": "code",
   "execution_count": 341,
   "id": "e665a55c-80b6-4703-a349-50f927c16c4f",
   "metadata": {},
   "outputs": [
    {
     "data": {
      "text/plain": [
       "{'부인과': 804,\n",
       " '이비인후과': 600,\n",
       " '산과': 219,\n",
       " '안과': 145,\n",
       " '성형외과': 5,\n",
       " '정신건강의학과': 5,\n",
       " '외과': 5,\n",
       " '비뇨의학과': 2}"
      ]
     },
     "execution_count": 341,
     "metadata": {},
     "output_type": "execute_result"
    }
   ],
   "source": [
    "df['dept'].value_counts().to_dict()"
   ]
  },
  {
   "cell_type": "code",
   "execution_count": null,
   "id": "8b1912fa-2fae-4404-b9f5-bbe0dadf1f74",
   "metadata": {},
   "outputs": [],
   "source": []
  },
  {
   "cell_type": "code",
   "execution_count": null,
   "id": "e04a6552-4ef9-48c4-8eda-3595d50d2592",
   "metadata": {},
   "outputs": [],
   "source": [
    "\n",
    "# pre&post exists? (con2. pre&post pair)\n",
    "import re\n",
    "pa = re.compile('\\D+')\n",
    "\n",
    "indices = []\n",
    "for i in dfi.idx.unique():\n",
    "    duplicates = dfi[dfi.idx == i]\n",
    "    flist = [ s.split('_')[1].lower() for s in duplicates['vital'].to_list()] # ['orc8', 'orc8', 'orc8']\n",
    "    flist = [pa.findall(f)[0] for f in flist]\n",
    "    \n",
    "    if ('pdor' in flist) and ('pdrec' in flist):\n",
    "        indices.append(i)\n",
    "\n",
    "dfip = dfi[dfi.idx.isin(indices)]"
   ]
  },
  {
   "cell_type": "code",
   "execution_count": 202,
   "id": "724ac086-6e60-4a0a-aad9-f9da96c27c1b",
   "metadata": {},
   "outputs": [
    {
     "data": {
      "text/plain": [
       "14374"
      ]
     },
     "execution_count": 202,
     "metadata": {},
     "output_type": "execute_result"
    }
   ],
   "source": [
    "has.sum()"
   ]
  },
  {
   "cell_type": "code",
   "execution_count": 188,
   "id": "e0d50e2f-02db-4695-ba93-3da45dbc4802",
   "metadata": {},
   "outputs": [
    {
     "data": {
      "text/plain": [
       "'12313'"
      ]
     },
     "execution_count": 188,
     "metadata": {},
     "output_type": "execute_result"
    }
   ],
   "source": [
    "str(round(12313.111))"
   ]
  },
  {
   "cell_type": "code",
   "execution_count": 186,
   "id": "07cfb80f-18d4-4a07-b720-4ee73c544cca",
   "metadata": {},
   "outputs": [
    {
     "name": "stdout",
     "output_type": "stream",
     "text": [
      "object\n",
      "object\n",
      "object\n"
     ]
    },
    {
     "data": {
      "text/plain": [
       "5     None\n",
       "6     None\n",
       "11    None\n",
       "dtype: object"
      ]
     },
     "execution_count": 186,
     "metadata": {},
     "output_type": "execute_result"
    }
   ],
   "source": [
    "opm_nrs.iloc[:3].apply(lambda x: print(x.dtype),axis=1)"
   ]
  },
  {
   "cell_type": "code",
   "execution_count": null,
   "id": "2eddd422-8269-4c71-a35a-8f8da44abcac",
   "metadata": {},
   "outputs": [],
   "source": [
    "# op_list.csv (filter1)\n",
    "df0_a = get_data(label_path0,filter_='all')\n",
    "df1_a = get_data(label_path1,filter_='all')\n",
    "df2_a = get_data(label_path2,filter_='all')\n",
    "\n",
    "df_a = pd.concat([df0_a,df1_a,df2_a])\n",
    "\n",
    "df_a = df_a.drop_duplicates(subset=['등록번호','회복실퇴실일시'])\n",
    "\n",
    "df_a.to_csv('filter0.csv',index=False)"
   ]
  }
 ],
 "metadata": {
  "kernelspec": {
   "display_name": "torch0",
   "language": "python",
   "name": "torch0"
  },
  "language_info": {
   "codemirror_mode": {
    "name": "ipython",
    "version": 3
   },
   "file_extension": ".py",
   "mimetype": "text/x-python",
   "name": "python",
   "nbconvert_exporter": "python",
   "pygments_lexer": "ipython3",
   "version": "3.6.13"
  }
 },
 "nbformat": 4,
 "nbformat_minor": 5
}
