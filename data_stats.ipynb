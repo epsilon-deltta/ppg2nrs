{
 "cells": [
  {
   "cell_type": "code",
   "execution_count": 14,
   "id": "605726cb-786f-4560-bb4e-14ec8bf03510",
   "metadata": {},
   "outputs": [],
   "source": [
    "# label\n",
    "label_path0 = './data/회복간호_21상.xlsx'\n",
    "label_path1 = './data/회복간호_21하.xlsx'\n",
    "label_path2= './data/회복간호_22상.xlsx'\n",
    "\n",
    "# meta label\n",
    "meta_path0 = './data/수술기본_과거력_21상.xlsx'\n",
    "meta_path1 = './data/수술기본_과거력_21하.xlsx'\n",
    "meta_path2= './data/수술기본_과거력_22상.xlsx'\n",
    "# remove nrs-non-existing rows\n",
    "# select columns\n",
    "def get_data(path,filter_='simple'):\n",
    "    df = pd.read_excel(path,header=1)\n",
    "    df = df.iloc[df[['최대 NRS']].dropna().index]\n",
    "    if filter_ == 'simple':\n",
    "        df = df[['등록번호','회복실퇴실일시','최대 NRS']]\n",
    "    elif filter_ == 'all':\n",
    "        pass\n",
    "    return df"
   ]
  },
  {
   "cell_type": "markdown",
   "id": "d09c850e-e7b6-41cc-a4b2-65da16a86b66",
   "metadata": {},
   "source": [
    "### all data stats "
   ]
  },
  {
   "cell_type": "code",
   "execution_count": 4,
   "id": "1ae8c8a2-98d2-4de5-8ba8-922e82847acb",
   "metadata": {},
   "outputs": [],
   "source": [
    "import pandas as pd"
   ]
  },
  {
   "cell_type": "code",
   "execution_count": 50,
   "id": "6489faf3-d7a1-4f20-be2c-0d0f47d23daa",
   "metadata": {},
   "outputs": [],
   "source": [
    "def mul2sing(df):\n",
    "    cols = []\n",
    "    for c0,c1 in df.columns:\n",
    "        c0 = '0' if c0.startswith('Unnamed') else c0\n",
    "        c1 = '0' if c1.startswith('Unnamed') else c1\n",
    "        cols.append(c0+'_'+c1)\n",
    "    return cols\n",
    "\n",
    "m0 = pd.read_excel(meta_path0,header=[0,1],engine='openpyxl')\n",
    "m1 = pd.read_excel(meta_path1,header=[0,1],engine='openpyxl')\n",
    "m2 = pd.read_excel(meta_path2,header=[0,1],engine='openpyxl')\n",
    "\n",
    "m0.columns = mul2sing(m0)\n",
    "m1.columns = mul2sing(m1)\n",
    "m2.columns = mul2sing(m2)\n",
    "\n",
    "m = pd.concat([m0,m1,m2])\n",
    "\n",
    "m = m[['KEY_0','등록번호_0','연령_0','성별_0','AIDS/HIV_마취종류','AIDS/HIV_수술명','AIDS/HIV_환자 진료과']]\n",
    "\n",
    "m = m.rename(columns={'AIDS/HIV_마취종류':'anesthesia_type','AIDS/HIV_수술명':'sur_name','AIDS/HIV_환자 진료과':'dept'})"
   ]
  },
  {
   "cell_type": "code",
   "execution_count": 69,
   "id": "a33b2754-4b47-402b-abe5-c68c7ccbe39d",
   "metadata": {},
   "outputs": [],
   "source": [
    "op0 = pd.read_excel(label_path0,header=1,engine='openpyxl')\n",
    "op1 = pd.read_excel(label_path1,header=1,engine='openpyxl')\n",
    "op2 = pd.read_excel(label_path2,header=1,engine='openpyxl')\n",
    "\n",
    "op = pd.concat([op0,op1,op2])\n",
    "\n",
    "op = op[['KEY','등록번호','회복실퇴실일시','최대 NRS']]"
   ]
  },
  {
   "cell_type": "code",
   "execution_count": null,
   "id": "b4374283-7cf2-4e4b-9e00-574f700ad35b",
   "metadata": {},
   "outputs": [],
   "source": [
    "opm = pd.merge(op,m,how='left',left_on='KEY',right_on='KEY_0')"
   ]
  },
  {
   "cell_type": "code",
   "execution_count": 134,
   "id": "713a7746-41c5-4848-89ed-b63de642db53",
   "metadata": {},
   "outputs": [],
   "source": [
    "# only nrs-existing \n",
    "opm_nrs = opm.dropna(subset=['최대 NRS'])"
   ]
  },
  {
   "cell_type": "code",
   "execution_count": 147,
   "id": "f9276390-ff53-4a6c-b843-0e138db57470",
   "metadata": {},
   "outputs": [],
   "source": [
    "# only pdor&pdrec-pair-existing\n",
    "import pickle\n",
    "with open('./data/vital_split.pkl','rb') as f:\n",
    "    allf_s = pickle.load(f)"
   ]
  },
  {
   "cell_type": "code",
   "execution_count": 179,
   "id": "56206e9f-f676-43a3-9ae7-b01e340242a9",
   "metadata": {},
   "outputs": [
    {
     "name": "stderr",
     "output_type": "stream",
     "text": [
      "/home/yp/anaconda3/envs/torch0/lib/python3.6/site-packages/ipykernel_launcher.py:18: SettingWithCopyWarning: \n",
      "A value is trying to be set on a copy of a slice from a DataFrame.\n",
      "Try using .loc[row_indexer,col_indexer] = value instead\n",
      "\n",
      "See the caveats in the documentation: https://pandas.pydata.org/pandas-docs/stable/user_guide/indexing.html#returning-a-view-versus-a-copy\n"
     ]
    }
   ],
   "source": [
    "df = opm_nrs\n",
    "def get_date(date:str,type_='ymd'):\n",
    "    \n",
    "    date = date.split()\n",
    "\n",
    "    y,m,d = date[0].split('-')\n",
    "    h,min_   = date[1].split(':')\n",
    "    \n",
    "    out = ''\n",
    "    if type_ == 'ymd':\n",
    "        ymd = y[-2:]+m+d\n",
    "        out = ymd\n",
    "    elif type_ == 'hm':\n",
    "        hm = h+min_\n",
    "        out = hm\n",
    "    return out\n",
    "\n",
    "df['date'] = df['회복실퇴실일시'].map(lambda x: get_date(x,'ymd') )"
   ]
  },
  {
   "cell_type": "code",
   "execution_count": 190,
   "id": "3f74cd23-76ab-44ab-a15d-a6721638cac0",
   "metadata": {},
   "outputs": [
    {
     "data": {
      "text/plain": [
       "Index(['KEY', '등록번호', '회복실퇴실일시', '최대 NRS', 'KEY_0', '등록번호_0', '연령_0', '성별_0',\n",
       "       'anesthesia_type', 'sur_name', 'dept', 'date'],\n",
       "      dtype='object')"
      ]
     },
     "execution_count": 190,
     "metadata": {},
     "output_type": "execute_result"
    }
   ],
   "source": [
    "df.columns"
   ]
  },
  {
   "cell_type": "code",
   "execution_count": 192,
   "id": "621afdcd-4b88-4d18-a8b8-539445e8c438",
   "metadata": {},
   "outputs": [],
   "source": [
    "\n",
    "def has_pair(row):\n",
    "    hasPair = False\n",
    "    \n",
    "    pt_id = str(row['등록번호'])\n",
    "    date  = str(row['date'])\n",
    "    \n",
    "    for i, fnames in enumerate(allf_s): # data: ['00000824', 'ORC14', '210611', '133500', '1']\n",
    "        if fnames[0].endswith(pt_id): # 등록번호\n",
    "            if fnames[2].startswith(date): # 회복실퇴실일시(date) 210611\n",
    "                hasPair=True\n",
    "                break\n",
    "                # idx.append([j, sample,allf_n[i],allf[i],sample[-2],sample[-1] ])\n",
    "    return "
   ]
  },
  {
   "cell_type": "code",
   "execution_count": null,
   "id": "b4d08782-198c-49c1-be26-48981c359349",
   "metadata": {},
   "outputs": [],
   "source": [
    "has = opm_nrs.apply(has_vi)"
   ]
  },
  {
   "cell_type": "code",
   "execution_count": 188,
   "id": "e0d50e2f-02db-4695-ba93-3da45dbc4802",
   "metadata": {},
   "outputs": [
    {
     "data": {
      "text/plain": [
       "'12313'"
      ]
     },
     "execution_count": 188,
     "metadata": {},
     "output_type": "execute_result"
    }
   ],
   "source": [
    "str(round(12313.111))"
   ]
  },
  {
   "cell_type": "code",
   "execution_count": 186,
   "id": "07cfb80f-18d4-4a07-b720-4ee73c544cca",
   "metadata": {},
   "outputs": [
    {
     "name": "stdout",
     "output_type": "stream",
     "text": [
      "object\n",
      "object\n",
      "object\n"
     ]
    },
    {
     "data": {
      "text/plain": [
       "5     None\n",
       "6     None\n",
       "11    None\n",
       "dtype: object"
      ]
     },
     "execution_count": 186,
     "metadata": {},
     "output_type": "execute_result"
    }
   ],
   "source": [
    "opm_nrs.iloc[:3].apply(lambda x: print(x.dtype),axis=1)"
   ]
  },
  {
   "cell_type": "code",
   "execution_count": null,
   "id": "2eddd422-8269-4c71-a35a-8f8da44abcac",
   "metadata": {},
   "outputs": [],
   "source": [
    "# op_list.csv (filter1)\n",
    "df0_a = get_data(label_path0,filter_='all')\n",
    "df1_a = get_data(label_path1,filter_='all')\n",
    "df2_a = get_data(label_path2,filter_='all')\n",
    "\n",
    "df_a = pd.concat([df0_a,df1_a,df2_a])\n",
    "\n",
    "df_a = df_a.drop_duplicates(subset=['등록번호','회복실퇴실일시'])\n",
    "\n",
    "df_a.to_csv('filter0.csv',index=False)"
   ]
  }
 ],
 "metadata": {
  "kernelspec": {
   "display_name": "torch0",
   "language": "python",
   "name": "torch0"
  },
  "language_info": {
   "codemirror_mode": {
    "name": "ipython",
    "version": 3
   },
   "file_extension": ".py",
   "mimetype": "text/x-python",
   "name": "python",
   "nbconvert_exporter": "python",
   "pygments_lexer": "ipython3",
   "version": "3.6.13"
  }
 },
 "nbformat": 4,
 "nbformat_minor": 5
}
