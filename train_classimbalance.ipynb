{
 "cells": [
  {
   "cell_type": "markdown",
   "id": "703d040e-0964-4963-a5ab-184e10161f06",
   "metadata": {},
   "source": [
    "# Class imbalanced "
   ]
  },
  {
   "cell_type": "markdown",
   "id": "517105d3-d962-4b90-917c-90c46ac80e0d",
   "metadata": {},
   "source": [
    "- [ ] class weight\n",
    "- [ ] synthetic data\n",
    "- [ ] resampling"
   ]
  },
  {
   "cell_type": "markdown",
   "id": "2daca760-e269-4881-bc62-336c8d734f09",
   "metadata": {},
   "source": [
    "## class weight "
   ]
  },
  {
   "cell_type": "code",
   "execution_count": 2,
   "id": "106001cd-1624-46f7-ac4c-53b04163b1f4",
   "metadata": {
    "tags": []
   },
   "outputs": [],
   "source": [
    "def get_classweight(trdl):\n",
    "    \n",
    "    labels = []\n",
    "    for i in range(len(trdl.dataset)):\n",
    "        _,y = trdl.dataset[i]\n",
    "        labels.append(y)\n",
    "    labels = np.array(labels)\n",
    "    \n",
    "    from sklearn.utils import class_weight\n",
    "    class_weights=class_weight.compute_class_weight('balanced',classes=np.unique(tr_y),y=tr_y.to_numpy())\n",
    "    class_weights=torch.tensor(class_weights,dtype=torch.float)\n",
    "    return class_weights"
   ]
  },
  {
   "cell_type": "code",
   "execution_count": 2,
   "id": "425a106e-d5a3-48ef-b245-1bc5f8ed0e05",
   "metadata": {},
   "outputs": [],
   "source": [
    "from utils import get_classweight\n",
    "import torch\n",
    "from torch.utils.data import DataLoader\n",
    "from dataset import VitalDataset_fs\n",
    "idx = 3\n",
    "root_dir = f'../data/all_{idx}'\n",
    "trdt  = VitalDataset_fs(root_dir,f'../data/pd_gy/train_{idx}.json')\n",
    "valdt = VitalDataset_fs(root_dir,f'../data/pd_gy/val_{idx}.json') \n",
    "tedt  = VitalDataset_fs(root_dir,f'../data/pd_gy/test_{idx}.json') \n",
    "\n",
    "trdl  = torch.utils.data.DataLoader(trdt,4)\n",
    "valdl  = torch.utils.data.DataLoader(valdt,4)\n",
    "tedl  = torch.utils.data.DataLoader(valdt,4)\n",
    "\n",
    "from models import PrePostNet\n",
    "from train import get_classweight\n",
    "model = PrePostNet()\n",
    "\n",
    "from torch import nn\n",
    "device     = 'cuda' if torch.cuda.is_available() else 'cpu'\n",
    "\n",
    "batch_size = 4\n",
    "\n",
    "class_weight = get_classweight(trdl).to(device)\n",
    "loss       = nn.CrossEntropyLoss(class_weight)\n",
    "# loss       = nn.CrossEntropyLoss()\n",
    "lr         = 0.01 \n",
    "\n",
    "\n",
    "params = [p for p in model.parameters() if p.requires_grad]\n",
    "opt  = torch.optim.Adam(params,lr=lr)"
   ]
  },
  {
   "cell_type": "code",
   "execution_count": 2,
   "id": "00a3f091-dd3d-49a2-a2bc-d7566cbabdc0",
   "metadata": {},
   "outputs": [
    {
     "name": "stdout",
     "output_type": "stream",
     "text": [
      "[0] acc/loss: 0.83/0.183891\n",
      "[1] acc/loss: 0.72/0.157175\n",
      "[2] acc/loss: 0.69/0.288041\n",
      "[3] acc/loss: 0.76/0.183061\n",
      "[4] acc/loss: 0.83/0.154535\n",
      "[5] acc/loss: 0.83/0.170922\n",
      "[6] acc/loss: 0.83/0.158942\n",
      "[7] acc/loss: 0.66/0.262116\n",
      "[8] acc/loss: 0.7/0.210072\n",
      "[9] acc/loss: 0.75/0.192625\n"
     ]
    }
   ],
   "source": [
    "from train import trainval\n",
    "best_model,val_losses = trainval(trdl,valdl,model,loss,opt,device=device, exist_acc=True)"
   ]
  },
  {
   "cell_type": "markdown",
   "id": "7eb1fc15-373b-4475-a18f-4f83def81fa0",
   "metadata": {},
   "source": [
    "## Weighted Random Sampler "
   ]
  },
  {
   "cell_type": "code",
   "execution_count": 14,
   "id": "fb436a87-ced7-403c-b6aa-fa3d840773bb",
   "metadata": {},
   "outputs": [],
   "source": [
    "import torch\n",
    "from torch.utils.data import DataLoader, WeightedRandomSampler\n",
    "from dataset import VitalDataset_fs\n",
    "from models import PrePostNet\n",
    "from train import get_classweight\n",
    "from torch import nn\n",
    "\n",
    "model = PrePostNet()\n",
    "device     = 'cuda' if torch.cuda.is_available() else 'cpu'\n",
    "batch_size = 4\n",
    "# loss       = nn.CrossEntropyLoss()\n",
    "lr         = 0.01 \n",
    "params = [p for p in model.parameters() if p.requires_grad]\n",
    "opt  = torch.optim.Adam(params,lr=lr)\n",
    "\n",
    "idx = 3\n",
    "root_dir = f'../data/all_{idx}'\n",
    "trdt  = VitalDataset_fs(root_dir,f'../data/pd_gy/train_{idx}.json')\n",
    "valdt = VitalDataset_fs(root_dir,f'../data/pd_gy/val_{idx}.json') \n",
    "tedt  = VitalDataset_fs(root_dir,f'../data/pd_gy/test_{idx}.json') \n",
    "\n",
    "\n",
    "class_weight = get_classweight(trdt).to(device)\n",
    "loss       = nn.CrossEntropyLoss(class_weight)\n",
    "\n",
    "from train import get_classweight_all\n",
    "class_weight = torch.tensor([x/class_weight.sum() for x in class_weight])\n",
    "class_weight_all = get_classweight_all(trdt,class_weight)\n",
    "\n",
    "weighted_sampler = WeightedRandomSampler(\n",
    "    weights=class_weight_all,\n",
    "    num_samples=len(class_weight_all),\n",
    "    replacement=True\n",
    ")\n",
    "\n",
    "\n",
    "\n",
    "trdl  = torch.utils.data.DataLoader(trdt,4,sampler=weighted_sampler)\n",
    "valdl  = torch.utils.data.DataLoader(valdt,4)\n",
    "tedl  = torch.utils.data.DataLoader(valdt,4)"
   ]
  },
  {
   "cell_type": "code",
   "execution_count": 13,
   "id": "a26c3df6-058b-43d7-89c7-131e7dd27d64",
   "metadata": {},
   "outputs": [
    {
     "data": {
      "text/plain": [
       "tensor([0.1729, 0.8271])"
      ]
     },
     "execution_count": 13,
     "metadata": {},
     "output_type": "execute_result"
    }
   ],
   "source": [
    "torch.tensor([x/class_weight.sum() for x in class_weight])"
   ]
  },
  {
   "cell_type": "code",
   "execution_count": 15,
   "id": "00f1ade6-646b-4b22-98b1-6f3d76a7c31d",
   "metadata": {},
   "outputs": [
    {
     "name": "stdout",
     "output_type": "stream",
     "text": [
      "[0] acc/loss: 0.17/0.494183\n",
      "[1] acc/loss: 0.17/0.314152\n",
      "[2] acc/loss: 0.17/0.243351\n",
      "[3] acc/loss: 0.17/0.220442\n",
      "[4] acc/loss: 0.17/0.457828\n",
      "[5] acc/loss: 0.37/0.213405\n",
      "[6] acc/loss: 0.17/0.535542\n",
      "[7] acc/loss: 0.17/1.223115\n",
      "[8] acc/loss: 0.19/0.236616\n",
      "[9] acc/loss: 0.18/0.236128\n",
      "[10] acc/loss: 0.32/0.234474\n"
     ]
    }
   ],
   "source": [
    "from train import trainval\n",
    "best_model,val_losses = trainval(trdl,valdl,model,loss,opt,device=device, exist_acc=True)"
   ]
  },
  {
   "cell_type": "code",
   "execution_count": 4,
   "id": "50d5b6fb-b928-4102-ad0b-3bd1f1518aca",
   "metadata": {},
   "outputs": [
    {
     "data": {
      "text/plain": [
       "tensor([0.6045, 2.8917], device='cuda:0')"
      ]
     },
     "execution_count": 4,
     "metadata": {},
     "output_type": "execute_result"
    }
   ],
   "source": [
    "class_weight"
   ]
  },
  {
   "cell_type": "code",
   "execution_count": 45,
   "id": "80e74072-85d6-46d1-a701-f5af59057aae",
   "metadata": {},
   "outputs": [],
   "source": [
    "def get_classweight_all(trdt,class_weight):\n",
    "    from torch.utils.data import WeightedRandomSampler\n",
    "    tr_y = []\n",
    "    for i in range(len(trdt)):\n",
    "        tr_y.append(trdt[i][1])\n",
    "    class_weight_all = class_weight[tr_y]\n",
    "    return class_weight_all"
   ]
  },
  {
   "cell_type": "code",
   "execution_count": null,
   "id": "2eaad2da-9763-473a-bf09-1b2d629cfacc",
   "metadata": {
    "collapsed": true,
    "jupyter": {
     "outputs_hidden": true
    },
    "tags": []
   },
   "outputs": [
    {
     "data": {
      "text/plain": [
       "tensor([2.8917, 2.8917, 0.6045, 0.6045, 0.6045, 2.8917, 0.6045, 0.6045, 0.6045,\n",
       "        0.6045, 2.8917, 0.6045, 0.6045, 0.6045, 0.6045, 0.6045, 0.6045, 0.6045,\n",
       "        0.6045, 2.8917, 0.6045, 2.8917, 0.6045, 0.6045, 0.6045, 0.6045, 0.6045,\n",
       "        0.6045, 0.6045, 0.6045, 0.6045, 2.8917, 0.6045, 0.6045, 2.8917, 2.8917,\n",
       "        0.6045, 0.6045, 2.8917, 2.8917, 0.6045, 0.6045, 0.6045, 0.6045, 0.6045,\n",
       "        0.6045, 0.6045, 0.6045, 2.8917, 2.8917, 2.8917, 0.6045, 0.6045, 0.6045,\n",
       "        2.8917, 0.6045, 2.8917, 0.6045, 0.6045, 0.6045, 2.8917, 0.6045, 0.6045,\n",
       "        2.8917, 0.6045, 0.6045, 0.6045, 0.6045, 0.6045, 0.6045, 0.6045, 0.6045,\n",
       "        0.6045, 0.6045, 0.6045, 2.8917, 0.6045, 0.6045, 0.6045, 2.8917, 0.6045,\n",
       "        0.6045, 0.6045, 0.6045, 2.8917, 0.6045, 0.6045, 0.6045, 0.6045, 2.8917,\n",
       "        2.8917, 0.6045, 0.6045, 0.6045, 0.6045, 0.6045, 0.6045, 0.6045, 2.8917,\n",
       "        0.6045, 0.6045, 0.6045, 0.6045, 0.6045, 0.6045, 0.6045, 0.6045, 0.6045,\n",
       "        0.6045, 0.6045, 0.6045, 0.6045, 0.6045, 0.6045, 0.6045, 0.6045, 0.6045,\n",
       "        2.8917, 0.6045, 0.6045, 0.6045, 0.6045, 0.6045, 0.6045, 2.8917, 0.6045,\n",
       "        0.6045, 0.6045, 0.6045, 0.6045, 0.6045, 0.6045, 0.6045, 0.6045, 0.6045,\n",
       "        0.6045, 0.6045, 0.6045, 0.6045, 0.6045, 0.6045, 2.8917, 2.8917, 0.6045,\n",
       "        0.6045, 0.6045, 0.6045, 0.6045, 0.6045, 0.6045, 0.6045, 0.6045, 2.8917,\n",
       "        0.6045, 0.6045, 2.8917, 2.8917, 0.6045, 2.8917, 0.6045, 0.6045, 0.6045,\n",
       "        2.8917, 0.6045, 0.6045, 0.6045, 2.8917, 0.6045, 0.6045, 2.8917, 0.6045,\n",
       "        0.6045, 0.6045, 0.6045, 0.6045, 0.6045, 0.6045, 2.8917, 2.8917, 0.6045,\n",
       "        0.6045, 0.6045, 0.6045, 0.6045, 0.6045, 0.6045, 2.8917, 0.6045, 0.6045,\n",
       "        0.6045, 0.6045, 0.6045, 0.6045, 2.8917, 0.6045, 2.8917, 0.6045, 0.6045,\n",
       "        0.6045, 0.6045, 0.6045, 0.6045, 2.8917, 0.6045, 0.6045, 0.6045, 0.6045,\n",
       "        0.6045, 0.6045, 0.6045, 0.6045, 0.6045, 0.6045, 0.6045, 0.6045, 0.6045,\n",
       "        0.6045, 0.6045, 0.6045, 0.6045, 0.6045, 0.6045, 0.6045, 0.6045, 2.8917,\n",
       "        0.6045, 0.6045, 0.6045, 0.6045, 0.6045, 0.6045, 0.6045, 2.8917, 0.6045,\n",
       "        0.6045, 0.6045, 0.6045, 0.6045, 0.6045, 0.6045, 0.6045, 2.8917, 0.6045,\n",
       "        0.6045, 0.6045, 0.6045, 0.6045, 0.6045, 0.6045, 0.6045, 0.6045, 0.6045,\n",
       "        0.6045, 0.6045, 0.6045, 0.6045, 0.6045, 0.6045, 0.6045, 0.6045, 2.8917,\n",
       "        0.6045, 0.6045, 2.8917, 0.6045, 0.6045, 2.8917, 2.8917, 0.6045, 2.8917,\n",
       "        0.6045, 2.8917, 0.6045, 0.6045, 2.8917, 0.6045, 0.6045, 0.6045, 2.8917,\n",
       "        0.6045, 2.8917, 0.6045, 0.6045, 0.6045, 0.6045, 0.6045, 0.6045, 0.6045,\n",
       "        0.6045, 0.6045, 0.6045, 0.6045, 0.6045, 0.6045, 0.6045, 0.6045, 0.6045,\n",
       "        2.8917, 0.6045, 0.6045, 0.6045, 0.6045, 2.8917, 0.6045, 0.6045, 0.6045,\n",
       "        0.6045, 2.8917, 2.8917, 0.6045, 0.6045, 0.6045, 0.6045, 0.6045, 0.6045,\n",
       "        0.6045, 0.6045, 0.6045, 0.6045, 0.6045, 0.6045, 0.6045, 0.6045, 0.6045,\n",
       "        0.6045, 2.8917, 0.6045, 2.8917, 0.6045, 0.6045, 0.6045, 0.6045, 0.6045,\n",
       "        0.6045, 0.6045, 0.6045, 0.6045, 0.6045, 0.6045, 0.6045, 0.6045, 0.6045,\n",
       "        0.6045, 2.8917, 0.6045, 0.6045, 0.6045], device='cuda:0')"
      ]
     },
     "execution_count": 46,
     "metadata": {},
     "output_type": "execute_result"
    }
   ],
   "source": [
    "from train import get_classweight_all\n",
    "get_classweight_all(trdt,class_weight)\n",
    "weighted_sampler = WeightedRandomSampler(\n",
    "    weights=class_weights_all,\n",
    "    num_samples=len(class_weights_all),\n",
    "    replacement=True\n",
    ")"
   ]
  },
  {
   "cell_type": "code",
   "execution_count": 43,
   "id": "171b73c1-38cf-442f-b50a-0db2fbbc344b",
   "metadata": {},
   "outputs": [],
   "source": [
    "from torch.utils.data import WeightedRandomSampler\n",
    "tr_y = []\n",
    "for i in range(len(trdt)):\n",
    "    tr_y.append(trdt[i][1])\n",
    "\n",
    "class_weights_all = class_weight[tr_y]\n",
    "\n",
    "weighted_sampler = WeightedRandomSampler(\n",
    "    weights=class_weights_all,\n",
    "    num_samples=len(class_weights_all),\n",
    "    replacement=True\n",
    ")"
   ]
  },
  {
   "cell_type": "code",
   "execution_count": null,
   "id": "68c74056-7604-4fa2-868a-846983eb2c65",
   "metadata": {},
   "outputs": [],
   "source": []
  }
 ],
 "metadata": {
  "kernelspec": {
   "display_name": "torch0",
   "language": "python",
   "name": "torch0"
  },
  "language_info": {
   "codemirror_mode": {
    "name": "ipython",
    "version": 3
   },
   "file_extension": ".py",
   "mimetype": "text/x-python",
   "name": "python",
   "nbconvert_exporter": "python",
   "pygments_lexer": "ipython3",
   "version": "3.6.13"
  }
 },
 "nbformat": 4,
 "nbformat_minor": 5
}
