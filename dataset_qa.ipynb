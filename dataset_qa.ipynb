{
 "cells": [
  {
   "cell_type": "code",
   "execution_count": 10,
   "id": "7f1155c4-6b8b-404e-b211-e1e1b6190343",
   "metadata": {},
   "outputs": [],
   "source": [
    "import torch\n",
    "from torch.utils.data import DataLoader\n",
    "from dataset import VitalDataset\n",
    "root_dir = '../data/pd_gy'\n",
    "trdt  = VitalDataset(root_dir,'../data/pd_gy/train.json')\n",
    "valdt = VitalDataset(root_dir,'../data/pd_gy/val.json') \n",
    "tedt  = VitalDataset(root_dir,'../data/pd_gy/test.json') \n",
    "\n",
    "trdl  = torch.utils.data.DataLoader(trdt,4)\n",
    "valdl  = torch.utils.data.DataLoader(valdt,4)\n",
    "tedl  = torch.utils.data.DataLoader(valdt,4)"
   ]
  },
  {
   "cell_type": "code",
   "execution_count": 12,
   "id": "6a1a8746-da1e-4a11-98e8-f97e7eff8f17",
   "metadata": {},
   "outputs": [],
   "source": [
    "import torch\n",
    "from torch.utils.data import DataLoader\n",
    "from dataset import VitalDataset\n",
    "root_dir = '../data/pd_gy'\n",
    "trdt  = VitalDataset(root_dir,'../data/pd_gy/all_3.json')\n",
    "\n",
    "alldl  = torch.utils.data.DataLoader(trdt,4)"
   ]
  },
  {
   "cell_type": "code",
   "execution_count": null,
   "id": "f3606898-010e-4582-819e-ed2289a8d04e",
   "metadata": {},
   "outputs": [
    {
     "data": {
      "application/vnd.jupyter.widget-view+json": {
       "model_id": "9326c1e65c5d40e6af3256eddfabdd75",
       "version_major": 2,
       "version_minor": 0
      },
      "text/plain": [
       "  0%|          | 0/164 [00:00<?, ?it/s]"
      ]
     },
     "metadata": {},
     "output_type": "display_data"
    },
    {
     "name": "stdout",
     "output_type": "stream",
     "text": [
      "../data/pd_gy/./pdor/01405184_PDOR1_210329_113500_1.vital\n",
      "../data/pd_gy/./pdrec/01405184_PDREC02_210329_133000_1.vital \n",
      "===\n",
      "../data/pd_gy/./pdor/00618336_PDOR1_210329_155000_1.vital\n",
      "../data/pd_gy/./pdrec/00618336_PDREC01_210329_174600_1.vital \n",
      "===\n",
      "../data/pd_gy/./pdor/01826222_PDOR1_210329_134000_1.vital\n",
      "../data/pd_gy/./pdrec/01826222_PDREC02_210329_152000_1.vital \n",
      "===\n",
      "../data/pd_gy/./pdor/00421373_PDOR1_210419_120000_1.vital\n",
      "../data/pd_gy/./pdrec/00421373_PDREC03_210419_140100_1.vital \n",
      "===\n",
      "3.7551997365385643e-23~(tensor(754.3369), 3)\n",
      "1.9257090362600677e-19~(tensor(608.7839), 3)\n",
      "1.676196208338041e-20~(tensor(1208.4263), 3)\n",
      "1.3667486921775352e-23~(tensor(3296.5713), 3)\n",
      "===\n",
      "../data/pd_gy/./pdor/01826911_PDOR1_210405_083500_1.vital\n",
      "../data/pd_gy/./pdrec/01826911_PDREC01_210405_105000_1.vital \n",
      "===\n",
      "../data/pd_gy/./pdor/01821974_PDOR1_210331_131500_1.vital\n",
      "../data/pd_gy/./pdrec/01821974_PDREC01_210331_154600_1.vital \n",
      "===\n",
      "../data/pd_gy/./pdor/01751057_PDOR1_210419_142200_1.vital\n",
      "../data/pd_gy/./pdrec/01751057_PDREC02_210419_170600_1.vital \n",
      "===\n",
      "../data/pd_gy/./pdor/01834648_PDOR1_210421_140500_1.vital\n",
      "../data/pd_gy/./pdrec/01834648_PDREC02_210421_155600_1.vital \n",
      "===\n",
      "8.796531862953698e-21~(tensor(717.4564), 3)\n",
      "1.7734495131665198e-19~(tensor(788.5674), 3)\n",
      "9.325975437925512e-20~(tensor(900.9823), 3)\n",
      "1.7408400032332956e-25~(tensor(3292.2285), 3)\n",
      "===\n",
      "../data/pd_gy/./pdor/01828542_PDOR1_210407_132500_1.vital\n",
      "../data/pd_gy/./pdrec/01828542_PDREC03_210407_153100_1.vital \n",
      "===\n",
      "../data/pd_gy/./pdor/00497217_PDOR2_210405_105500_1.vital\n",
      "../data/pd_gy/./pdrec/00497217_PDREC03_210405_123100_1.vital \n",
      "===\n",
      "../data/pd_gy/./pdor/01838364_PDOR1_210405_132000_1.vital\n",
      "../data/pd_gy/./pdrec/01838364_PDREC03_210405_153500_1.vital \n",
      "===\n",
      "../data/pd_gy/./pdor/01818399_PDOR1_210407_113500_1.vital\n",
      "../data/pd_gy/./pdrec/01818399_PDREC03_210407_132000_1.vital \n",
      "===\n",
      "4.412353447387609e-21~(tensor(870.0413), 3)\n",
      "4.2587138574525475e-20~(tensor(1219.7523), 3)\n",
      "1.3160888155297918e-19~(tensor(1394.4133), 3)\n",
      "1.120737706166206e-19~(tensor(1282.6107), 3)\n",
      "===\n",
      "../data/pd_gy/./pdor/01643847_PDOR2_210405_145800_1.vital\n",
      "../data/pd_gy/./pdrec/01643847_PDREC02_210405_173600_1.vital \n",
      "===\n",
      "../data/pd_gy/./pdor/00653861_PDOR4_210407_144000_1.vital\n",
      "../data/pd_gy/./pdrec/00653861_PDREC02_210407_165600_1.vital \n",
      "===\n",
      "../data/pd_gy/./pdor/00304768_PDOR1_210407_084000_1.vital\n",
      "../data/pd_gy/./pdrec/00304768_PDREC03_210407_105100_1.vital \n",
      "===\n",
      "../data/pd_gy/./pdor/01831713_PDOR2_210421_152500_1.vital\n",
      "../data/pd_gy/./pdrec/01831713_PDREC01_210421_173500_1.vital \n",
      "===\n",
      "2.7987222341560437e-22~(tensor(433.1695), 3)\n",
      "4.2681406419670454e-33~(tensor(1355.9110), 3)\n",
      "4.505063947377781e-19~(tensor(982.4006), 3)\n",
      "1.11628372630852e-19~(tensor(819.4026), 3)\n",
      "===\n",
      "../data/pd_gy/./pdor/00406832_PDOR1_210419_104600_1.vital\n",
      "../data/pd_gy/./pdrec/00406832_PDREC03_210419_115500_1.vital \n",
      "===\n",
      "../data/pd_gy/./pdor/00437466_PDOR1_210329_083200_1.vital\n",
      "../data/pd_gy/./pdrec/00437466_PDREC02_210329_094000_1.vital \n",
      "===\n",
      "../data/pd_gy/./pdor/01596799_PDOR1_210331_100300_1.vital\n",
      "../data/pd_gy/./pdrec/01596799_PDREC01_210331_113900_1.vital \n",
      "===\n",
      "../data/pd_gy/./pdor/01661579_PDOR2_210405_123400_1.vital\n",
      "../data/pd_gy/./pdrec/01661579_PDREC03_210405_133500_1.vital \n",
      "===\n",
      "2.0641626009003565e-22~(tensor(915.2256), 3)\n",
      "3.312626742703361e-19~(tensor(938.9639), 3)\n",
      "1.5243269585894597e-21~(tensor(1789.2162), 3)\n",
      "1.3458703144958341e-21~(tensor(834.9472), 3)\n",
      "===\n",
      "../data/pd_gy/./pdor/01842720_PDOR1_210503_141100_1.vital\n",
      "../data/pd_gy/./pdrec/01842720_PDREC04_210503_160000_1.vital \n",
      "===\n",
      "../data/pd_gy/./pdor/00700233_PDOR2_210503_125500_1.vital\n",
      "../data/pd_gy/./pdrec/00700233_PDREC03_210503_155000_1.vital \n",
      "===\n",
      "../data/pd_gy/./pdor/00164214_PDOR1_210512_140200_1.vital\n",
      "../data/pd_gy/./pdrec/00164214_PDREC03_210512_153100_1.vital \n",
      "===\n",
      "../data/pd_gy/./pdor/00836314_PDOR1_210512_084100_1.vital\n",
      "../data/pd_gy/./pdrec/00836314_PDREC01_210512_100400_1.vital \n",
      "===\n",
      "4.040614441138444e-19~(tensor(434.6889), 3)\n",
      "5.416403531039087e-20~(tensor(690.6088), 3)\n",
      "4.494801220915412e-20~(tensor(439.2035), 3)\n",
      "6.454757214745794e-20~(tensor(447.2951), 3)\n",
      "===\n",
      "../data/pd_gy/./pdor/01836364_PDOR4_210510_123000_1.vital\n",
      "../data/pd_gy/./pdrec/01836364_PDREC03_210510_141600_1.vital \n",
      "===\n",
      "../data/pd_gy/./pdor/00934075_PDOR1_210517_141500_1.vital\n",
      "../data/pd_gy/./pdrec/00934075_PDREC02_210517_160100_1.vital \n",
      "===\n",
      "../data/pd_gy/./pdor/01847396_PDOR1_210512_121100_1.vital\n",
      "../data/pd_gy/./pdrec/01847396_PDREC01_210512_135900_1.vital \n",
      "===\n",
      "../data/pd_gy/./pdor/01845153_PDOR1_210510_112500_1.vital\n",
      "../data/pd_gy/./pdrec/01845153_PDREC03_210510_124600_1.vital \n",
      "===\n",
      "5.256709528319763e-20~(tensor(1220.5837), 3)\n",
      "4.35024417104141e-19~(tensor(692.4465), 3)\n",
      "1.3973934319133945e-19~(tensor(682.9405), 3)\n",
      "4.274656148172373e-21~(tensor(1168.4670), 3)\n",
      "===\n",
      "../data/pd_gy/./pdor/01838451_PDOR1_210517_123000_1.vital\n",
      "../data/pd_gy/./pdrec/01838451_PDREC02_210517_140300_1.vital \n",
      "===\n"
     ]
    }
   ],
   "source": [
    "from tqdm.notebook import tqdm\n",
    "for x,y in tqdm(alldl):\n",
    "    for i in x:\n",
    "        print(f'{i.min()}~{i.max(),3}')\n",
    "    print('===')"
   ]
  },
  {
   "cell_type": "code",
   "execution_count": 1,
   "id": "14332e03-1471-4f0a-b03d-7833fd806297",
   "metadata": {},
   "outputs": [],
   "source": [
    "import torch"
   ]
  },
  {
   "cell_type": "code",
   "execution_count": 3,
   "id": "5138e42e-276e-41ce-a8f7-b1be8cc9a9d0",
   "metadata": {},
   "outputs": [],
   "source": [
    "a = torch.rand(3,4)"
   ]
  },
  {
   "cell_type": "code",
   "execution_count": 8,
   "id": "05190894-50e1-4ac8-a463-c6d95c984def",
   "metadata": {},
   "outputs": [
    {
     "name": "stdout",
     "output_type": "stream",
     "text": [
      "torch.Size([4])\n",
      "torch.Size([4])\n",
      "torch.Size([4])\n"
     ]
    }
   ],
   "source": [
    "for x in a :\n",
    "    print(x.shape)"
   ]
  },
  {
   "cell_type": "code",
   "execution_count": 7,
   "id": "da43637f-458b-401e-83c6-9c4209433024",
   "metadata": {},
   "outputs": [
    {
     "data": {
      "text/plain": [
       "(tensor(0.0912), tensor(0.9907))"
      ]
     },
     "execution_count": 7,
     "metadata": {},
     "output_type": "execute_result"
    }
   ],
   "source": [
    "a.min(),a.max()"
   ]
  },
  {
   "cell_type": "code",
   "execution_count": null,
   "id": "d6e848f6-966b-40d9-bb91-3bbc4a3d80fb",
   "metadata": {},
   "outputs": [],
   "source": [
    "from models import PrePostNet\n",
    "\n",
    "model = PrePostNet()"
   ]
  }
 ],
 "metadata": {
  "kernelspec": {
   "display_name": "torch0",
   "language": "python",
   "name": "torch0"
  },
  "language_info": {
   "codemirror_mode": {
    "name": "ipython",
    "version": 3
   },
   "file_extension": ".py",
   "mimetype": "text/x-python",
   "name": "python",
   "nbconvert_exporter": "python",
   "pygments_lexer": "ipython3",
   "version": "3.6.13"
  }
 },
 "nbformat": 4,
 "nbformat_minor": 5
}
