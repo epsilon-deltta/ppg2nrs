{
 "cells": [
  {
   "cell_type": "markdown",
   "id": "aaf39ee0-9da6-43ef-b037-9cccc4e25df2",
   "metadata": {},
   "source": [
    "### add column "
   ]
  },
  {
   "cell_type": "code",
   "execution_count": 103,
   "id": "0a46d360-3ba2-435e-a9c1-c26c6b57bb40",
   "metadata": {},
   "outputs": [],
   "source": [
    "def add_cols(jpath, fpath, cols):\n",
    "    jpath = '../data/pd_gy/all.json'\n",
    "    fpath = 'filter0.csv'\n",
    "\n",
    "    add_cols = ['age','gender']\n",
    "\n",
    "    import json \n",
    "    with open(jpath,'r') as f:\n",
    "        dj = json.load(f)\n",
    "\n",
    "    import pandas as pd\n",
    "    op = pd.read_csv(fpath)\n",
    "\n",
    "    op = op.rename(columns = {'성별':'gender','나이':'age','KEY':'key'})\n",
    "    op['key'] = op.key.astype('str')\n",
    "\n",
    "    l = []\n",
    "    for i,val in enumerate(dj):\n",
    "        key  = val['key']\n",
    "        item = op[op.key==key]\n",
    "        for col in add_cols:\n",
    "            col_value = item[col].values[0]\n",
    "            dj[i][col] = col_value\n",
    "    return dj"
   ]
  },
  {
   "cell_type": "code",
   "execution_count": 124,
   "id": "bacd71e9-2f8b-4c05-b7f2-095d1da6abf3",
   "metadata": {},
   "outputs": [],
   "source": [
    "jpath = '../data/pd_gy/all.json'\n",
    "fpath = 'filter0.csv'\n",
    "\n",
    "import json \n",
    "with open(jpath,'r') as f:\n",
    "    dj = json.load(f)\n",
    "\n",
    "import pandas as pd\n",
    "op = pd.read_csv(fpath)\n",
    "\n",
    "op = op.rename(columns = {'성별':'gender','나이':'age','KEY':'key'})\n",
    "op['key'] = op.key.astype('str')\n",
    "\n",
    "l = []\n",
    "for i,val in enumerate(dj):\n",
    "    key  = val['key']\n",
    "    item = op[op.key==key]\n",
    "    age = int(item['age'].values[0])\n",
    "    gender = str(item['gender'].values[0])\n",
    "    dj[i]['age'], dj[i]['gender'] = age, gender.lower()"
   ]
  },
  {
   "cell_type": "code",
   "execution_count": 126,
   "id": "72780af5-c6dd-4b7d-aec7-eaffa128d654",
   "metadata": {},
   "outputs": [],
   "source": [
    "import json\n",
    "with open('../data/pd_gy/all_1.json','w') as f:\n",
    "    json.dump(dj,f)"
   ]
  },
  {
   "cell_type": "markdown",
   "id": "a0fe9abe-f9ef-42c3-91f6-837d836fd320",
   "metadata": {},
   "source": [
    "### 3 hold out "
   ]
  },
  {
   "cell_type": "code",
   "execution_count": 1,
   "id": "92241295-bbde-4037-bbcf-9c97b9d3ca39",
   "metadata": {},
   "outputs": [],
   "source": [
    "jpath = '../data/pd_gy/all_1.json'\n",
    "\n",
    "import json\n",
    "with open(jpath, 'r') as f:\n",
    "    jf = json.load(f)"
   ]
  },
  {
   "cell_type": "code",
   "execution_count": 2,
   "id": "b9157ee6-13f0-4d36-8047-45c94ed23135",
   "metadata": {},
   "outputs": [],
   "source": [
    "from utils import num2class\n",
    "\n",
    "for i,val in enumerate(jf):\n",
    "    jf[i]['nrs_2'] = num2class(val['nrs'])"
   ]
  },
  {
   "cell_type": "code",
   "execution_count": 15,
   "id": "1b3426d4-1d6e-4deb-b708-3a461a954368",
   "metadata": {},
   "outputs": [],
   "source": [
    "import pandas as pd\n",
    "\n",
    "from sklearn.model_selection import train_test_split\n",
    "\n",
    "# train:val:test = 3:1:1\n",
    "nrs2_0 = pd.DataFrame(jf)['nrs_2']\n",
    "xtr, xte= train_test_split(jf, test_size=0.2, shuffle=True, stratify=nrs2_0, random_state=34)\n",
    "nrs2_1 = pd.DataFrame(xtr)['nrs_2']\n",
    "xtr, xval= train_test_split(xtr, test_size=0.25, shuffle=True, stratify=nrs2_1, random_state=34)"
   ]
  },
  {
   "cell_type": "code",
   "execution_count": null,
   "id": "201e2a04-a092-4237-8289-551b062d4435",
   "metadata": {},
   "outputs": [],
   "source": [
    "with open('../data/pd_gy/train.json','w') as f:\n",
    "    json.dump(xtr,f)\n",
    "with open('../data/pd_gy/val.json','w') as f:\n",
    "    json.dump(xval,f)\n",
    "with open('../data/pd_gy/test.json','w') as f:\n",
    "    json.dump(xte,f)"
   ]
  },
  {
   "cell_type": "markdown",
   "id": "42263558-8681-4171-ba5d-9854a707f670",
   "metadata": {},
   "source": [
    "### Only General Anesthesia "
   ]
  },
  {
   "cell_type": "code",
   "execution_count": 1,
   "id": "6bde2509-6b72-4844-9df0-a8c82a1eccbc",
   "metadata": {},
   "outputs": [],
   "source": [
    "import json\n",
    "with open('../data/pd_gy/all_1.json','r') as f:\n",
    "    jf = json.load(f)"
   ]
  },
  {
   "cell_type": "code",
   "execution_count": 6,
   "id": "504a2f7e-00cc-49f1-8069-fd36adc3f683",
   "metadata": {},
   "outputs": [],
   "source": [
    "keys = [int(s['key']) for s in jf]"
   ]
  },
  {
   "cell_type": "code",
   "execution_count": 2,
   "id": "3a25ef43-9dc9-41b6-bbc1-b52e5c09e848",
   "metadata": {},
   "outputs": [],
   "source": [
    "op0p = './data/수술기본_과거력_21상.xlsx'\n",
    "op1p = './data/수술기본_과거력_21하.xlsx'\n",
    "op2p = './data/수술기본_과거력_22상.xlsx'\n",
    "\n",
    "import pandas as pd\n",
    "\n",
    "op0 = pd.read_excel(op0p, engine='openpyxl',header=1).rename(columns={'Unnamed: 0':'key'})\n",
    "op1 = pd.read_excel(op1p, engine='openpyxl',header=1).rename(columns={'Unnamed: 0':'key'})\n",
    "op2 = pd.read_excel(op2p, engine='openpyxl',header=1).rename(columns={'Unnamed: 0':'key'})"
   ]
  },
  {
   "cell_type": "code",
   "execution_count": 8,
   "id": "9fcf23bf-fb78-40fb-b9b1-f76c2c271dc1",
   "metadata": {},
   "outputs": [],
   "source": [
    "op0 = op0[op0.key.isin(keys)]\n",
    "op1 = op1[op1.key.isin(keys)]\n",
    "op2 = op2[op2.key.isin(keys)]"
   ]
  },
  {
   "cell_type": "code",
   "execution_count": 9,
   "id": "c8ae7ec2-26f3-474d-b56f-b2ba10b7337a",
   "metadata": {},
   "outputs": [],
   "source": [
    "op = pd.concat([op0,op1,op2])"
   ]
  },
  {
   "cell_type": "code",
   "execution_count": 14,
   "id": "261f9a96-fc62-4154-b999-a808f3495fd5",
   "metadata": {},
   "outputs": [
    {
     "data": {
      "text/plain": [
       "마취종류      \n",
       "General       1109\n",
       "Spinal         188\n",
       "MAC             63\n",
       "General 전환       7\n",
       "dtype: int64"
      ]
     },
     "execution_count": 14,
     "metadata": {},
     "output_type": "execute_result"
    }
   ],
   "source": [
    "op[['마취종류']].value_counts()"
   ]
  },
  {
   "cell_type": "code",
   "execution_count": 165,
   "id": "b85a9d48-ca23-4a31-85b1-6b074c593f83",
   "metadata": {},
   "outputs": [],
   "source": [
    "op[['수술명']].value_counts().to_csv('./data/surgery.csv')"
   ]
  },
  {
   "cell_type": "code",
   "execution_count": 166,
   "id": "68b62cfa-11e7-434b-b629-3e0302dc40d3",
   "metadata": {},
   "outputs": [],
   "source": [
    "op[['수술 전 진단']].value_counts().to_csv('./data/pre-op-diagnosis.csv')"
   ]
  },
  {
   "cell_type": "code",
   "execution_count": 139,
   "id": "e9e1c2f2-599f-4b7e-826e-2a60b17624ce",
   "metadata": {},
   "outputs": [
    {
     "data": {
      "text/plain": [
       "1766"
      ]
     },
     "execution_count": 139,
     "metadata": {},
     "output_type": "execute_result"
    }
   ],
   "source": [
    "len(op0[op0.KEY.isin(keys)])+len(op1[op1.KEY.isin(keys)])+len(op2[op2.KEY.isin(keys)])"
   ]
  },
  {
   "cell_type": "code",
   "execution_count": 132,
   "id": "20523c69-f584-40b6-97da-8d0a414c6d91",
   "metadata": {},
   "outputs": [],
   "source": [
    "keys= []\n",
    "for samp in jf:\n",
    "    keys.append(samp['key'])"
   ]
  },
  {
   "cell_type": "markdown",
   "id": "2897e07a-0e9d-46f1-9c6b-edf4afdf920a",
   "metadata": {},
   "source": [
    "### PPG "
   ]
  },
  {
   "cell_type": "code",
   "execution_count": 16,
   "id": "2895a531-be37-4cc0-aa65-00efa20952db",
   "metadata": {},
   "outputs": [],
   "source": [
    "jpath = '../data/pd_gy/all_1.json'\n",
    "root_dir = '../data/pd_gy/'\n",
    "import json \n",
    "with open(jpath,'r') as f:\n",
    "    jf = json.load(f)\n",
    "\n",
    "from utils import num2class\n",
    "for i,val in enumerate(jf):\n",
    "    jf[i]['nrs_2'] = num2class(val['nrs'])\n",
    "\n",
    "sample_rate =3000\n",
    "min5 = sample_rate*60*5"
   ]
  },
  {
   "cell_type": "code",
   "execution_count": 114,
   "id": "01fe440a-3fc9-4339-9900-5f83a0276db9",
   "metadata": {},
   "outputs": [
    {
     "data": {
      "application/vnd.jupyter.widget-view+json": {
       "model_id": "d71c3c80143d456ea11c88f3c4f55e01",
       "version_major": 2,
       "version_minor": 0
      },
      "text/plain": [
       "  0%|          | 0/1766 [00:00<?, ?it/s]"
      ]
     },
     "metadata": {},
     "output_type": "display_data"
    }
   ],
   "source": [
    "# ppg mean, std\n",
    "import os\n",
    "l = []\n",
    "stds = []\n",
    "means = []\n",
    "from tqdm.notebook import tqdm\n",
    "for i in tqdm(range(len(jf))):\n",
    "    idx = i\n",
    "    recp = jf[idx]['rec_path'][0].replace('\\\\','/')\n",
    "    recp = os.path.join(root_dir,recp)\n",
    "    orp = jf[idx]['or_path'][0].replace('\\\\','/')\n",
    "    orp = os.path.join(root_dir, orp)\n",
    "\n",
    "    import vitaldb\n",
    "\n",
    "    vf = vitaldb.VitalFile(recp,track_names=['Intellivue/PLETH','Intellivue/NIBP_SYS'])\n",
    "\n",
    "    ppg = vf.to_numpy('Intellivue/PLETH',1/sample_rate)\n",
    "    nibp = vf.to_numpy('Intellivue/NIBP_SYS',1/sample_rate)\n",
    "\n",
    "#     first_idx = 0 \n",
    "#     for i, value in enumerate(nibp):\n",
    "#         if pd.isna(value):\n",
    "#             continue\n",
    "#         else:\n",
    "#             first_idx = i\n",
    "#             break\n",
    "\n",
    "#     ppg = ppg[first_idx:first_idx+min5]\n",
    "    \n",
    "    means.append(np.nanmean(ppg))\n",
    "    stds.append(np.nanstd(ppg))"
   ]
  },
  {
   "cell_type": "code",
   "execution_count": null,
   "id": "d035a224-863b-4439-b4fc-3ca01b4a67e6",
   "metadata": {},
   "outputs": [],
   "source": [
    "# get ppg\n",
    "import os\n",
    "idx = 3\n",
    "# get path\n",
    "recp = jf[idx]['rec_path'][0].replace('\\\\','/')\n",
    "recp = os.path.join(root_dir,recp)\n",
    "orp = jf[idx]['or_path'][0].replace('\\\\','/')\n",
    "orp = os.path.join(root_dir, orp)\n",
    "\n",
    "import vitaldb\n",
    "\n",
    "# rec ppg\n",
    "vf = vitaldb.VitalFile(recp,track_names=['Intellivue/PLETH','Intellivue/NIBP_SYS'])\n",
    "\n",
    "ppg = vf.to_numpy('Intellivue/PLETH',1/sample_rate)\n",
    "nibp = vf.to_numpy('Intellivue/NIBP_SYS',1/sample_rate)\n",
    "\n",
    "first_idx = 0 \n",
    "for i, value in enumerate(nibp):\n",
    "    if pd.isna(value):\n",
    "        continue\n",
    "    else:\n",
    "        first_idx = i\n",
    "        break\n",
    "\n",
    "ppg = ppg[first_idx:first_idx+min5]\n",
    "\n",
    "# or ppg\n",
    "vf = vitaldb.VitalFile(orp,track_names=['Intellivue/PLETH','Intellivue/NIBP_SYS'])\n",
    "\n",
    "ppg_or = vf.to_numpy('Intellivue/PLETH',1/sample_rate)\n",
    "nibp_or = vf.to_numpy('Intellivue/NIBP_SYS',1/sample_rate)\n",
    "\n",
    "\n",
    "first_idx = 0 \n",
    "for i, value in enumerate(nibp_or):\n",
    "    if pd.isna(value):\n",
    "        continue\n",
    "    else:\n",
    "        first_idx = i\n",
    "        break\n",
    "\n",
    "ppg_or = ppg_or[first_idx:first_idx+min5]"
   ]
  },
  {
   "cell_type": "markdown",
   "id": "80298a13-ba6d-4c56-9372-ecae04c8a816",
   "metadata": {},
   "source": [
    "#### band pass"
   ]
  },
  {
   "cell_type": "code",
   "execution_count": null,
   "id": "f48b4d49-bc75-4aea-8290-2d64921d377d",
   "metadata": {},
   "outputs": [],
   "source": [
    "from scipy import signal\n",
    "fw = signal.firwin(101,[0.5, 10],fs=sample_rate,pass_zero='bandpass')\n",
    "bp_ppg = signal.lfilter(fw,[1.0],ppg)"
   ]
  },
  {
   "cell_type": "markdown",
   "id": "51dfe682-3c54-4f80-9260-84c36f8f764f",
   "metadata": {},
   "source": [
    "#### moving average"
   ]
  },
  {
   "cell_type": "code",
   "execution_count": 80,
   "id": "9693012f-f7db-4a6e-a3a4-ced899ccc0f4",
   "metadata": {},
   "outputs": [],
   "source": [
    "import numpy as np\n",
    "def moving_average(x, w):\n",
    "    return np.convolve(x, np.ones(w), 'valid') / w"
   ]
  },
  {
   "cell_type": "markdown",
   "id": "6ae19da2-8ad9-4030-94ef-22cd3427736e",
   "metadata": {},
   "source": [
    "#### z-score "
   ]
  },
  {
   "cell_type": "code",
   "execution_count": 123,
   "id": "08cde008-e297-4172-ab46-6ff699ec42bf",
   "metadata": {},
   "outputs": [],
   "source": [
    "ppg_norm = (ppg-46.9)/15.5"
   ]
  },
  {
   "cell_type": "markdown",
   "id": "97603f05-7b03-4006-b505-77cc943c6cea",
   "metadata": {},
   "source": [
    "#### spectrogram "
   ]
  },
  {
   "cell_type": "code",
   "execution_count": 125,
   "id": "0a1c236f-6b16-4ecd-b9f2-3dd753291d07",
   "metadata": {},
   "outputs": [],
   "source": [
    "from torchaudio import transforms as T"
   ]
  },
  {
   "cell_type": "code",
   "execution_count": 128,
   "id": "42f8cd44-71e7-437e-b8a0-17388e4388a6",
   "metadata": {},
   "outputs": [],
   "source": [
    "n_fft = sample_rate*10 # 10 sec\n",
    "spectrogram = T.Spectrogram(\n",
    "    n_fft=n_fft,\n",
    "    hop_length=n_fft\n",
    ")"
   ]
  },
  {
   "cell_type": "code",
   "execution_count": 140,
   "id": "bc01e1c5-ea99-47f3-8d50-6f49d8158239",
   "metadata": {},
   "outputs": [],
   "source": [
    "import torch\n",
    "ppg_t = torch.tensor(ppg_norm).reshape(1,-1)"
   ]
  },
  {
   "cell_type": "code",
   "execution_count": 157,
   "id": "98e795f1-3937-4fc7-a919-c0cfcb8c7d98",
   "metadata": {},
   "outputs": [
    {
     "data": {
      "text/plain": [
       "7205660"
      ]
     },
     "execution_count": 157,
     "metadata": {},
     "output_type": "execute_result"
    }
   ],
   "source": [
    "len(ppg_norm)"
   ]
  },
  {
   "cell_type": "code",
   "execution_count": 156,
   "id": "e46a06c1-46a6-4ffb-af3e-1f80c8be82cb",
   "metadata": {},
   "outputs": [
    {
     "data": {
      "text/plain": [
       "0    936867\n",
       "dtype: int64"
      ]
     },
     "execution_count": 156,
     "metadata": {},
     "output_type": "execute_result"
    }
   ],
   "source": [
    "pd.DataFrame(ppg_norm).isna().sum()"
   ]
  },
  {
   "cell_type": "code",
   "execution_count": 90,
   "id": "31e78284-303b-4344-bf14-099104345db3",
   "metadata": {},
   "outputs": [],
   "source": [
    "ppg_ma = moving_average(ppg.flatten(),30)"
   ]
  },
  {
   "cell_type": "code",
   "execution_count": null,
   "id": "de165ce4-9041-4c75-ad38-0f82f8772824",
   "metadata": {},
   "outputs": [],
   "source": [
    "def get_ppg(path, type_):\n",
    "    if type_ == 'or':\n",
    "        # nibp+5\n",
    "    elif type_ == 'rec':\n",
    "        # 5min\n",
    "    return signal"
   ]
  },
  {
   "cell_type": "code",
   "execution_count": null,
   "id": "f40c6e8f-89c2-48d0-a989-c1102eeae93a",
   "metadata": {},
   "outputs": [],
   "source": [
    "def preprocess(signal):\n",
    "    # band pass (0.5)\n",
    "    # 30-tap moving average  \n",
    "    # z-score    \n",
    "    # spectogram\n",
    "    return signal"
   ]
  },
  {
   "cell_type": "code",
   "execution_count": null,
   "id": "02decc70-79d7-4d55-80f3-ab424dbf2065",
   "metadata": {},
   "outputs": [],
   "source": [
    "# PPG DT\n",
    "or_ppg = get_ppg(pdorp, type_='or')\n",
    "or_ppg = preprocess(or_ppg)\n",
    "\n",
    "rec_ppg = get_ppg(pdorp, type_='rec')\n",
    "rec_ppg = preprocess(rec_ppg)\n"
   ]
  },
  {
   "cell_type": "code",
   "execution_count": null,
   "id": "12838290-ec2b-4eaf-a268-dcb26632d2a0",
   "metadata": {},
   "outputs": [],
   "source": [
    "# final goal\n",
    "import torch\n",
    "from dataset import PPGDT\n",
    "\n",
    "trdt  = PPGDT(op_path= '../data/vital2/dd_all_simple_train.csv')\n",
    "tedt  = PPGDT(op_path= '../data/vital2/dd_all_simple_test.csv')\n",
    "\n",
    "trdl  = torch.utils.data.DataLoader(trdt, batch_size=4)\n",
    "tedl  = torch.utils.data.DataLoader(tedt, batch_size=4)"
   ]
  },
  {
   "cell_type": "code",
   "execution_count": 87,
   "id": "0f16c8f0-3ce9-42fd-baba-a22b87227f6c",
   "metadata": {},
   "outputs": [],
   "source": [
    "nibpc =['Intellivue/NIBP_SYS','Intellivue/NIBP_DIA','Intellivue/NIBP_MEAN','Intellivue/NIBP_HR']"
   ]
  },
  {
   "cell_type": "markdown",
   "id": "d3778526-7199-4fde-a535-5083e3cc2bbb",
   "metadata": {},
   "source": [
    "### PPG + [name, age] "
   ]
  },
  {
   "cell_type": "markdown",
   "id": "45247a45-eef2-46fb-ab68-f443e00cfb7d",
   "metadata": {},
   "source": [
    "### etc "
   ]
  },
  {
   "cell_type": "code",
   "execution_count": 73,
   "id": "853f73f5-c426-4fd9-8300-cf2eb997a297",
   "metadata": {},
   "outputs": [],
   "source": [
    "lf=pd.DataFrame(l)"
   ]
  },
  {
   "cell_type": "code",
   "execution_count": 118,
   "id": "8a222fb0-d5b3-4d08-acc0-bb3e7a19d0ea",
   "metadata": {},
   "outputs": [
    {
     "data": {
      "text/plain": [
       "[<matplotlib.lines.Line2D at 0x7fbc580596d8>]"
      ]
     },
     "execution_count": 118,
     "metadata": {},
     "output_type": "execute_result"
    },
    {
     "data": {
      "image/png": "[encoded data removed]",
      "text/plain": [
       "<Figure size 432x288 with 1 Axes>"
      ]
     },
     "metadata": {
      "needs_background": "light"
     },
     "output_type": "display_data"
    }
   ],
   "source": [
    "from matplotlib import pyplot as plt\n",
    "plt.plot(means)"
   ]
  },
  {
   "cell_type": "code",
   "execution_count": 120,
   "id": "84f4ab59-47e4-4d0d-923b-415b9a51ee6f",
   "metadata": {},
   "outputs": [
    {
     "data": {
      "text/plain": [
       "46.902824"
      ]
     },
     "execution_count": 120,
     "metadata": {},
     "output_type": "execute_result"
    }
   ],
   "source": [
    "np.mean(means)"
   ]
  },
  {
   "cell_type": "code",
   "execution_count": 121,
   "id": "37ab5dad-6994-4e0d-878d-5edb45b5dce2",
   "metadata": {},
   "outputs": [
    {
     "data": {
      "text/plain": [
       "15.5734005"
      ]
     },
     "execution_count": 121,
     "metadata": {},
     "output_type": "execute_result"
    }
   ],
   "source": [
    "np.mean(stds)"
   ]
  }
 ],
 "metadata": {
  "kernelspec": {
   "display_name": "torch0",
   "language": "python",
   "name": "torch0"
  },
  "language_info": {
   "codemirror_mode": {
    "name": "ipython",
    "version": 3
   },
   "file_extension": ".py",
   "mimetype": "text/x-python",
   "name": "python",
   "nbconvert_exporter": "python",
   "pygments_lexer": "ipython3",
   "version": "3.6.13"
  }
 },
 "nbformat": 4,
 "nbformat_minor": 5
}
