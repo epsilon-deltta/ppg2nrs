{
 "cells": [
  {
   "cell_type": "markdown",
   "id": "aaf39ee0-9da6-43ef-b037-9cccc4e25df2",
   "metadata": {},
   "source": [
    "### add column "
   ]
  },
  {
   "cell_type": "code",
   "execution_count": 103,
   "id": "0a46d360-3ba2-435e-a9c1-c26c6b57bb40",
   "metadata": {},
   "outputs": [],
   "source": [
    "def add_cols(jpath, fpath, cols):\n",
    "    jpath = '../data/pd_gy/all.json'\n",
    "    fpath = 'filter0.csv'\n",
    "\n",
    "    add_cols = ['age','gender']\n",
    "\n",
    "    import json \n",
    "    with open(jpath,'r') as f:\n",
    "        dj = json.load(f)\n",
    "\n",
    "    import pandas as pd\n",
    "    op = pd.read_csv(fpath)\n",
    "\n",
    "    op = op.rename(columns = {'성별':'gender','나이':'age','KEY':'key'})\n",
    "    op['key'] = op.key.astype('str')\n",
    "\n",
    "    l = []\n",
    "    for i,val in enumerate(dj):\n",
    "        key  = val['key']\n",
    "        item = op[op.key==key]\n",
    "        for col in add_cols:\n",
    "            col_value = item[col].values[0]\n",
    "            dj[i][col] = col_value\n",
    "    return dj"
   ]
  },
  {
   "cell_type": "code",
   "execution_count": 124,
   "id": "bacd71e9-2f8b-4c05-b7f2-095d1da6abf3",
   "metadata": {},
   "outputs": [],
   "source": [
    "jpath = '../data/pd_gy/all.json'\n",
    "fpath = 'filter0.csv'\n",
    "\n",
    "import json \n",
    "with open(jpath,'r') as f:\n",
    "    dj = json.load(f)\n",
    "\n",
    "import pandas as pd\n",
    "op = pd.read_csv(fpath)\n",
    "\n",
    "op = op.rename(columns = {'성별':'gender','나이':'age','KEY':'key'})\n",
    "op['key'] = op.key.astype('str')\n",
    "\n",
    "l = []\n",
    "for i,val in enumerate(dj):\n",
    "    key  = val['key']\n",
    "    item = op[op.key==key]\n",
    "    age = int(item['age'].values[0])\n",
    "    gender = str(item['gender'].values[0])\n",
    "    dj[i]['age'], dj[i]['gender'] = age, gender.lower()"
   ]
  },
  {
   "cell_type": "code",
   "execution_count": 126,
   "id": "72780af5-c6dd-4b7d-aec7-eaffa128d654",
   "metadata": {},
   "outputs": [],
   "source": [
    "import json\n",
    "with open('../data/pd_gy/all_1.json','w') as f:\n",
    "    json.dump(dj,f)"
   ]
  },
  {
   "cell_type": "markdown",
   "id": "a0fe9abe-f9ef-42c3-91f6-837d836fd320",
   "metadata": {},
   "source": [
    "### 3 hold out "
   ]
  },
  {
   "cell_type": "code",
   "execution_count": 1,
   "id": "92241295-bbde-4037-bbcf-9c97b9d3ca39",
   "metadata": {},
   "outputs": [],
   "source": [
    "jpath = '../data/pd_gy/all_1.json'\n",
    "\n",
    "import json\n",
    "with open(jpath, 'r') as f:\n",
    "    jf = json.load(f)"
   ]
  },
  {
   "cell_type": "code",
   "execution_count": 2,
   "id": "d4ca8be6-0257-4cb8-bd44-231d02d125cb",
   "metadata": {},
   "outputs": [],
   "source": [
    "from utils import num2class"
   ]
  },
  {
   "cell_type": "code",
   "execution_count": 3,
   "id": "4e46998c-106d-41b4-9745-8f160a81e93a",
   "metadata": {},
   "outputs": [],
   "source": [
    "for i,val in enumerate(jf):\n",
    "    jf[i]['nrs_2'] = num2class(val['nrs'])"
   ]
  },
  {
   "cell_type": "code",
   "execution_count": 15,
   "id": "1b3426d4-1d6e-4deb-b708-3a461a954368",
   "metadata": {},
   "outputs": [],
   "source": [
    "import pandas as pd\n",
    "\n",
    "from sklearn.model_selection import train_test_split\n",
    "\n",
    "# train:val:test = 3:1:1\n",
    "nrs2_0 = pd.DataFrame(jf)['nrs_2']\n",
    "xtr, xte= train_test_split(jf, test_size=0.2, shuffle=True, stratify=nrs2_0, random_state=34)\n",
    "nrs2_1 = pd.DataFrame(xtr)['nrs_2']\n",
    "xtr, xval= train_test_split(xtr, test_size=0.25, shuffle=True, stratify=nrs2_1, random_state=34)"
   ]
  },
  {
   "cell_type": "code",
   "execution_count": null,
   "id": "201e2a04-a092-4237-8289-551b062d4435",
   "metadata": {},
   "outputs": [],
   "source": [
    "with open('../data/pd_gy/train.json','w') as f:\n",
    "    json.dump(xtr,f)\n",
    "with open('../data/pd_gy/val.json','w') as f:\n",
    "    json.dump(xval,f)\n",
    "with open('../data/pd_gy/test.json','w') as f:\n",
    "    json.dump(xte,f)"
   ]
  },
  {
   "cell_type": "markdown",
   "id": "2897e07a-0e9d-46f1-9c6b-edf4afdf920a",
   "metadata": {},
   "source": [
    "### PPG "
   ]
  },
  {
   "cell_type": "markdown",
   "id": "d3778526-7199-4fde-a535-5083e3cc2bbb",
   "metadata": {},
   "source": [
    "### PPG + [name, age] "
   ]
  },
  {
   "cell_type": "code",
   "execution_count": null,
   "id": "3a37fec2-b1ad-4e7b-b419-074b2fdae131",
   "metadata": {},
   "outputs": [],
   "source": []
  }
 ],
 "metadata": {
  "kernelspec": {
   "display_name": "torch0",
   "language": "python",
   "name": "torch0"
  },
  "language_info": {
   "codemirror_mode": {
    "name": "ipython",
    "version": 3
   },
   "file_extension": ".py",
   "mimetype": "text/x-python",
   "name": "python",
   "nbconvert_exporter": "python",
   "pygments_lexer": "ipython3",
   "version": "3.6.13"
  }
 },
 "nbformat": 4,
 "nbformat_minor": 5
}
