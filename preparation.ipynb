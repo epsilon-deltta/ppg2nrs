{
 "cells": [
  {
   "cell_type": "markdown",
   "id": "aaf39ee0-9da6-43ef-b037-9cccc4e25df2",
   "metadata": {},
   "source": [
    "### add column "
   ]
  },
  {
   "cell_type": "code",
   "execution_count": 103,
   "id": "0a46d360-3ba2-435e-a9c1-c26c6b57bb40",
   "metadata": {},
   "outputs": [],
   "source": [
    "def add_cols(jpath, fpath, cols):\n",
    "    jpath = '../data/pd_gy/all.json'\n",
    "    fpath = 'filter0.csv'\n",
    "\n",
    "    add_cols = ['age','gender']\n",
    "\n",
    "    import json \n",
    "    with open(jpath,'r') as f:\n",
    "        dj = json.load(f)\n",
    "\n",
    "    import pandas as pd\n",
    "    op = pd.read_csv(fpath)\n",
    "\n",
    "    op = op.rename(columns = {'성별':'gender','나이':'age','KEY':'key'})\n",
    "    op['key'] = op.key.astype('str')\n",
    "\n",
    "    l = []\n",
    "    for i,val in enumerate(dj):\n",
    "        key  = val['key']\n",
    "        item = op[op.key==key]\n",
    "        for col in add_cols:\n",
    "            col_value = item[col].values[0]\n",
    "            dj[i][col] = col_value\n",
    "    return dj"
   ]
  },
  {
   "cell_type": "code",
   "execution_count": 124,
   "id": "bacd71e9-2f8b-4c05-b7f2-095d1da6abf3",
   "metadata": {},
   "outputs": [],
   "source": [
    "jpath = '../data/pd_gy/all.json'\n",
    "fpath = 'filter0.csv'\n",
    "\n",
    "import json \n",
    "with open(jpath,'r') as f:\n",
    "    dj = json.load(f)\n",
    "\n",
    "import pandas as pd\n",
    "op = pd.read_csv(fpath)\n",
    "\n",
    "op = op.rename(columns = {'성별':'gender','나이':'age','KEY':'key'})\n",
    "op['key'] = op.key.astype('str')\n",
    "\n",
    "l = []\n",
    "for i,val in enumerate(dj):\n",
    "    key  = val['key']\n",
    "    item = op[op.key==key]\n",
    "    age = int(item['age'].values[0])\n",
    "    gender = str(item['gender'].values[0])\n",
    "    dj[i]['age'], dj[i]['gender'] = age, gender.lower()"
   ]
  },
  {
   "cell_type": "code",
   "execution_count": 126,
   "id": "72780af5-c6dd-4b7d-aec7-eaffa128d654",
   "metadata": {},
   "outputs": [],
   "source": [
    "import json\n",
    "with open('../data/pd_gy/all_1.json','w') as f:\n",
    "    json.dump(dj,f)"
   ]
  },
  {
   "cell_type": "markdown",
   "id": "a0fe9abe-f9ef-42c3-91f6-837d836fd320",
   "metadata": {},
   "source": [
    "### 3 hold out "
   ]
  },
  {
   "cell_type": "code",
   "execution_count": 1,
   "id": "92241295-bbde-4037-bbcf-9c97b9d3ca39",
   "metadata": {},
   "outputs": [],
   "source": [
    "jpath = '../data/pd_gy/all_1.json'\n",
    "\n",
    "import json\n",
    "with open(jpath, 'r') as f:\n",
    "    jf = json.load(f)"
   ]
  },
  {
   "cell_type": "code",
   "execution_count": 2,
   "id": "b9157ee6-13f0-4d36-8047-45c94ed23135",
   "metadata": {},
   "outputs": [],
   "source": [
    "from utils import num2class\n",
    "\n",
    "for i,val in enumerate(jf):\n",
    "    jf[i]['nrs_2'] = num2class(val['nrs'])"
   ]
  },
  {
   "cell_type": "code",
   "execution_count": 15,
   "id": "1b3426d4-1d6e-4deb-b708-3a461a954368",
   "metadata": {},
   "outputs": [],
   "source": [
    "import pandas as pd\n",
    "\n",
    "from sklearn.model_selection import train_test_split\n",
    "\n",
    "# train:val:test = 3:1:1\n",
    "nrs2_0 = pd.DataFrame(jf)['nrs_2']\n",
    "xtr, xte= train_test_split(jf, test_size=0.2, shuffle=True, stratify=nrs2_0, random_state=34)\n",
    "nrs2_1 = pd.DataFrame(xtr)['nrs_2']\n",
    "xtr, xval= train_test_split(xtr, test_size=0.25, shuffle=True, stratify=nrs2_1, random_state=34)"
   ]
  },
  {
   "cell_type": "code",
   "execution_count": null,
   "id": "201e2a04-a092-4237-8289-551b062d4435",
   "metadata": {},
   "outputs": [],
   "source": [
    "with open('../data/pd_gy/train.json','w') as f:\n",
    "    json.dump(xtr,f)\n",
    "with open('../data/pd_gy/val.json','w') as f:\n",
    "    json.dump(xval,f)\n",
    "with open('../data/pd_gy/test.json','w') as f:\n",
    "    json.dump(xte,f)"
   ]
  },
  {
   "cell_type": "markdown",
   "id": "42263558-8681-4171-ba5d-9854a707f670",
   "metadata": {},
   "source": [
    "### Only General Anesthesia "
   ]
  },
  {
   "cell_type": "code",
   "execution_count": 1,
   "id": "6bde2509-6b72-4844-9df0-a8c82a1eccbc",
   "metadata": {},
   "outputs": [],
   "source": [
    "import json\n",
    "with open('../data/pd_gy/all_1.json','r') as f:\n",
    "    jf = json.load(f)"
   ]
  },
  {
   "cell_type": "code",
   "execution_count": 6,
   "id": "504a2f7e-00cc-49f1-8069-fd36adc3f683",
   "metadata": {},
   "outputs": [],
   "source": [
    "keys = [int(s['key']) for s in jf]"
   ]
  },
  {
   "cell_type": "code",
   "execution_count": 2,
   "id": "3a25ef43-9dc9-41b6-bbc1-b52e5c09e848",
   "metadata": {},
   "outputs": [],
   "source": [
    "op0p = './data/수술기본_과거력_21상.xlsx'\n",
    "op1p = './data/수술기본_과거력_21하.xlsx'\n",
    "op2p = './data/수술기본_과거력_22상.xlsx'\n",
    "\n",
    "import pandas as pd\n",
    "\n",
    "op0 = pd.read_excel(op0p, engine='openpyxl',header=1).rename(columns={'Unnamed: 0':'key'})\n",
    "op1 = pd.read_excel(op1p, engine='openpyxl',header=1).rename(columns={'Unnamed: 0':'key'})\n",
    "op2 = pd.read_excel(op2p, engine='openpyxl',header=1).rename(columns={'Unnamed: 0':'key'})"
   ]
  },
  {
   "cell_type": "code",
   "execution_count": 8,
   "id": "9fcf23bf-fb78-40fb-b9b1-f76c2c271dc1",
   "metadata": {},
   "outputs": [],
   "source": [
    "op0 = op0[op0.key.isin(keys)]\n",
    "op1 = op1[op1.key.isin(keys)]\n",
    "op2 = op2[op2.key.isin(keys)]"
   ]
  },
  {
   "cell_type": "code",
   "execution_count": 9,
   "id": "c8ae7ec2-26f3-474d-b56f-b2ba10b7337a",
   "metadata": {},
   "outputs": [],
   "source": [
    "op = pd.concat([op0,op1,op2])"
   ]
  },
  {
   "cell_type": "code",
   "execution_count": 14,
   "id": "261f9a96-fc62-4154-b999-a808f3495fd5",
   "metadata": {},
   "outputs": [
    {
     "data": {
      "text/plain": [
       "마취종류      \n",
       "General       1109\n",
       "Spinal         188\n",
       "MAC             63\n",
       "General 전환       7\n",
       "dtype: int64"
      ]
     },
     "execution_count": 14,
     "metadata": {},
     "output_type": "execute_result"
    }
   ],
   "source": [
    "op[['마취종류']].value_counts()"
   ]
  },
  {
   "cell_type": "code",
   "execution_count": 165,
   "id": "b85a9d48-ca23-4a31-85b1-6b074c593f83",
   "metadata": {},
   "outputs": [],
   "source": [
    "op[['수술명']].value_counts().to_csv('./data/surgery.csv')"
   ]
  },
  {
   "cell_type": "code",
   "execution_count": 166,
   "id": "68b62cfa-11e7-434b-b629-3e0302dc40d3",
   "metadata": {},
   "outputs": [],
   "source": [
    "op[['수술 전 진단']].value_counts().to_csv('./data/pre-op-diagnosis.csv')"
   ]
  },
  {
   "cell_type": "code",
   "execution_count": 139,
   "id": "e9e1c2f2-599f-4b7e-826e-2a60b17624ce",
   "metadata": {},
   "outputs": [
    {
     "data": {
      "text/plain": [
       "1766"
      ]
     },
     "execution_count": 139,
     "metadata": {},
     "output_type": "execute_result"
    }
   ],
   "source": [
    "len(op0[op0.KEY.isin(keys)])+len(op1[op1.KEY.isin(keys)])+len(op2[op2.KEY.isin(keys)])"
   ]
  },
  {
   "cell_type": "code",
   "execution_count": 132,
   "id": "20523c69-f584-40b6-97da-8d0a414c6d91",
   "metadata": {},
   "outputs": [],
   "source": [
    "keys= []\n",
    "for samp in jf:\n",
    "    keys.append(samp['key'])"
   ]
  },
  {
   "cell_type": "markdown",
   "id": "2897e07a-0e9d-46f1-9c6b-edf4afdf920a",
   "metadata": {},
   "source": [
    "### PPG "
   ]
  },
  {
   "cell_type": "code",
   "execution_count": 16,
   "id": "0dfdb250-a710-4ce4-980c-6b79df475f33",
   "metadata": {},
   "outputs": [],
   "source": [
    "jpath = '../data/pd_gy/all_1.json'\n",
    "root_dir = '../data/pd_gy/'\n",
    "import json \n",
    "with open(jpath,'r') as f:\n",
    "    jf = json.load(f)"
   ]
  },
  {
   "cell_type": "code",
   "execution_count": 17,
   "id": "52dc115a-18b1-47e4-b20f-af69cb895eb7",
   "metadata": {},
   "outputs": [],
   "source": [
    "from utils import num2class\n",
    "for i,val in enumerate(jf):\n",
    "    jf[i]['nrs_2'] = num2class(val['nrs'])"
   ]
  },
  {
   "cell_type": "code",
   "execution_count": 18,
   "id": "5bf5761b-1ba3-4110-abf3-ecc59f0240b7",
   "metadata": {},
   "outputs": [],
   "source": [
    "import os\n",
    "\n",
    "idx = 7\n",
    "recp = jf[idx]['rec_path'][0].replace('\\\\','/')\n",
    "recp = os.path.join(root_dir,recp)\n",
    "orp = jf[idx]['or_path'][0].replace('\\\\','/')\n",
    "orp = os.path.join(root_dir, orp)\n",
    "\n",
    "# VitalFile Freq. ?\n",
    "import vitaldb\n",
    "import os\n",
    "trks = vitaldb.vital_trks(recp)"
   ]
  },
  {
   "cell_type": "code",
   "execution_count": 21,
   "id": "9e0d3866-afcc-40c4-a8bc-9acbf825e659",
   "metadata": {},
   "outputs": [
    {
     "data": {
      "text/plain": [
       "['Intellivue/ECG_HR',\n",
       " 'Intellivue/PLETH_SAT_O2',\n",
       " 'Intellivue/PLETH_HR',\n",
       " 'Intellivue/PLETH_PERF_REL',\n",
       " 'Intellivue/ECG_II',\n",
       " 'Intellivue/PLETH',\n",
       " 'Intellivue/NIBP_SYS',\n",
       " 'Intellivue/NIBP_DIA',\n",
       " 'Intellivue/NIBP_MEAN',\n",
       " 'Intellivue/NIBP_HR',\n",
       " 'Intellivue/RR',\n",
       " 'Intellivue/ST_II']"
      ]
     },
     "execution_count": 21,
     "metadata": {},
     "output_type": "execute_result"
    }
   ],
   "source": [
    "trks"
   ]
  },
  {
   "cell_type": "code",
   "execution_count": 19,
   "id": "61c25119-4f06-4674-8de9-aa48c0a419c4",
   "metadata": {},
   "outputs": [],
   "source": [
    "vf = vitaldb.VitalFile(recp)"
   ]
  },
  {
   "cell_type": "code",
   "execution_count": 24,
   "id": "81b8a556-e673-49d7-8b2c-e83baa44d535",
   "metadata": {},
   "outputs": [],
   "source": [
    "ppg = vf.to_numpy('Intellivue/PLETH',1)\n",
    "nibp = vf.to_numpy('Intellivue/NIBP_SYS',1)"
   ]
  },
  {
   "cell_type": "code",
   "execution_count": 34,
   "id": "7c719b52-c094-4e64-875b-2362b8d8303b",
   "metadata": {},
   "outputs": [],
   "source": [
    "first_idx = 0 \n",
    "for i, value in enumerate(ppg):\n",
    "    if pd.isna(value):\n",
    "        continue\n",
    "    else:\n",
    "        first_idx = i\n",
    "        break"
   ]
  },
  {
   "cell_type": "code",
   "execution_count": 31,
   "id": "58875534-c764-4183-9217-2ab575eed4d1",
   "metadata": {},
   "outputs": [
    {
     "data": {
      "text/plain": [
       "<matplotlib.axes._subplots.AxesSubplot at 0x7fbc601c3b00>"
      ]
     },
     "execution_count": 31,
     "metadata": {},
     "output_type": "execute_result"
    },
    {
     "data": {
      "image/png": "[encoded data removed]",
      "text/plain": [
       "<Figure size 432x288 with 1 Axes>"
      ]
     },
     "metadata": {
      "needs_background": "light"
     },
     "output_type": "display_data"
    }
   ],
   "source": [
    "import numpy as np\n",
    "pd.DataFrame(nibp).replace({np.nan:0}).plot()"
   ]
  },
  {
   "cell_type": "code",
   "execution_count": 167,
   "id": "a495e306-d242-44e2-aaa1-861269d32292",
   "metadata": {},
   "outputs": [
    {
     "data": {
      "text/plain": [
       "['Intellivue/ECG_HR',\n",
       " 'Intellivue/PLETH_SAT_O2',\n",
       " 'Intellivue/PLETH_HR',\n",
       " 'Intellivue/PLETH_PERF_REL',\n",
       " 'Intellivue/ECG_II',\n",
       " 'Intellivue/PLETH',\n",
       " 'Intellivue/NIBP_SYS',\n",
       " 'Intellivue/NIBP_DIA',\n",
       " 'Intellivue/NIBP_MEAN',\n",
       " 'Intellivue/NIBP_HR',\n",
       " 'Intellivue/RR',\n",
       " 'Intellivue/ST_II']"
      ]
     },
     "execution_count": 167,
     "metadata": {},
     "output_type": "execute_result"
    }
   ],
   "source": [
    "trks"
   ]
  },
  {
   "cell_type": "code",
   "execution_count": 107,
   "id": "7a462f58-a212-407c-8d57-ab0c23f39c1a",
   "metadata": {},
   "outputs": [
    {
     "data": {
      "text/plain": [
       "['Intellivue/NIBP_SYS',\n",
       " 'Intellivue/NIBP_DIA',\n",
       " 'Intellivue/NIBP_MEAN',\n",
       " 'Intellivue/NIBP_HR']"
      ]
     },
     "execution_count": 107,
     "metadata": {},
     "output_type": "execute_result"
    }
   ],
   "source": [
    "nibpc"
   ]
  },
  {
   "cell_type": "code",
   "execution_count": 88,
   "id": "aa062c82-6edd-491a-901e-b46f439b2fb0",
   "metadata": {},
   "outputs": [],
   "source": [
    "vf = vitaldb.VitalFile(recp,nibpc)"
   ]
  },
  {
   "cell_type": "code",
   "execution_count": 108,
   "id": "a7d847f5-cb12-4398-b4c0-5aa9a80768e1",
   "metadata": {},
   "outputs": [],
   "source": [
    "sams= vf.get_track_samples(nibpc[0],1)"
   ]
  },
  {
   "cell_type": "code",
   "execution_count": 111,
   "id": "b1a08b49-9711-4407-81de-c9fcedc394f3",
   "metadata": {},
   "outputs": [
    {
     "data": {
      "text/plain": [
       "110.0    322\n",
       "118.0    295\n",
       "112.0    285\n",
       "109.0    282\n",
       "103.0    280\n",
       "107.0    273\n",
       "117.0    272\n",
       "102.0     48\n",
       "121.0     11\n",
       "104.0     11\n",
       "108.0     10\n",
       "dtype: int64"
      ]
     },
     "execution_count": 111,
     "metadata": {},
     "output_type": "execute_result"
    }
   ],
   "source": [
    "pd.DataFrame(sams).value_counts()"
   ]
  },
  {
   "cell_type": "code",
   "execution_count": 105,
   "id": "df442137-7018-4ac1-bbe2-e58df3d40e0f",
   "metadata": {},
   "outputs": [
    {
     "data": {
      "text/plain": [
       "['Intellivue/ECG_HR',\n",
       " 'Intellivue/PLETH_SAT_O2',\n",
       " 'Intellivue/PLETH_HR',\n",
       " 'Intellivue/PLETH_PERF_REL',\n",
       " 'Intellivue/ECG_II',\n",
       " 'Intellivue/PLETH',\n",
       " 'Intellivue/NIBP_SYS',\n",
       " 'Intellivue/NIBP_DIA',\n",
       " 'Intellivue/NIBP_MEAN',\n",
       " 'Intellivue/NIBP_HR',\n",
       " 'Intellivue/RR',\n",
       " 'Intellivue/ST_II']"
      ]
     },
     "execution_count": 105,
     "metadata": {},
     "output_type": "execute_result"
    }
   ],
   "source": [
    "trks"
   ]
  },
  {
   "cell_type": "code",
   "execution_count": null,
   "id": "02decc70-79d7-4d55-80f3-ab424dbf2065",
   "metadata": {},
   "outputs": [],
   "source": [
    "# PPG DT\n",
    "or_ppg = get_ppg(pdorp,period='or')\n",
    "or_ppg = preprocess(or_ppg)\n",
    "\n",
    "rec_ppg = get_ppg(pdorp,period='rec')\n",
    "rec_ppg = preprocess(rec_ppg)\n"
   ]
  },
  {
   "cell_type": "code",
   "execution_count": null,
   "id": "12838290-ec2b-4eaf-a268-dcb26632d2a0",
   "metadata": {},
   "outputs": [],
   "source": [
    "# final goal\n",
    "import torch\n",
    "from dataset import PPGDT\n",
    "\n",
    "trdt  = PPGDT(op_path= '../data/vital2/dd_all_simple_train.csv')\n",
    "tedt  = PPGDT(op_path= '../data/vital2/dd_all_simple_test.csv')\n",
    "\n",
    "trdl  = torch.utils.data.DataLoader(trdt, batch_size=4)\n",
    "tedl  = torch.utils.data.DataLoader(tedt, batch_size=4)"
   ]
  },
  {
   "cell_type": "code",
   "execution_count": 87,
   "id": "0f16c8f0-3ce9-42fd-baba-a22b87227f6c",
   "metadata": {},
   "outputs": [],
   "source": [
    "nibpc =['Intellivue/NIBP_SYS','Intellivue/NIBP_DIA','Intellivue/NIBP_MEAN','Intellivue/NIBP_HR']"
   ]
  },
  {
   "cell_type": "code",
   "execution_count": 86,
   "id": "10141d60-6321-4552-84d2-35b2b7b6efab",
   "metadata": {},
   "outputs": [
    {
     "data": {
      "text/plain": [
       "['Intellivue/ECG_HR',\n",
       " 'Intellivue/PLETH_SAT_O2',\n",
       " 'Intellivue/PLETH_HR',\n",
       " 'Intellivue/PLETH_PERF_REL',\n",
       " 'Intellivue/ECG_II',\n",
       " 'Intellivue/PLETH',\n",
       " 'Intellivue/NIBP_SYS',\n",
       " 'Intellivue/NIBP_DIA',\n",
       " 'Intellivue/NIBP_MEAN',\n",
       " 'Intellivue/NIBP_HR',\n",
       " 'Intellivue/RR',\n",
       " 'Intellivue/ST_II']"
      ]
     },
     "execution_count": 86,
     "metadata": {},
     "output_type": "execute_result"
    }
   ],
   "source": [
    "trks"
   ]
  },
  {
   "cell_type": "markdown",
   "id": "d3778526-7199-4fde-a535-5083e3cc2bbb",
   "metadata": {},
   "source": [
    "### PPG + [name, age] "
   ]
  },
  {
   "cell_type": "code",
   "execution_count": null,
   "id": "3a37fec2-b1ad-4e7b-b419-074b2fdae131",
   "metadata": {},
   "outputs": [],
   "source": []
  }
 ],
 "metadata": {
  "kernelspec": {
   "display_name": "torch0",
   "language": "python",
   "name": "torch0"
  },
  "language_info": {
   "codemirror_mode": {
    "name": "ipython",
    "version": 3
   },
   "file_extension": ".py",
   "mimetype": "text/x-python",
   "name": "python",
   "nbconvert_exporter": "python",
   "pygments_lexer": "ipython3",
   "version": "3.6.13"
  }
 },
 "nbformat": 4,
 "nbformat_minor": 5
}
