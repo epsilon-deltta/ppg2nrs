{
 "cells": [
  {
   "cell_type": "code",
   "execution_count": null,
   "id": "ddf15ada-3fcb-47df-b122-e6bc5f2a609f",
   "metadata": {},
   "outputs": [],
   "source": [
    "np.load(os.path.join(download_dir,f'{fnames[0]}.npy'))"
   ]
  },
  {
   "cell_type": "code",
   "execution_count": 9,
   "id": "3b3aea80-9941-4588-b927-974a7c4f415b",
   "metadata": {},
   "outputs": [],
   "source": [
    "\n",
    "import os\n",
    "import pandas as pd\n",
    "import json \n",
    "import numpy as np \n",
    "\n",
    "import vitaldb\n",
    "import torch\n",
    "from torch.nn import functional as F\n",
    "\n",
    "from preprocess import list2specgram, ecgs2specgram, ppgs2specgram\n",
    "# from dataset import get_vital \n",
    "\n",
    "class VitalDataset_fs(torch.utils.data.Dataset):\n",
    "    def __init__(self,root_dir='../data/all_3',ann_path='../data/pd_gy/train.json',sample_rate=300,duration=300*60*5):\n",
    "        \n",
    "        with open(ann_path,'r') as f:\n",
    "            jf = json.load(f)\n",
    "        \n",
    "        self.jf = jf\n",
    "        self.root_dir = root_dir\n",
    "        self.sample_rate = sample_rate\n",
    "        self.duration = duration\n",
    "        \n",
    "    def __getitem__(self,idx):\n",
    "        \n",
    "        item = self.jf[idx]\n",
    "        \n",
    "        fname = item['pt_id_date']\n",
    "        vital = np.load(os.path.join(self.root_dir,f'{fname}.npy'))\n",
    "        \n",
    "        \n",
    "        y = item['nrs_2']\n",
    "        # y = F.one_hot(y,num_classes=2)\n",
    "        \n",
    "        \n",
    "        vital = torch.tensor(vital)\n",
    "        vital = vital.float()\n",
    "        y = torch.tensor(y)\n",
    "        y = y.float()\n",
    "        return vital, y\n",
    "    \n",
    "    def __len__(self):\n",
    "        return len(self.jf)\n",
    "    \n",
    "    def get_npvital(self,idx):\n",
    "        pass\n",
    "    \n",
    "    def get_path(self, item):\n",
    "        \n",
    "        orp = item['or_path'][0].replace('\\\\','/')\n",
    "        orp = os.path.join(self.root_dir, orp)\n",
    "        recp = item['rec_path'][0].replace('\\\\','/')\n",
    "        recp = os.path.join(self.root_dir,recp)\n",
    "        return orp, recp\n",
    "\n",
    "    \n",
    "    def getitem_np(self,idx):\n",
    "        \n",
    "        item = self.jf[idx]\n",
    "        \n",
    "        fname = item['pt_id_date']\n",
    "        vital = np.load(os.path.join(self.root_dir,f'{fname}.npy'))\n",
    "        y = item['nrs_2']\n",
    "        \n",
    "        return vital, y"
   ]
  },
  {
   "cell_type": "code",
   "execution_count": 10,
   "id": "6b40b513-e152-4198-a62d-e4d03c7513e3",
   "metadata": {},
   "outputs": [],
   "source": [
    "import torch\n",
    "from torch.utils.data import DataLoader\n",
    "from dataset import VitalDataset\n",
    "trdt  = VitalDataset_fs('../data/all_3','../data/pd_gy/all_3.json') #  './split/train.txt'\n",
    "\n",
    "trdl  = torch.utils.data.DataLoader(trdt, batch_size=4)"
   ]
  },
  {
   "cell_type": "code",
   "execution_count": null,
   "id": "17f0a085-e971-4ec8-94c4-b69590e4f029",
   "metadata": {},
   "outputs": [],
   "source": [
    "for x,y in trdl:\n",
    "    print(x.shape)"
   ]
  },
  {
   "cell_type": "markdown",
   "id": "e02deaaf-7bef-42de-b50f-6f8ec2ca6968",
   "metadata": {},
   "source": [
    "## test "
   ]
  },
  {
   "cell_type": "code",
   "execution_count": 15,
   "id": "a017058e-5bea-4ae9-bd78-ff2520abba10",
   "metadata": {},
   "outputs": [
    {
     "ename": "ImportError",
     "evalue": "cannot import name 'VitalDataset_fs'",
     "output_type": "error",
     "traceback": [
      "\u001b[0;31m---------------------------------------------------------------------------\u001b[0m",
      "\u001b[0;31mImportError\u001b[0m                               Traceback (most recent call last)",
      "\u001b[0;32m<ipython-input-15-d80d52d23b94>\u001b[0m in \u001b[0;36m<module>\u001b[0;34m\u001b[0m\n\u001b[0;32m----> 1\u001b[0;31m \u001b[0;32mfrom\u001b[0m \u001b[0mdataset\u001b[0m \u001b[0;32mimport\u001b[0m \u001b[0mVitalDataset_fs\u001b[0m\u001b[0;34m\u001b[0m\u001b[0;34m\u001b[0m\u001b[0m\n\u001b[0m",
      "\u001b[0;31mImportError\u001b[0m: cannot import name 'VitalDataset_fs'"
     ]
    }
   ],
   "source": [
    "from dataset import VitalDataset_fs"
   ]
  },
  {
   "cell_type": "code",
   "execution_count": null,
   "id": "3cd84c38-99f3-4f1a-b808-a75b96ff8a7d",
   "metadata": {},
   "outputs": [],
   "source": []
  }
 ],
 "metadata": {
  "kernelspec": {
   "display_name": "torch0",
   "language": "python",
   "name": "torch0"
  },
  "language_info": {
   "codemirror_mode": {
    "name": "ipython",
    "version": 3
   },
   "file_extension": ".py",
   "mimetype": "text/x-python",
   "name": "python",
   "nbconvert_exporter": "python",
   "pygments_lexer": "ipython3",
   "version": "3.6.13"
  }
 },
 "nbformat": 4,
 "nbformat_minor": 5
}
