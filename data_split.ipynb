{
 "cells": [
  {
   "cell_type": "code",
   "execution_count": 1,
   "id": "79044d14-670e-46cf-a54e-29d679e1aa0b",
   "metadata": {},
   "outputs": [],
   "source": [
    "import json\n",
    "with open('../data/pd_gy/all_2.json','r') as f:\n",
    "    jf = json.load(f)"
   ]
  },
  {
   "cell_type": "markdown",
   "id": "c6a0f665-a356-4e4a-b814-5126f107a658",
   "metadata": {
    "tags": []
   },
   "source": [
    "## Split "
   ]
  },
  {
   "cell_type": "code",
   "execution_count": null,
   "id": "81fab902-ea38-46b2-8a30-f8e7d109858f",
   "metadata": {},
   "outputs": [],
   "source": [
    "# train:val:test = 361:100:200\n",
    "import pandas as pd\n",
    "from sklearn.model_selection import train_test_split\n",
    "\n",
    "nrs2 = [x['nrs2'] for x in jf]\n",
    "xtr, xte= train_test_split(jf, train_size=361, shuffle=True, stratify=nrs2, random_state=34)\n",
    "\n",
    "nrs2_ = [x['nrs2'] for x in xte]\n",
    "xte, xval= train_test_split(xte, train_size=200, shuffle=True, stratify=nrs2_, random_state=34)"
   ]
  },
  {
   "cell_type": "markdown",
   "id": "c421de1f-92b6-4719-8309-2da297956caa",
   "metadata": {},
   "source": [
    "### v4 split (all_3.json) "
   ]
  },
  {
   "cell_type": "code",
   "execution_count": 7,
   "id": "e0804658-bc0d-4cd7-9373-3b17644fd90f",
   "metadata": {},
   "outputs": [],
   "source": [
    "import json\n",
    "idx = 3\n",
    "with open(f'../data/pd_gy/all_{idx}.json','r') as f:\n",
    "    jf = json.load(f)"
   ]
  },
  {
   "cell_type": "code",
   "execution_count": 8,
   "id": "3e2d8c97-1430-4fa1-b0af-f545951ee7d6",
   "metadata": {},
   "outputs": [
    {
     "data": {
      "text/plain": [
       "647"
      ]
     },
     "execution_count": 8,
     "metadata": {},
     "output_type": "execute_result"
    }
   ],
   "source": [
    "len(jf)"
   ]
  },
  {
   "cell_type": "code",
   "execution_count": 9,
   "id": "0c3543cd-9735-494c-a11f-adf2d7270b05",
   "metadata": {},
   "outputs": [],
   "source": [
    "# (649) = train:val:test = 349:100:200\n",
    "import pandas as pd\n",
    "from sklearn.model_selection import train_test_split\n",
    "\n",
    "nrs2 = [x['nrs_2'] for x in jf]\n",
    "xtr, xte= train_test_split(jf, test_size=300, shuffle=True, stratify=nrs2, random_state=34)\n",
    "\n",
    "nrs2_ = [x['nrs_2'] for x in xte]\n",
    "xte, xval= train_test_split(xte, train_size=200, shuffle=True, stratify=nrs2_, random_state=34)"
   ]
  },
  {
   "cell_type": "code",
   "execution_count": 10,
   "id": "f8a42e64-8d3e-4d77-a048-7d478b3428c9",
   "metadata": {},
   "outputs": [
    {
     "name": "stdout",
     "output_type": "stream",
     "text": [
      "xtr:xval:xte = 347:100:200\n"
     ]
    }
   ],
   "source": [
    "print(f'xtr:xval:xte = {len(xtr)}:{len(xval)}:{len(xte)}')"
   ]
  },
  {
   "cell_type": "code",
   "execution_count": 11,
   "id": "3ad884e6-0f12-4e0f-a844-3d91805e2378",
   "metadata": {},
   "outputs": [],
   "source": [
    "with open(f'../data/pd_gy/train_{idx}.json','w') as f:\n",
    "    json.dump(xtr,f)\n",
    "with open(f'../data/pd_gy/val_{idx}.json','w') as f:\n",
    "    json.dump(xval,f)\n",
    "with open(f'../data/pd_gy/test_{idx}.json','w') as f:\n",
    "    json.dump(xte,f)"
   ]
  },
  {
   "cell_type": "code",
   "execution_count": 13,
   "id": "9a6de7ac-635b-45a1-a644-dc5e5633f2f5",
   "metadata": {},
   "outputs": [
    {
     "name": "stdout",
     "output_type": "stream",
     "text": [
      "0    287\n",
      "1     60\n",
      "Name: nrs_2, dtype: int64\n",
      "0    83\n",
      "1    17\n",
      "Name: nrs_2, dtype: int64\n",
      "0    165\n",
      "1     35\n",
      "Name: nrs_2, dtype: int64\n"
     ]
    }
   ],
   "source": [
    "print(pd.DataFrame(xtr)['nrs_2'].value_counts())\n",
    "print(pd.DataFrame(xval)['nrs_2'].value_counts())\n",
    "print(pd.DataFrame(xte)['nrs_2'].value_counts())"
   ]
  },
  {
   "cell_type": "markdown",
   "id": "0379bec4-90e8-4b37-9ce7-a23dea84ee38",
   "metadata": {},
   "source": [
    "## Save "
   ]
  },
  {
   "cell_type": "code",
   "execution_count": null,
   "id": "487c5dd1-0dd1-452e-9892-a1297da8461f",
   "metadata": {},
   "outputs": [],
   "source": [
    "with open(f'../data/pd_gy/train_{idx}.json','w') as f:\n",
    "    json.dump(xtr,f)\n",
    "with open(f'../data/pd_gy/val_{idx}.json','w') as f:\n",
    "    json.dump(xval,f)\n",
    "with open(f'../data/pd_gy/test_{idx}.json','w') as f:\n",
    "    json.dump(xte,f)"
   ]
  },
  {
   "cell_type": "markdown",
   "id": "ecd226e8-41fa-4300-bc17-510d2cd48de6",
   "metadata": {},
   "source": [
    "## ETC"
   ]
  },
  {
   "cell_type": "code",
   "execution_count": 9,
   "id": "4a3f223d-ec59-4650-a999-b66b954bf33d",
   "metadata": {},
   "outputs": [
    {
     "data": {
      "text/plain": [
       "661"
      ]
     },
     "execution_count": 9,
     "metadata": {},
     "output_type": "execute_result"
    }
   ],
   "source": [
    "len(jf)"
   ]
  },
  {
   "cell_type": "code",
   "execution_count": 21,
   "id": "0962ff6f-5019-4b90-bcb6-edda518b0a32",
   "metadata": {},
   "outputs": [
    {
     "data": {
      "text/plain": [
       "0    298\n",
       "1     63\n",
       "Name: nrs2, dtype: int64"
      ]
     },
     "execution_count": 21,
     "metadata": {},
     "output_type": "execute_result"
    }
   ],
   "source": [
    "pd.DataFrame(xtr)['nrs2'].value_counts()"
   ]
  },
  {
   "cell_type": "code",
   "execution_count": 23,
   "id": "6f69afd0-8d1c-4a3b-965b-18e99eef7a49",
   "metadata": {},
   "outputs": [
    {
     "data": {
      "text/plain": [
       "0    82\n",
       "1    18\n",
       "Name: nrs2, dtype: int64"
      ]
     },
     "execution_count": 23,
     "metadata": {},
     "output_type": "execute_result"
    }
   ],
   "source": [
    "pd.DataFrame(xval)['nrs2'].value_counts()"
   ]
  },
  {
   "cell_type": "code",
   "execution_count": 22,
   "id": "218ef64c-f98f-405d-85d8-69125de547e4",
   "metadata": {},
   "outputs": [
    {
     "data": {
      "text/plain": [
       "0    165\n",
       "1     35\n",
       "Name: nrs2, dtype: int64"
      ]
     },
     "execution_count": 22,
     "metadata": {},
     "output_type": "execute_result"
    }
   ],
   "source": [
    "pd.DataFrame(xte)['nrs2'].value_counts()"
   ]
  }
 ],
 "metadata": {
  "kernelspec": {
   "display_name": "torch0",
   "language": "python",
   "name": "torch0"
  },
  "language_info": {
   "codemirror_mode": {
    "name": "ipython",
    "version": 3
   },
   "file_extension": ".py",
   "mimetype": "text/x-python",
   "name": "python",
   "nbconvert_exporter": "python",
   "pygments_lexer": "ipython3",
   "version": "3.6.13"
  }
 },
 "nbformat": 4,
 "nbformat_minor": 5
}
