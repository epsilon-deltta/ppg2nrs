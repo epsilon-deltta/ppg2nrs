{
 "cells": [
  {
   "cell_type": "code",
   "execution_count": 1,
   "id": "79044d14-670e-46cf-a54e-29d679e1aa0b",
   "metadata": {},
   "outputs": [],
   "source": [
    "import json\n",
    "with open('../data/pd_gy/all_2.json','r') as f:\n",
    "    jf = json.load(f)"
   ]
  },
  {
   "cell_type": "markdown",
   "id": "c6a0f665-a356-4e4a-b814-5126f107a658",
   "metadata": {},
   "source": [
    "## Split "
   ]
  },
  {
   "cell_type": "code",
   "execution_count": null,
   "id": "81fab902-ea38-46b2-8a30-f8e7d109858f",
   "metadata": {},
   "outputs": [],
   "source": [
    "# train:val:test = 361:100:200\n",
    "import pandas as pd\n",
    "from sklearn.model_selection import train_test_split\n",
    "\n",
    "nrs2 = [x['nrs2'] for x in jf]\n",
    "xtr, xte= train_test_split(jf, train_size=361, shuffle=True, stratify=nrs2, random_state=34)\n",
    "\n",
    "nrs2_ = [x['nrs2'] for x in xte]\n",
    "xte, xval= train_test_split(xte, train_size=200, shuffle=True, stratify=nrs2_, random_state=34)"
   ]
  },
  {
   "cell_type": "markdown",
   "id": "0379bec4-90e8-4b37-9ce7-a23dea84ee38",
   "metadata": {},
   "source": [
    "## Save "
   ]
  },
  {
   "cell_type": "code",
   "execution_count": null,
   "id": "487c5dd1-0dd1-452e-9892-a1297da8461f",
   "metadata": {},
   "outputs": [],
   "source": [
    "with open('../data/pd_gy/train_2.json','w') as f:\n",
    "    json.dump(xtr,f)\n",
    "with open('../data/pd_gy/val_2.json','w') as f:\n",
    "    json.dump(xval,f)\n",
    "with open('../data/pd_gy/test_2.json','w') as f:\n",
    "    json.dump(xte,f)"
   ]
  },
  {
   "cell_type": "markdown",
   "id": "ecd226e8-41fa-4300-bc17-510d2cd48de6",
   "metadata": {},
   "source": [
    "## ETC"
   ]
  },
  {
   "cell_type": "code",
   "execution_count": 9,
   "id": "4a3f223d-ec59-4650-a999-b66b954bf33d",
   "metadata": {},
   "outputs": [
    {
     "data": {
      "text/plain": [
       "661"
      ]
     },
     "execution_count": 9,
     "metadata": {},
     "output_type": "execute_result"
    }
   ],
   "source": [
    "len(jf)"
   ]
  },
  {
   "cell_type": "code",
   "execution_count": 21,
   "id": "0962ff6f-5019-4b90-bcb6-edda518b0a32",
   "metadata": {},
   "outputs": [
    {
     "data": {
      "text/plain": [
       "0    298\n",
       "1     63\n",
       "Name: nrs2, dtype: int64"
      ]
     },
     "execution_count": 21,
     "metadata": {},
     "output_type": "execute_result"
    }
   ],
   "source": [
    "pd.DataFrame(xtr)['nrs2'].value_counts()"
   ]
  },
  {
   "cell_type": "code",
   "execution_count": 23,
   "id": "6f69afd0-8d1c-4a3b-965b-18e99eef7a49",
   "metadata": {},
   "outputs": [
    {
     "data": {
      "text/plain": [
       "0    82\n",
       "1    18\n",
       "Name: nrs2, dtype: int64"
      ]
     },
     "execution_count": 23,
     "metadata": {},
     "output_type": "execute_result"
    }
   ],
   "source": [
    "pd.DataFrame(xval)['nrs2'].value_counts()"
   ]
  },
  {
   "cell_type": "code",
   "execution_count": 22,
   "id": "218ef64c-f98f-405d-85d8-69125de547e4",
   "metadata": {},
   "outputs": [
    {
     "data": {
      "text/plain": [
       "0    165\n",
       "1     35\n",
       "Name: nrs2, dtype: int64"
      ]
     },
     "execution_count": 22,
     "metadata": {},
     "output_type": "execute_result"
    }
   ],
   "source": [
    "pd.DataFrame(xte)['nrs2'].value_counts()"
   ]
  },
  {
   "cell_type": "code",
   "execution_count": null,
   "id": "40ba6e0f-693d-4022-ba0e-e6b65028ef60",
   "metadata": {},
   "outputs": [],
   "source": []
  }
 ],
 "metadata": {
  "kernelspec": {
   "display_name": "torch0",
   "language": "python",
   "name": "torch0"
  },
  "language_info": {
   "codemirror_mode": {
    "name": "ipython",
    "version": 3
   },
   "file_extension": ".py",
   "mimetype": "text/x-python",
   "name": "python",
   "nbconvert_exporter": "python",
   "pygments_lexer": "ipython3",
   "version": "3.6.13"
  }
 },
 "nbformat": 4,
 "nbformat_minor": 5
}
